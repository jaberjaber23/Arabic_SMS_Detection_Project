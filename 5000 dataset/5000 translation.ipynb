{
 "cells": [
  {
   "cell_type": "code",
   "execution_count": 230,
   "id": "95dbaa65",
   "metadata": {},
   "outputs": [
    {
     "name": "stderr",
     "output_type": "stream",
     "text": [
      "[nltk_data] Downloading package stopwords to\n",
      "[nltk_data]     C:\\Users\\yazan\\AppData\\Roaming\\nltk_data...\n",
      "[nltk_data]   Package stopwords is already up-to-date!\n"
     ]
    }
   ],
   "source": [
    "import numpy as np\n",
    "import pandas as pd\n",
    "import seaborn as sns\n",
    "from sklearn.utils import resample\n",
    "import re\n",
    "import nltk\n",
    "stemmer = nltk.SnowballStemmer(\"english\")\n",
    "from nltk.corpus import stopwords\n",
    "import string\n",
    "stopword=set(stopwords.words('english'))\n",
    "import nltk\n",
    "from nltk.corpus import stopwords\n",
    "from nltk.stem import SnowballStemmer\n",
    "nltk.download('stopwords')\n",
    "\n",
    "from googletrans import Translator\n",
    "import googletrans\n",
    "import pandas as pd\n",
    "import time\n",
    "\n",
    "translator = Translator(service_urls=['translate.google.com'])"
   ]
  },
  {
   "cell_type": "code",
   "execution_count": 32,
   "id": "27afdca7",
   "metadata": {},
   "outputs": [],
   "source": [
    "df = pd.read_csv(\"train (1).csv\")"
   ]
  },
  {
   "cell_type": "code",
   "execution_count": 33,
   "id": "dfff4363",
   "metadata": {},
   "outputs": [
    {
     "data": {
      "text/html": [
       "<div>\n",
       "<style scoped>\n",
       "    .dataframe tbody tr th:only-of-type {\n",
       "        vertical-align: middle;\n",
       "    }\n",
       "\n",
       "    .dataframe tbody tr th {\n",
       "        vertical-align: top;\n",
       "    }\n",
       "\n",
       "    .dataframe thead th {\n",
       "        text-align: right;\n",
       "    }\n",
       "</style>\n",
       "<table border=\"1\" class=\"dataframe\">\n",
       "  <thead>\n",
       "    <tr style=\"text-align: right;\">\n",
       "      <th></th>\n",
       "      <th>sms</th>\n",
       "      <th>label</th>\n",
       "    </tr>\n",
       "  </thead>\n",
       "  <tbody>\n",
       "    <tr>\n",
       "      <th>0</th>\n",
       "      <td>Go until jurong point, crazy.. Available only ...</td>\n",
       "      <td>0</td>\n",
       "    </tr>\n",
       "    <tr>\n",
       "      <th>1</th>\n",
       "      <td>Ok lar... Joking wif u oni...\\n</td>\n",
       "      <td>0</td>\n",
       "    </tr>\n",
       "    <tr>\n",
       "      <th>2</th>\n",
       "      <td>Free entry in 2 a wkly comp to win FA Cup fina...</td>\n",
       "      <td>1</td>\n",
       "    </tr>\n",
       "    <tr>\n",
       "      <th>3</th>\n",
       "      <td>U dun say so early hor... U c already then say...</td>\n",
       "      <td>0</td>\n",
       "    </tr>\n",
       "    <tr>\n",
       "      <th>4</th>\n",
       "      <td>Nah I don't think he goes to usf, he lives aro...</td>\n",
       "      <td>0</td>\n",
       "    </tr>\n",
       "  </tbody>\n",
       "</table>\n",
       "</div>"
      ],
      "text/plain": [
       "                                                 sms  label\n",
       "0  Go until jurong point, crazy.. Available only ...      0\n",
       "1                    Ok lar... Joking wif u oni...\\n      0\n",
       "2  Free entry in 2 a wkly comp to win FA Cup fina...      1\n",
       "3  U dun say so early hor... U c already then say...      0\n",
       "4  Nah I don't think he goes to usf, he lives aro...      0"
      ]
     },
     "execution_count": 33,
     "metadata": {},
     "output_type": "execute_result"
    }
   ],
   "source": [
    "df.head()"
   ]
  },
  {
   "cell_type": "code",
   "execution_count": 34,
   "id": "02dd2eee",
   "metadata": {},
   "outputs": [
    {
     "data": {
      "text/plain": [
       "(5574, 2)"
      ]
     },
     "execution_count": 34,
     "metadata": {},
     "output_type": "execute_result"
    }
   ],
   "source": [
    "df.shape"
   ]
  },
  {
   "cell_type": "code",
   "execution_count": 35,
   "id": "44c4e75c",
   "metadata": {},
   "outputs": [
    {
     "name": "stderr",
     "output_type": "stream",
     "text": [
      "F:\\Conda\\lib\\site-packages\\seaborn\\_decorators.py:36: FutureWarning: Pass the following variable as a keyword arg: x. From version 0.12, the only valid positional argument will be `data`, and passing other arguments without an explicit keyword will result in an error or misinterpretation.\n",
      "  warnings.warn(\n"
     ]
    },
    {
     "data": {
      "text/plain": [
       "<AxesSubplot:xlabel='label', ylabel='count'>"
      ]
     },
     "execution_count": 35,
     "metadata": {},
     "output_type": "execute_result"
    },
    {
     "data": {
      "image/png": "[encoded data removed]",
      "text/plain": [
       "<Figure size 432x288 with 1 Axes>"
      ]
     },
     "metadata": {
      "needs_background": "light"
     },
     "output_type": "display_data"
    }
   ],
   "source": [
    "sns.countplot('label',data=df)"
   ]
  },
  {
   "cell_type": "code",
   "execution_count": 36,
   "id": "f0774e39",
   "metadata": {},
   "outputs": [
    {
     "data": {
      "text/plain": [
       "4827"
      ]
     },
     "execution_count": 36,
     "metadata": {},
     "output_type": "execute_result"
    }
   ],
   "source": [
    "len(df[df['label'] == 0])"
   ]
  },
  {
   "cell_type": "code",
   "execution_count": 37,
   "id": "56bd7ba2",
   "metadata": {},
   "outputs": [
    {
     "data": {
      "text/plain": [
       "747"
      ]
     },
     "execution_count": 37,
     "metadata": {},
     "output_type": "execute_result"
    }
   ],
   "source": [
    "len(df[df['label'] == 1])"
   ]
  },
  {
   "cell_type": "code",
   "execution_count": 38,
   "id": "a544289b",
   "metadata": {},
   "outputs": [],
   "source": [
    "# Count the number of instances in each class\n",
    "class_counts = df['label'].value_counts()\n",
    "\n",
    "# Identify the minority class label\n",
    "minority_class_label = class_counts.index[-1]\n",
    "\n",
    "# Split the dataset into minority and majority classes\n",
    "minority_class = df[df['label'] == minority_class_label]\n",
    "majority_class = df[df['label'] != minority_class_label]\n",
    "\n",
    "# Perform random under-sampling on the majority class\n",
    "n_samples = len(minority_class)\n",
    "majority_class_undersampled = resample(majority_class, n_samples=n_samples, replace=False, random_state=42)\n",
    "\n",
    "# Combine the minority and majority classes back into a single DataFrame\n",
    "df_undersampled = pd.concat([minority_class, majority_class_undersampled])\n",
    "\n",
    "# Shuffle the rows of the new DataFrame\n",
    "df = df_undersampled.sample(frac=1, random_state=42)"
   ]
  },
  {
   "cell_type": "code",
   "execution_count": 39,
   "id": "1d4e8381",
   "metadata": {},
   "outputs": [
    {
     "data": {
      "text/plain": [
       "(1494, 2)"
      ]
     },
     "execution_count": 39,
     "metadata": {},
     "output_type": "execute_result"
    }
   ],
   "source": [
    "df.shape"
   ]
  },
  {
   "cell_type": "code",
   "execution_count": 40,
   "id": "a89c78c5",
   "metadata": {},
   "outputs": [
    {
     "name": "stderr",
     "output_type": "stream",
     "text": [
      "F:\\Conda\\lib\\site-packages\\seaborn\\_decorators.py:36: FutureWarning: Pass the following variable as a keyword arg: x. From version 0.12, the only valid positional argument will be `data`, and passing other arguments without an explicit keyword will result in an error or misinterpretation.\n",
      "  warnings.warn(\n"
     ]
    },
    {
     "data": {
      "text/plain": [
       "<AxesSubplot:xlabel='label', ylabel='count'>"
      ]
     },
     "execution_count": 40,
     "metadata": {},
     "output_type": "execute_result"
    },
    {
     "data": {
      "image/png": "[encoded data removed]",
      "text/plain": [
       "<Figure size 432x288 with 1 Axes>"
      ]
     },
     "metadata": {
      "needs_background": "light"
     },
     "output_type": "display_data"
    }
   ],
   "source": [
    "sns.countplot('label',data=df)"
   ]
  },
  {
   "cell_type": "code",
   "execution_count": 41,
   "id": "9030f2c3",
   "metadata": {},
   "outputs": [
    {
     "data": {
      "text/plain": [
       "'Thank you, winner notified by sms. Good Luck! No future marketing reply STOP to 84122 customer services 08450542832\\n'"
      ]
     },
     "execution_count": 41,
     "metadata": {},
     "output_type": "execute_result"
    }
   ],
   "source": [
    "df.iloc[100]['sms']"
   ]
  },
  {
   "cell_type": "code",
   "execution_count": 42,
   "id": "e94436ef",
   "metadata": {},
   "outputs": [
    {
     "data": {
      "text/plain": [
       "1"
      ]
     },
     "execution_count": 42,
     "metadata": {},
     "output_type": "execute_result"
    }
   ],
   "source": [
    "df.iloc[100]['label']"
   ]
  },
  {
   "cell_type": "code",
   "execution_count": 43,
   "id": "d8199649",
   "metadata": {},
   "outputs": [],
   "source": [
    "def clean_text(text):\n",
    "    text = str(text).lower()\n",
    "    text = re.sub('\\[.*?\\]', '', text)\n",
    "    text = re.sub('https?://\\S+|www\\.\\S+', '', text)\n",
    "    text = re.sub('<.*?>+', '', text)\n",
    "    text = re.sub('[%s]' % re.escape(string.punctuation), '', text)\n",
    "    text = re.sub('\\n', '', text)\n",
    "    text = re.sub('\\w*\\d\\w*', '', text)\n",
    "    text = [word for word in text.split(' ') if word not in stopword]\n",
    "    text = \" \".join(text)\n",
    "    text = [stemmer.stem(word) for word in text.split(' ')]\n",
    "    text = \" \".join(text)\n",
    "    return text"
   ]
  },
  {
   "cell_type": "code",
   "execution_count": 44,
   "id": "a8e46d7c",
   "metadata": {},
   "outputs": [],
   "source": [
    "#df['sms'] = df['sms'].apply(clean_text)"
   ]
  },
  {
   "cell_type": "code",
   "execution_count": 45,
   "id": "47b5c1f5",
   "metadata": {},
   "outputs": [
    {
     "data": {
      "text/plain": [
       "'Thank you, winner notified by sms. Good Luck! No future marketing reply STOP to 84122 customer services 08450542832\\n'"
      ]
     },
     "execution_count": 45,
     "metadata": {},
     "output_type": "execute_result"
    }
   ],
   "source": [
    "df.iloc[100]['sms']"
   ]
  },
  {
   "cell_type": "code",
   "execution_count": 46,
   "id": "9464c873",
   "metadata": {},
   "outputs": [],
   "source": [
    "stop_words = set(stopwords.words('english'))\n",
    "stemmer = SnowballStemmer('english')\n",
    "\n",
    "def clean_text(text):\n",
    "    # Remove special characters and punctuation\n",
    "    text = re.sub(r'[^\\w\\s]','',text)\n",
    "    \n",
    "    # Convert to lowercase\n",
    "    text = text.lower()\n",
    "    \n",
    "    # Remove stop words\n",
    "    text = ' '.join([word for word in text.split() if word not in stop_words])\n",
    "    \n",
    "    # Stem text\n",
    "    text = ' '.join([stemmer.stem(word) for word in text.split()])\n",
    "    \n",
    "    return text\n",
    "\n",
    "# Apply the clean_text function to all text columns in the dataframe\n",
    "#df['sms'] = df['sms'].apply(clean_text)"
   ]
  },
  {
   "cell_type": "code",
   "execution_count": 47,
   "id": "08311628",
   "metadata": {},
   "outputs": [
    {
     "data": {
      "text/plain": [
       "'Thank you, winner notified by sms. Good Luck! No future marketing reply STOP to 84122 customer services 08450542832\\n'"
      ]
     },
     "execution_count": 47,
     "metadata": {},
     "output_type": "execute_result"
    }
   ],
   "source": [
    "df.iloc[100]['sms']"
   ]
  },
  {
   "cell_type": "code",
   "execution_count": 48,
   "id": "76f58972",
   "metadata": {},
   "outputs": [
    {
     "data": {
      "text/plain": [
       "(1494, 2)"
      ]
     },
     "execution_count": 48,
     "metadata": {},
     "output_type": "execute_result"
    }
   ],
   "source": [
    "df.shape"
   ]
  },
  {
   "cell_type": "code",
   "execution_count": 49,
   "id": "2dae838f",
   "metadata": {},
   "outputs": [],
   "source": [
    "df['sms'] = df['sms'].astype(str)"
   ]
  },
  {
   "cell_type": "code",
   "execution_count": 20,
   "id": "7c18200b",
   "metadata": {},
   "outputs": [],
   "source": [
    "df_translated = df.iloc[:200, :].copy()"
   ]
  },
  {
   "cell_type": "code",
   "execution_count": 21,
   "id": "2991173a",
   "metadata": {},
   "outputs": [
    {
     "data": {
      "text/plain": [
       "(200, 2)"
      ]
     },
     "execution_count": 21,
     "metadata": {},
     "output_type": "execute_result"
    }
   ],
   "source": [
    "df_translated.shape"
   ]
  },
  {
   "cell_type": "code",
   "execution_count": 231,
   "id": "5293eeb7",
   "metadata": {},
   "outputs": [],
   "source": [
    "# Read the dataframe from a CSV file\n",
    "# Define a function to translate text using the Google Translate API\n",
    "def translate_text(text, dest='ar'):\n",
    "    translation = translator.translate(text,src= 'en' ,dest=dest)\n",
    "    time.sleep(0.1)\n",
    "    return translation.text\n",
    "\n",
    "# Apply the translation function to all text columns in the dataframe\n",
    "#df_translated['sms'] = df_translated['sms'].apply(translate_text)\n",
    "\n",
    "# Write the translated dataframe to a CSV file\n",
    "#df.to_csv('translated_sms.csv', index=False)"
   ]
  },
  {
   "cell_type": "code",
   "execution_count": 23,
   "id": "2121ec63",
   "metadata": {},
   "outputs": [
    {
     "data": {
      "text/html": [
       "<div>\n",
       "<style scoped>\n",
       "    .dataframe tbody tr th:only-of-type {\n",
       "        vertical-align: middle;\n",
       "    }\n",
       "\n",
       "    .dataframe tbody tr th {\n",
       "        vertical-align: top;\n",
       "    }\n",
       "\n",
       "    .dataframe thead th {\n",
       "        text-align: right;\n",
       "    }\n",
       "</style>\n",
       "<table border=\"1\" class=\"dataframe\">\n",
       "  <thead>\n",
       "    <tr style=\"text-align: right;\">\n",
       "      <th></th>\n",
       "      <th>sms</th>\n",
       "      <th>label</th>\n",
       "    </tr>\n",
       "  </thead>\n",
       "  <tbody>\n",
       "    <tr>\n",
       "      <th>3415</th>\n",
       "      <td>ممنوع التصوير. يرجى إعادة إرسال.</td>\n",
       "      <td>0</td>\n",
       "    </tr>\n",
       "    <tr>\n",
       "      <th>4228</th>\n",
       "      <td>شراء بيضة واحدة لي da..please :)</td>\n",
       "      <td>0</td>\n",
       "    </tr>\n",
       "    <tr>\n",
       "      <th>2963</th>\n",
       "      <td>\"لا شيء! NORE IKNO DOSISCOUNT! SHITINNIT\"</td>\n",
       "      <td>0</td>\n",
       "    </tr>\n",
       "    <tr>\n",
       "      <th>2151</th>\n",
       "      <td>احتلت الطاولة ، أنا في انتظار الشجرة</td>\n",
       "      <td>0</td>\n",
       "    </tr>\n",
       "    <tr>\n",
       "      <th>3827</th>\n",
       "      <td>صباح الخير ، انتهت صلاحية جدي .. لذلك في إجازة...</td>\n",
       "      <td>0</td>\n",
       "    </tr>\n",
       "    <tr>\n",
       "      <th>4156</th>\n",
       "      <td>هل تريد هاتف فيديو جديد؟750 في أي وقت أي شبكة ...</td>\n",
       "      <td>1</td>\n",
       "    </tr>\n",
       "    <tr>\n",
       "      <th>3587</th>\n",
       "      <td>أنا ساخن n قرنية ومستعدة أنا أعيش محليًا لك - ...</td>\n",
       "      <td>1</td>\n",
       "    </tr>\n",
       "    <tr>\n",
       "      <th>2170</th>\n",
       "      <td>تسوق Till U Drop ، هل أنت ، إما 10K ، 5K ، 500...</td>\n",
       "      <td>1</td>\n",
       "    </tr>\n",
       "    <tr>\n",
       "      <th>2480</th>\n",
       "      <td>ارتعش من الغوغاء مع مجموعة هالوين من رسالة شعا...</td>\n",
       "      <td>1</td>\n",
       "    </tr>\n",
       "    <tr>\n",
       "      <th>1718</th>\n",
       "      <td>رائع!الأولاد ص.خذ جولة 2007 المملكة المتحدة.ار...</td>\n",
       "      <td>1</td>\n",
       "    </tr>\n",
       "    <tr>\n",
       "      <th>2656</th>\n",
       "      <td>عظيم!لا بد لي من الركض الآن حتى ttyl!</td>\n",
       "      <td>0</td>\n",
       "    </tr>\n",
       "    <tr>\n",
       "      <th>5280</th>\n",
       "      <td>عاجل!تم منح رقم هاتفك المحمول بجائزة 2000 جنيه...</td>\n",
       "      <td>1</td>\n",
       "    </tr>\n",
       "    <tr>\n",
       "      <th>3103</th>\n",
       "      <td>حتى لو كان صديقي هو كاهن اتصل به الآن</td>\n",
       "      <td>0</td>\n",
       "    </tr>\n",
       "    <tr>\n",
       "      <th>1425</th>\n",
       "      <td>نعم .. الآن رأيت رسالتك ..</td>\n",
       "      <td>0</td>\n",
       "    </tr>\n",
       "    <tr>\n",
       "      <th>492</th>\n",
       "      <td>تهاني!1 سنة ممر السينما الخاص ل 2 هو لك.اتصل ع...</td>\n",
       "      <td>1</td>\n",
       "    </tr>\n",
       "    <tr>\n",
       "      <th>1930</th>\n",
       "      <td>إدخال الأسبوع الأول المجاني 2 TextPod 4 A Chan...</td>\n",
       "      <td>1</td>\n",
       "    </tr>\n",
       "    <tr>\n",
       "      <th>941</th>\n",
       "      <td>لا ، نبيع كل شيء ، لذلك سيكون لدينا أطنان إذا ...</td>\n",
       "      <td>0</td>\n",
       "    </tr>\n",
       "    <tr>\n",
       "      <th>2663</th>\n",
       "      <td>مرحبا حبيبي كيف حالك اليوم؟أحب إجراء محادثة ، ...</td>\n",
       "      <td>1</td>\n",
       "    </tr>\n",
       "    <tr>\n",
       "      <th>4070</th>\n",
       "      <td>أتمنى ألا تستمتع كثيرًا بدوني !!أراك غدا أحب ج...</td>\n",
       "      <td>0</td>\n",
       "    </tr>\n",
       "    <tr>\n",
       "      <th>357</th>\n",
       "      <td>تهانينا ، حصلت على 500 من قسائم الأقراص المضغو...</td>\n",
       "      <td>1</td>\n",
       "    </tr>\n",
       "    <tr>\n",
       "      <th>3141</th>\n",
       "      <td>مثير نائب الرئيس ونصح لي أنا رطب ودافئ وجاهز ل...</td>\n",
       "      <td>1</td>\n",
       "    </tr>\n",
       "    <tr>\n",
       "      <th>5088</th>\n",
       "      <td>يا إلهي إذا لم يكن شيء واحد.قطتي لديها ديدان:/...</td>\n",
       "      <td>0</td>\n",
       "    </tr>\n",
       "    <tr>\n",
       "      <th>1221</th>\n",
       "      <td>رقم 1 نغمة نوكيا 4 أورغ كل أسبوع!فقط txt nok إ...</td>\n",
       "      <td>1</td>\n",
       "    </tr>\n",
       "    <tr>\n",
       "      <th>5549</th>\n",
       "      <td>هل كان عقدك المحمول 11 mnths؟أحدث موتورولا ، ن...</td>\n",
       "      <td>1</td>\n",
       "    </tr>\n",
       "    <tr>\n",
       "      <th>2791</th>\n",
       "      <td>لقد منحت بن 50 جنيهًا إسترلينيًا للعب 4 أموال ...</td>\n",
       "      <td>1</td>\n",
       "    </tr>\n",
       "    <tr>\n",
       "      <th>3647</th>\n",
       "      <td>يقول كارلوس إنه يمكننا التقاط منه لاحقًا ، لذا...</td>\n",
       "      <td>0</td>\n",
       "    </tr>\n",
       "    <tr>\n",
       "      <th>4796</th>\n",
       "      <td>رأى الرجال والدمى الليلة الماضية مع باتريك سوي...</td>\n",
       "      <td>0</td>\n",
       "    </tr>\n",
       "    <tr>\n",
       "      <th>979</th>\n",
       "      <td>مرحبًا ، يمكنك الدفع.مع راتب دي.فقط &amp; lt ؛#&amp; g...</td>\n",
       "      <td>0</td>\n",
       "    </tr>\n",
       "    <tr>\n",
       "      <th>5391</th>\n",
       "      <td>حسنًا ، حسنًا .. ثم .. ما هي خطة اليوم</td>\n",
       "      <td>0</td>\n",
       "    </tr>\n",
       "    <tr>\n",
       "      <th>5192</th>\n",
       "      <td>تشير سجلاتنا إلى أنه قد يحق لك الحصول على 5000...</td>\n",
       "      <td>1</td>\n",
       "    </tr>\n",
       "    <tr>\n",
       "      <th>1414</th>\n",
       "      <td>عزيزي لقد تمت دعوتك إلى Xchat.هذه هي محاولتنا ...</td>\n",
       "      <td>1</td>\n",
       "    </tr>\n",
       "    <tr>\n",
       "      <th>3574</th>\n",
       "      <td>لن تصدق ذلك ولكن هذا صحيح.انها لا تصدق txts!ال...</td>\n",
       "      <td>1</td>\n",
       "    </tr>\n",
       "    <tr>\n",
       "      <th>5113</th>\n",
       "      <td>لقد وصلت إلى SCH بالفعل ...</td>\n",
       "      <td>0</td>\n",
       "    </tr>\n",
       "    <tr>\n",
       "      <th>2448</th>\n",
       "      <td>tmr ثم ü brin lar ... aiya في وقت لاحق جئت n c...</td>\n",
       "      <td>0</td>\n",
       "    </tr>\n",
       "    <tr>\n",
       "      <th>4014</th>\n",
       "      <td>نعم.</td>\n",
       "      <td>0</td>\n",
       "    </tr>\n",
       "    <tr>\n",
       "      <th>3033</th>\n",
       "      <td>Jokin فقط لار ... :-) يعتمد على الهاتف الذي يم...</td>\n",
       "      <td>0</td>\n",
       "    </tr>\n",
       "    <tr>\n",
       "      <th>2290</th>\n",
       "      <td>هل كان هاتفك المحمول 11mths؟تحديث مجانًا إلى O...</td>\n",
       "      <td>1</td>\n",
       "    </tr>\n",
       "    <tr>\n",
       "      <th>1513</th>\n",
       "      <td>مرحبًا يا حلوة ، كنت أتساءل متى قضيت لحظة إذا ...</td>\n",
       "      <td>0</td>\n",
       "    </tr>\n",
       "    <tr>\n",
       "      <th>3164</th>\n",
       "      <td>هذه هي المرة الثانية التي حاولنا فيها الاتصال ...</td>\n",
       "      <td>1</td>\n",
       "    </tr>\n",
       "    <tr>\n",
       "      <th>527</th>\n",
       "      <td>عرض اليوم!المطالبة بك قسائم خصم بقيمة 150 جنيه...</td>\n",
       "      <td>1</td>\n",
       "    </tr>\n",
       "    <tr>\n",
       "      <th>4329</th>\n",
       "      <td>تهاني!2 Mobile 3G Videophones R لك.اتصل على 09...</td>\n",
       "      <td>1</td>\n",
       "    </tr>\n",
       "    <tr>\n",
       "      <th>3311</th>\n",
       "      <td>أوه هو.هل هذه هي المرة الأولى التي تستخدم فيها...</td>\n",
       "      <td>0</td>\n",
       "    </tr>\n",
       "    <tr>\n",
       "      <th>5118</th>\n",
       "      <td>شكرًا.يملأني بالهدوء الكامل والطمأنينة!</td>\n",
       "      <td>0</td>\n",
       "    </tr>\n",
       "    <tr>\n",
       "      <th>2688</th>\n",
       "      <td>أوكي</td>\n",
       "      <td>0</td>\n",
       "    </tr>\n",
       "    <tr>\n",
       "      <th>2010</th>\n",
       "      <td>لا أستطيع الاستمرار في هذا.لم أكن أبدًا نيتي أ...</td>\n",
       "      <td>0</td>\n",
       "    </tr>\n",
       "    <tr>\n",
       "      <th>2575</th>\n",
       "      <td>سيتم إرسال فيديو XXX PicsFree1 التالي المذهل ا...</td>\n",
       "      <td>1</td>\n",
       "    </tr>\n",
       "    <tr>\n",
       "      <th>346</th>\n",
       "      <td>gudnite .... tc ... ممارسة مستمرة</td>\n",
       "      <td>0</td>\n",
       "    </tr>\n",
       "    <tr>\n",
       "      <th>4398</th>\n",
       "      <td>متى عاد أبي.</td>\n",
       "      <td>0</td>\n",
       "    </tr>\n",
       "    <tr>\n",
       "      <th>5489</th>\n",
       "      <td>2p لكل دقيقة للاتصال بألمانيا 08448350055 من خ...</td>\n",
       "      <td>1</td>\n",
       "    </tr>\n",
       "    <tr>\n",
       "      <th>4381</th>\n",
       "      <td>القيام بذلك ولكن الاتصال بالإنترنت v بطيئة ولا...</td>\n",
       "      <td>0</td>\n",
       "    </tr>\n",
       "  </tbody>\n",
       "</table>\n",
       "</div>"
      ],
      "text/plain": [
       "                                                    sms  label\n",
       "3415                   ممنوع التصوير. يرجى إعادة إرسال.      0\n",
       "4228                   شراء بيضة واحدة لي da..please :)      0\n",
       "2963          \"لا شيء! NORE IKNO DOSISCOUNT! SHITINNIT\"      0\n",
       "2151               احتلت الطاولة ، أنا في انتظار الشجرة      0\n",
       "3827  صباح الخير ، انتهت صلاحية جدي .. لذلك في إجازة...      0\n",
       "4156  هل تريد هاتف فيديو جديد؟750 في أي وقت أي شبكة ...      1\n",
       "3587  أنا ساخن n قرنية ومستعدة أنا أعيش محليًا لك - ...      1\n",
       "2170  تسوق Till U Drop ، هل أنت ، إما 10K ، 5K ، 500...      1\n",
       "2480  ارتعش من الغوغاء مع مجموعة هالوين من رسالة شعا...      1\n",
       "1718  رائع!الأولاد ص.خذ جولة 2007 المملكة المتحدة.ار...      1\n",
       "2656              عظيم!لا بد لي من الركض الآن حتى ttyl!      0\n",
       "5280  عاجل!تم منح رقم هاتفك المحمول بجائزة 2000 جنيه...      1\n",
       "3103              حتى لو كان صديقي هو كاهن اتصل به الآن      0\n",
       "1425                         نعم .. الآن رأيت رسالتك ..      0\n",
       "492   تهاني!1 سنة ممر السينما الخاص ل 2 هو لك.اتصل ع...      1\n",
       "1930  إدخال الأسبوع الأول المجاني 2 TextPod 4 A Chan...      1\n",
       "941   لا ، نبيع كل شيء ، لذلك سيكون لدينا أطنان إذا ...      0\n",
       "2663  مرحبا حبيبي كيف حالك اليوم؟أحب إجراء محادثة ، ...      1\n",
       "4070  أتمنى ألا تستمتع كثيرًا بدوني !!أراك غدا أحب ج...      0\n",
       "357   تهانينا ، حصلت على 500 من قسائم الأقراص المضغو...      1\n",
       "3141  مثير نائب الرئيس ونصح لي أنا رطب ودافئ وجاهز ل...      1\n",
       "5088  يا إلهي إذا لم يكن شيء واحد.قطتي لديها ديدان:/...      0\n",
       "1221  رقم 1 نغمة نوكيا 4 أورغ كل أسبوع!فقط txt nok إ...      1\n",
       "5549  هل كان عقدك المحمول 11 mnths؟أحدث موتورولا ، ن...      1\n",
       "2791  لقد منحت بن 50 جنيهًا إسترلينيًا للعب 4 أموال ...      1\n",
       "3647  يقول كارلوس إنه يمكننا التقاط منه لاحقًا ، لذا...      0\n",
       "4796  رأى الرجال والدمى الليلة الماضية مع باتريك سوي...      0\n",
       "979   مرحبًا ، يمكنك الدفع.مع راتب دي.فقط & lt ؛#& g...      0\n",
       "5391             حسنًا ، حسنًا .. ثم .. ما هي خطة اليوم      0\n",
       "5192  تشير سجلاتنا إلى أنه قد يحق لك الحصول على 5000...      1\n",
       "1414  عزيزي لقد تمت دعوتك إلى Xchat.هذه هي محاولتنا ...      1\n",
       "3574  لن تصدق ذلك ولكن هذا صحيح.انها لا تصدق txts!ال...      1\n",
       "5113                        لقد وصلت إلى SCH بالفعل ...      0\n",
       "2448  tmr ثم ü brin lar ... aiya في وقت لاحق جئت n c...      0\n",
       "4014                                               نعم.      0\n",
       "3033  Jokin فقط لار ... :-) يعتمد على الهاتف الذي يم...      0\n",
       "2290  هل كان هاتفك المحمول 11mths؟تحديث مجانًا إلى O...      1\n",
       "1513  مرحبًا يا حلوة ، كنت أتساءل متى قضيت لحظة إذا ...      0\n",
       "3164  هذه هي المرة الثانية التي حاولنا فيها الاتصال ...      1\n",
       "527   عرض اليوم!المطالبة بك قسائم خصم بقيمة 150 جنيه...      1\n",
       "4329  تهاني!2 Mobile 3G Videophones R لك.اتصل على 09...      1\n",
       "3311  أوه هو.هل هذه هي المرة الأولى التي تستخدم فيها...      0\n",
       "5118            شكرًا.يملأني بالهدوء الكامل والطمأنينة!      0\n",
       "2688                                               أوكي      0\n",
       "2010  لا أستطيع الاستمرار في هذا.لم أكن أبدًا نيتي أ...      0\n",
       "2575  سيتم إرسال فيديو XXX PicsFree1 التالي المذهل ا...      1\n",
       "346                   gudnite .... tc ... ممارسة مستمرة      0\n",
       "4398                                       متى عاد أبي.      0\n",
       "5489  2p لكل دقيقة للاتصال بألمانيا 08448350055 من خ...      1\n",
       "4381  القيام بذلك ولكن الاتصال بالإنترنت v بطيئة ولا...      0"
      ]
     },
     "execution_count": 23,
     "metadata": {},
     "output_type": "execute_result"
    }
   ],
   "source": [
    "df_translated.head(50)"
   ]
  },
  {
   "cell_type": "code",
   "execution_count": 50,
   "id": "8dfb8b79",
   "metadata": {},
   "outputs": [
    {
     "data": {
      "text/plain": [
       "'شكرا لك ، الفائز الذي تم إخطاره من قبل الرسائل القصيرة.حظ سعيد!لا يوجد رد تسويقي مستقبلي توقف إلى 84122 خدمات العملاء 08450542832'"
      ]
     },
     "execution_count": 50,
     "metadata": {},
     "output_type": "execute_result"
    }
   ],
   "source": [
    "df_translated.iloc[100]['sms']"
   ]
  },
  {
   "cell_type": "code",
   "execution_count": 51,
   "id": "7a08ba8b",
   "metadata": {},
   "outputs": [
    {
     "data": {
      "text/plain": [
       "'عاجل!يرجى الاتصال على 09061213237 من خط أرضي.5000 جنيه إسترليني نقد أو 4* عطلة في انتظار جمع.T&CS SAE PO BOX 177 M227XY.16+'"
      ]
     },
     "execution_count": 51,
     "metadata": {},
     "output_type": "execute_result"
    }
   ],
   "source": [
    "df_translated.iloc[101]['sms']"
   ]
  },
  {
   "cell_type": "code",
   "execution_count": 53,
   "id": "e4ef7f53",
   "metadata": {},
   "outputs": [
    {
     "name": "stderr",
     "output_type": "stream",
     "text": [
      "C:\\Users\\yazan\\AppData\\Local\\Temp\\ipykernel_7936\\4250893930.py:2: SettingWithCopyWarning: \n",
      "A value is trying to be set on a copy of a slice from a DataFrame\n",
      "\n",
      "See the caveats in the documentation: https://pandas.pydata.org/pandas-docs/stable/user_guide/indexing.html#returning-a-view-versus-a-copy\n",
      "  df['sms'].iloc[i] = df_translated['sms'].iloc[i]\n"
     ]
    }
   ],
   "source": [
    "for i in range(len(df_translated)):   \n",
    "    df['sms'].iloc[i] = df_translated['sms'].iloc[i]"
   ]
  },
  {
   "cell_type": "code",
   "execution_count": 54,
   "id": "920536f2",
   "metadata": {},
   "outputs": [
    {
     "data": {
      "text/html": [
       "<div>\n",
       "<style scoped>\n",
       "    .dataframe tbody tr th:only-of-type {\n",
       "        vertical-align: middle;\n",
       "    }\n",
       "\n",
       "    .dataframe tbody tr th {\n",
       "        vertical-align: top;\n",
       "    }\n",
       "\n",
       "    .dataframe thead th {\n",
       "        text-align: right;\n",
       "    }\n",
       "</style>\n",
       "<table border=\"1\" class=\"dataframe\">\n",
       "  <thead>\n",
       "    <tr style=\"text-align: right;\">\n",
       "      <th></th>\n",
       "      <th>sms</th>\n",
       "      <th>label</th>\n",
       "    </tr>\n",
       "  </thead>\n",
       "  <tbody>\n",
       "    <tr>\n",
       "      <th>4349</th>\n",
       "      <td>أنت تعيدنا إلى إثبات الهوية الخاص بي و &amp; lt ؛#...</td>\n",
       "      <td>0</td>\n",
       "    </tr>\n",
       "    <tr>\n",
       "      <th>3634</th>\n",
       "      <td>هوى شين في دا ليب.</td>\n",
       "      <td>0</td>\n",
       "    </tr>\n",
       "    <tr>\n",
       "      <th>4703</th>\n",
       "      <td>في أي وقت ...</td>\n",
       "      <td>0</td>\n",
       "    </tr>\n",
       "    <tr>\n",
       "      <th>2659</th>\n",
       "      <td>ليس بعد chikku .. wat abt u؟</td>\n",
       "      <td>0</td>\n",
       "    </tr>\n",
       "    <tr>\n",
       "      <th>1073</th>\n",
       "      <td>عزيزي لقد تمت دعوتك إلى Xchat.هذه هي محاولتنا ...</td>\n",
       "      <td>1</td>\n",
       "    </tr>\n",
       "    <tr>\n",
       "      <th>2729</th>\n",
       "      <td>عاجل يرجى الاتصال على 09066612661 من الخط الأر...</td>\n",
       "      <td>1</td>\n",
       "    </tr>\n",
       "    <tr>\n",
       "      <th>1875</th>\n",
       "      <td>هل ترغب في رؤية صور XXX الخاصة بي ، فهي ساخنة ...</td>\n",
       "      <td>1</td>\n",
       "    </tr>\n",
       "    <tr>\n",
       "      <th>2079</th>\n",
       "      <td>85233 مجاني&gt; نغمة! رد حقيقي</td>\n",
       "      <td>1</td>\n",
       "    </tr>\n",
       "    <tr>\n",
       "      <th>4822</th>\n",
       "      <td>أنا بخير!لقد كنت أفكر فيك ...</td>\n",
       "      <td>0</td>\n",
       "    </tr>\n",
       "    <tr>\n",
       "      <th>792</th>\n",
       "      <td>كل e أفضل 4 ur driving tmr :-)</td>\n",
       "      <td>0</td>\n",
       "    </tr>\n",
       "    <tr>\n",
       "      <th>705</th>\n",
       "      <td>True dear..i sat to pray evening and felt so.s...</td>\n",
       "      <td>0</td>\n",
       "    </tr>\n",
       "    <tr>\n",
       "      <th>4450</th>\n",
       "      <td>Urgent UR awarded a complimentary trip to Euro...</td>\n",
       "      <td>1</td>\n",
       "    </tr>\n",
       "    <tr>\n",
       "      <th>2209</th>\n",
       "      <td>URGENT!! Your 4* Costa Del Sol Holiday or £500...</td>\n",
       "      <td>1</td>\n",
       "    </tr>\n",
       "    <tr>\n",
       "      <th>768</th>\n",
       "      <td>Sorry, I'll call later\\n</td>\n",
       "      <td>0</td>\n",
       "    </tr>\n",
       "    <tr>\n",
       "      <th>2248</th>\n",
       "      <td>Back 2 work 2morro half term over! Can U C me ...</td>\n",
       "      <td>1</td>\n",
       "    </tr>\n",
       "    <tr>\n",
       "      <th>1307</th>\n",
       "      <td>Enjoy the jamster videosound gold club with yo...</td>\n",
       "      <td>1</td>\n",
       "    </tr>\n",
       "    <tr>\n",
       "      <th>4967</th>\n",
       "      <td>URGENT! We are trying to contact U. Todays dra...</td>\n",
       "      <td>1</td>\n",
       "    </tr>\n",
       "    <tr>\n",
       "      <th>4249</th>\n",
       "      <td>accordingly. I repeat, just text the word ok o...</td>\n",
       "      <td>1</td>\n",
       "    </tr>\n",
       "    <tr>\n",
       "      <th>3831</th>\n",
       "      <td>I agree. So i can stop thinkin about ipad. Can...</td>\n",
       "      <td>0</td>\n",
       "    </tr>\n",
       "    <tr>\n",
       "      <th>424</th>\n",
       "      <td>URGENT! Your Mobile number has been awarded wi...</td>\n",
       "      <td>1</td>\n",
       "    </tr>\n",
       "  </tbody>\n",
       "</table>\n",
       "</div>"
      ],
      "text/plain": [
       "                                                    sms  label\n",
       "4349  أنت تعيدنا إلى إثبات الهوية الخاص بي و & lt ؛#...      0\n",
       "3634                                 هوى شين في دا ليب.      0\n",
       "4703                                      في أي وقت ...      0\n",
       "2659                       ليس بعد chikku .. wat abt u؟      0\n",
       "1073  عزيزي لقد تمت دعوتك إلى Xchat.هذه هي محاولتنا ...      1\n",
       "2729  عاجل يرجى الاتصال على 09066612661 من الخط الأر...      1\n",
       "1875  هل ترغب في رؤية صور XXX الخاصة بي ، فهي ساخنة ...      1\n",
       "2079                        85233 مجاني> نغمة! رد حقيقي      1\n",
       "4822                      أنا بخير!لقد كنت أفكر فيك ...      0\n",
       "792                      كل e أفضل 4 ur driving tmr :-)      0\n",
       "705   True dear..i sat to pray evening and felt so.s...      0\n",
       "4450  Urgent UR awarded a complimentary trip to Euro...      1\n",
       "2209  URGENT!! Your 4* Costa Del Sol Holiday or £500...      1\n",
       "768                            Sorry, I'll call later\\n      0\n",
       "2248  Back 2 work 2morro half term over! Can U C me ...      1\n",
       "1307  Enjoy the jamster videosound gold club with yo...      1\n",
       "4967  URGENT! We are trying to contact U. Todays dra...      1\n",
       "4249  accordingly. I repeat, just text the word ok o...      1\n",
       "3831  I agree. So i can stop thinkin about ipad. Can...      0\n",
       "424   URGENT! Your Mobile number has been awarded wi...      1"
      ]
     },
     "execution_count": 54,
     "metadata": {},
     "output_type": "execute_result"
    }
   ],
   "source": [
    "df.iloc[190:210,:]"
   ]
  },
  {
   "cell_type": "code",
   "execution_count": 62,
   "id": "46ee1a30",
   "metadata": {},
   "outputs": [],
   "source": [
    "df_translated = df.iloc[200:400, :].copy()\n",
    "df_translated['sms'] = df_translated['sms'].astype(str)"
   ]
  },
  {
   "cell_type": "code",
   "execution_count": 63,
   "id": "7fd328d4",
   "metadata": {},
   "outputs": [],
   "source": [
    "df_translated['sms'] = df_translated['sms'].apply(translate_text)"
   ]
  },
  {
   "cell_type": "code",
   "execution_count": 64,
   "id": "391ab84e",
   "metadata": {},
   "outputs": [
    {
     "data": {
      "text/plain": [
       "'هذه هي المرة الثانية التي حاولنا فيها الاتصال بك.لقد فازت بجائزة 400 جنيه إسترليني.2 المطالبة سهلة ، فقط اتصل على 087104711148 الآن!10p فقط في الدقيقة.معدل BT-National'"
      ]
     },
     "execution_count": 64,
     "metadata": {},
     "output_type": "execute_result"
    }
   ],
   "source": [
    "df_translated.iloc[100]['sms']"
   ]
  },
  {
   "cell_type": "code",
   "execution_count": 65,
   "id": "a967f92a",
   "metadata": {},
   "outputs": [
    {
     "data": {
      "text/plain": [
       "'This is the 2nd time we have tried to contact u. U have won the £400 prize. 2 claim is easy, just call 087104711148 NOW! Only 10p per minute. BT-national-rate\\n'"
      ]
     },
     "execution_count": 65,
     "metadata": {},
     "output_type": "execute_result"
    }
   ],
   "source": [
    "df.iloc[300]['sms']"
   ]
  },
  {
   "cell_type": "code",
   "execution_count": 66,
   "id": "7e63278b",
   "metadata": {},
   "outputs": [
    {
     "data": {
      "text/html": [
       "<div>\n",
       "<style scoped>\n",
       "    .dataframe tbody tr th:only-of-type {\n",
       "        vertical-align: middle;\n",
       "    }\n",
       "\n",
       "    .dataframe tbody tr th {\n",
       "        vertical-align: top;\n",
       "    }\n",
       "\n",
       "    .dataframe thead th {\n",
       "        text-align: right;\n",
       "    }\n",
       "</style>\n",
       "<table border=\"1\" class=\"dataframe\">\n",
       "  <thead>\n",
       "    <tr style=\"text-align: right;\">\n",
       "      <th></th>\n",
       "      <th>sms</th>\n",
       "      <th>label</th>\n",
       "    </tr>\n",
       "  </thead>\n",
       "  <tbody>\n",
       "    <tr>\n",
       "      <th>705</th>\n",
       "      <td>صحيح عزيزي .. جلست للصلاة في المساء وشعرت بذلك.</td>\n",
       "      <td>0</td>\n",
       "    </tr>\n",
       "    <tr>\n",
       "      <th>4450</th>\n",
       "      <td>منحت Urgent Uur رحلة مجانية إلى Eurodisinc Tra...</td>\n",
       "      <td>1</td>\n",
       "    </tr>\n",
       "    <tr>\n",
       "      <th>2209</th>\n",
       "      <td>عاجل!!عطلة 4* كوستا ديل سول أو 5000 جنيه إسترل...</td>\n",
       "      <td>1</td>\n",
       "    </tr>\n",
       "    <tr>\n",
       "      <th>768</th>\n",
       "      <td>آسف سأتصل في وقت لاحق</td>\n",
       "      <td>0</td>\n",
       "    </tr>\n",
       "    <tr>\n",
       "      <th>2248</th>\n",
       "      <td>مرة أخرى 2 العمل 2morro نصف مصطلح!هل يمكنك C M...</td>\n",
       "      <td>1</td>\n",
       "    </tr>\n",
       "    <tr>\n",
       "      <th>1307</th>\n",
       "      <td>استمتع بمقاطع فيديو Jamster Gold Club مع ائتما...</td>\n",
       "      <td>1</td>\n",
       "    </tr>\n",
       "    <tr>\n",
       "      <th>4967</th>\n",
       "      <td>عاجل!نحن نحاول الاتصال بعروض السحب اليوم U.اتص...</td>\n",
       "      <td>1</td>\n",
       "    </tr>\n",
       "    <tr>\n",
       "      <th>4249</th>\n",
       "      <td>وفقاً لذلك.أكرر ، فقط أرسل رسالة نصية على هاتف...</td>\n",
       "      <td>1</td>\n",
       "    </tr>\n",
       "    <tr>\n",
       "      <th>3831</th>\n",
       "      <td>أنا موافق.حتى أتمكن من التوقف عن التفكير في iP...</td>\n",
       "      <td>0</td>\n",
       "    </tr>\n",
       "    <tr>\n",
       "      <th>424</th>\n",
       "      <td>عاجل!تم منح رقم هاتفك المحمول بجائزة 2000 جنيه...</td>\n",
       "      <td>1</td>\n",
       "    </tr>\n",
       "    <tr>\n",
       "      <th>5041</th>\n",
       "      <td>تدعوك ناتالي (20/واو) لتكون صديقتها.الرد نعم-1...</td>\n",
       "      <td>1</td>\n",
       "    </tr>\n",
       "    <tr>\n",
       "      <th>2257</th>\n",
       "      <td>فقط تم التحقق منه ، متجهًا إلى الخروج لإسقاط أ...</td>\n",
       "      <td>0</td>\n",
       "    </tr>\n",
       "    <tr>\n",
       "      <th>649</th>\n",
       "      <td>لا مشكلة.سأرسل إلى بريدك الإلكتروني.</td>\n",
       "      <td>0</td>\n",
       "    </tr>\n",
       "    <tr>\n",
       "      <th>276</th>\n",
       "      <td>شكرا ...</td>\n",
       "      <td>0</td>\n",
       "    </tr>\n",
       "    <tr>\n",
       "      <th>25</th>\n",
       "      <td>فقط أجبرت نفسي على أكل شريحة.أنا حقًا لست جائع...</td>\n",
       "      <td>0</td>\n",
       "    </tr>\n",
       "    <tr>\n",
       "      <th>208</th>\n",
       "      <td>Aight yo ، dats مستقيم dogg</td>\n",
       "      <td>0</td>\n",
       "    </tr>\n",
       "    <tr>\n",
       "      <th>4995</th>\n",
       "      <td>لا يمكن قراءة محرك الأقراص إلا.أنا بحاجة إلى ا...</td>\n",
       "      <td>0</td>\n",
       "    </tr>\n",
       "    <tr>\n",
       "      <th>5370</th>\n",
       "      <td>رسالة مهمة.هذه محاولة اتصال أخيرة.لديك رسائل م...</td>\n",
       "      <td>1</td>\n",
       "    </tr>\n",
       "    <tr>\n",
       "      <th>1374</th>\n",
       "      <td>الدببة الموافقة المسبقة عن علم نيك ، وتوم ، بي...</td>\n",
       "      <td>1</td>\n",
       "    </tr>\n",
       "    <tr>\n",
       "      <th>1963</th>\n",
       "      <td>إلى 80488. تكون الرسائل النصية المجانية 500 صا...</td>\n",
       "      <td>1</td>\n",
       "    </tr>\n",
       "    <tr>\n",
       "      <th>1413</th>\n",
       "      <td>wen ur ur lovable bcums Angry Wid u ، dnt خذ ع...</td>\n",
       "      <td>0</td>\n",
       "    </tr>\n",
       "    <tr>\n",
       "      <th>409</th>\n",
       "      <td>رأس باتجاه Busetop</td>\n",
       "      <td>0</td>\n",
       "    </tr>\n",
       "    <tr>\n",
       "      <th>4108</th>\n",
       "      <td>تخيلات حية حارة نداء الآن 08707500020 فقط 20p ...</td>\n",
       "      <td>1</td>\n",
       "    </tr>\n",
       "    <tr>\n",
       "      <th>1518</th>\n",
       "      <td>إن خدمة الموسيقى المحمولة الجديدة لدينا الآن ح...</td>\n",
       "      <td>1</td>\n",
       "    </tr>\n",
       "    <tr>\n",
       "      <th>4103</th>\n",
       "      <td>حسنًا ، سأأتي إلى منزلك بعد نصف ساعة</td>\n",
       "      <td>0</td>\n",
       "    </tr>\n",
       "    <tr>\n",
       "      <th>167</th>\n",
       "      <td>عاجل!نحن نحاول الاتصال بك.عروض السحب في عطلة ن...</td>\n",
       "      <td>1</td>\n",
       "    </tr>\n",
       "    <tr>\n",
       "      <th>385</th>\n",
       "      <td>Double Mins و Txts 4 6 أشهر من البلوتوث المجان...</td>\n",
       "      <td>1</td>\n",
       "    </tr>\n",
       "    <tr>\n",
       "      <th>1385</th>\n",
       "      <td>اقتحام MSG: Wen U Lift D Phne ، تقول \"مرحبًا\" ...</td>\n",
       "      <td>0</td>\n",
       "    </tr>\n",
       "    <tr>\n",
       "      <th>1389</th>\n",
       "      <td>يا ك. أعتقد أن معظم لاعبي WI و NZ غير مباعة.</td>\n",
       "      <td>0</td>\n",
       "    </tr>\n",
       "    <tr>\n",
       "      <th>485</th>\n",
       "      <td>يجب عليك تغيير FB إلى Jaykwon Thuglyfe Falconerf</td>\n",
       "      <td>0</td>\n",
       "    </tr>\n",
       "    <tr>\n",
       "      <th>3155</th>\n",
       "      <td>لم تسمع من u4 لفترة.اتصل على 4 وقح الدردشة الخ...</td>\n",
       "      <td>1</td>\n",
       "    </tr>\n",
       "    <tr>\n",
       "      <th>4855</th>\n",
       "      <td>أيضًا في ولاية كارولينا الشمالية وتكساس ATM ، ...</td>\n",
       "      <td>0</td>\n",
       "    </tr>\n",
       "    <tr>\n",
       "      <th>2610</th>\n",
       "      <td>رائع ، أرسل لي رسالة نصية عندما يتم إعادة تخزينك</td>\n",
       "      <td>0</td>\n",
       "    </tr>\n",
       "    <tr>\n",
       "      <th>2665</th>\n",
       "      <td>لا يزال بإخوانه بين بروس</td>\n",
       "      <td>0</td>\n",
       "    </tr>\n",
       "    <tr>\n",
       "      <th>1849</th>\n",
       "      <td>لا أريد أن أسمع الفلسفة.فقط قل ماذا حدث</td>\n",
       "      <td>0</td>\n",
       "    </tr>\n",
       "    <tr>\n",
       "      <th>1889</th>\n",
       "      <td>رقم في الطريق إلى المنزل.لذا ، إذا لم يكن الأم...</td>\n",
       "      <td>0</td>\n",
       "    </tr>\n",
       "    <tr>\n",
       "      <th>2011</th>\n",
       "      <td>Dunno Lei ... لقد كنت أمي كسول للخروج ... أنا ...</td>\n",
       "      <td>0</td>\n",
       "    </tr>\n",
       "    <tr>\n",
       "      <th>4576</th>\n",
       "      <td>ليس وراء ... أبت 4 صفوف وراء ü ...</td>\n",
       "      <td>0</td>\n",
       "    </tr>\n",
       "    <tr>\n",
       "      <th>2927</th>\n",
       "      <td>أنا انتهيت.مجرد دراسة في المكتبة</td>\n",
       "      <td>0</td>\n",
       "    </tr>\n",
       "    <tr>\n",
       "      <th>4577</th>\n",
       "      <td>تهانينا ، حصلت على 500 من قسائم الأقراص المضغو...</td>\n",
       "      <td>1</td>\n",
       "    </tr>\n",
       "    <tr>\n",
       "      <th>2374</th>\n",
       "      <td>جائزة عيد الميلاد تسحب!نحن نحاول الاتصال بعروض...</td>\n",
       "      <td>1</td>\n",
       "    </tr>\n",
       "    <tr>\n",
       "      <th>5144</th>\n",
       "      <td>الآن بعد أن بدأت لا تتوقف.ما عليك سوى الدعاء ل...</td>\n",
       "      <td>0</td>\n",
       "    </tr>\n",
       "    <tr>\n",
       "      <th>690</th>\n",
       "      <td>&lt;يتم إعادة توجيهها من 448712404000&gt; يرجى الاتص...</td>\n",
       "      <td>1</td>\n",
       "    </tr>\n",
       "    <tr>\n",
       "      <th>3978</th>\n",
       "      <td>عرض جديد رائع - Double Mins &amp; Double Txt على أ...</td>\n",
       "      <td>1</td>\n",
       "    </tr>\n",
       "    <tr>\n",
       "      <th>27</th>\n",
       "      <td>هل التقطت الحافلة؟هل تقطع بيضة؟هل صنعت شاي؟هل ...</td>\n",
       "      <td>0</td>\n",
       "    </tr>\n",
       "    <tr>\n",
       "      <th>4555</th>\n",
       "      <td>حاول أن تفعل شيئًا عزيزًا.تقرأ شيئًا للامتحانات</td>\n",
       "      <td>0</td>\n",
       "    </tr>\n",
       "    <tr>\n",
       "      <th>4587</th>\n",
       "      <td>ميلا ، سن 23 ، شقراء ، جديدة في المملكة المتحد...</td>\n",
       "      <td>1</td>\n",
       "    </tr>\n",
       "    <tr>\n",
       "      <th>1373</th>\n",
       "      <td>1) انتقل إلى كتابة MSG 2) وضع على وضع القاموس ...</td>\n",
       "      <td>0</td>\n",
       "    </tr>\n",
       "    <tr>\n",
       "      <th>5282</th>\n",
       "      <td>Vikky ، Come &amp; lt ؛ time &amp; gt ؛..</td>\n",
       "      <td>0</td>\n",
       "    </tr>\n",
       "    <tr>\n",
       "      <th>210</th>\n",
       "      <td>كلاهما :) أطلق النار على الأحمال الكبيرة لذا ا...</td>\n",
       "      <td>0</td>\n",
       "    </tr>\n",
       "  </tbody>\n",
       "</table>\n",
       "</div>"
      ],
      "text/plain": [
       "                                                    sms  label\n",
       "705     صحيح عزيزي .. جلست للصلاة في المساء وشعرت بذلك.      0\n",
       "4450  منحت Urgent Uur رحلة مجانية إلى Eurodisinc Tra...      1\n",
       "2209  عاجل!!عطلة 4* كوستا ديل سول أو 5000 جنيه إسترل...      1\n",
       "768                               آسف سأتصل في وقت لاحق      0\n",
       "2248  مرة أخرى 2 العمل 2morro نصف مصطلح!هل يمكنك C M...      1\n",
       "1307  استمتع بمقاطع فيديو Jamster Gold Club مع ائتما...      1\n",
       "4967  عاجل!نحن نحاول الاتصال بعروض السحب اليوم U.اتص...      1\n",
       "4249  وفقاً لذلك.أكرر ، فقط أرسل رسالة نصية على هاتف...      1\n",
       "3831  أنا موافق.حتى أتمكن من التوقف عن التفكير في iP...      0\n",
       "424   عاجل!تم منح رقم هاتفك المحمول بجائزة 2000 جنيه...      1\n",
       "5041  تدعوك ناتالي (20/واو) لتكون صديقتها.الرد نعم-1...      1\n",
       "2257  فقط تم التحقق منه ، متجهًا إلى الخروج لإسقاط أ...      0\n",
       "649                لا مشكلة.سأرسل إلى بريدك الإلكتروني.      0\n",
       "276                                            شكرا ...      0\n",
       "25    فقط أجبرت نفسي على أكل شريحة.أنا حقًا لست جائع...      0\n",
       "208                         Aight yo ، dats مستقيم dogg      0\n",
       "4995  لا يمكن قراءة محرك الأقراص إلا.أنا بحاجة إلى ا...      0\n",
       "5370  رسالة مهمة.هذه محاولة اتصال أخيرة.لديك رسائل م...      1\n",
       "1374  الدببة الموافقة المسبقة عن علم نيك ، وتوم ، بي...      1\n",
       "1963  إلى 80488. تكون الرسائل النصية المجانية 500 صا...      1\n",
       "1413  wen ur ur lovable bcums Angry Wid u ، dnt خذ ع...      0\n",
       "409                                  رأس باتجاه Busetop      0\n",
       "4108  تخيلات حية حارة نداء الآن 08707500020 فقط 20p ...      1\n",
       "1518  إن خدمة الموسيقى المحمولة الجديدة لدينا الآن ح...      1\n",
       "4103               حسنًا ، سأأتي إلى منزلك بعد نصف ساعة      0\n",
       "167   عاجل!نحن نحاول الاتصال بك.عروض السحب في عطلة ن...      1\n",
       "385   Double Mins و Txts 4 6 أشهر من البلوتوث المجان...      1\n",
       "1385  اقتحام MSG: Wen U Lift D Phne ، تقول \"مرحبًا\" ...      0\n",
       "1389       يا ك. أعتقد أن معظم لاعبي WI و NZ غير مباعة.      0\n",
       "485    يجب عليك تغيير FB إلى Jaykwon Thuglyfe Falconerf      0\n",
       "3155  لم تسمع من u4 لفترة.اتصل على 4 وقح الدردشة الخ...      1\n",
       "4855  أيضًا في ولاية كارولينا الشمالية وتكساس ATM ، ...      0\n",
       "2610   رائع ، أرسل لي رسالة نصية عندما يتم إعادة تخزينك      0\n",
       "2665                           لا يزال بإخوانه بين بروس      0\n",
       "1849            لا أريد أن أسمع الفلسفة.فقط قل ماذا حدث      0\n",
       "1889  رقم في الطريق إلى المنزل.لذا ، إذا لم يكن الأم...      0\n",
       "2011  Dunno Lei ... لقد كنت أمي كسول للخروج ... أنا ...      0\n",
       "4576                 ليس وراء ... أبت 4 صفوف وراء ü ...      0\n",
       "2927                   أنا انتهيت.مجرد دراسة في المكتبة      0\n",
       "4577  تهانينا ، حصلت على 500 من قسائم الأقراص المضغو...      1\n",
       "2374  جائزة عيد الميلاد تسحب!نحن نحاول الاتصال بعروض...      1\n",
       "5144  الآن بعد أن بدأت لا تتوقف.ما عليك سوى الدعاء ل...      0\n",
       "690   <يتم إعادة توجيهها من 448712404000> يرجى الاتص...      1\n",
       "3978  عرض جديد رائع - Double Mins & Double Txt على أ...      1\n",
       "27    هل التقطت الحافلة؟هل تقطع بيضة؟هل صنعت شاي؟هل ...      0\n",
       "4555    حاول أن تفعل شيئًا عزيزًا.تقرأ شيئًا للامتحانات      0\n",
       "4587  ميلا ، سن 23 ، شقراء ، جديدة في المملكة المتحد...      1\n",
       "1373  1) انتقل إلى كتابة MSG 2) وضع على وضع القاموس ...      0\n",
       "5282                  Vikky ، Come & lt ؛ time & gt ؛..      0\n",
       "210   كلاهما :) أطلق النار على الأحمال الكبيرة لذا ا...      0"
      ]
     },
     "execution_count": 66,
     "metadata": {},
     "output_type": "execute_result"
    }
   ],
   "source": [
    "df_translated.head(50)"
   ]
  },
  {
   "cell_type": "code",
   "execution_count": 70,
   "id": "653874e6",
   "metadata": {},
   "outputs": [
    {
     "data": {
      "text/plain": [
       "'شكرًا على طلب نغمة الرنين ، رقم المرجع K718.سيتم تحميل هاتفك المحمول 4.50 جنيه إسترليني.إذا لم تصل لهجتك ، يرجى الاتصال بخدمات العملاء على 09065069120'"
      ]
     },
     "execution_count": 70,
     "metadata": {},
     "output_type": "execute_result"
    }
   ],
   "source": [
    "df_translated.iloc[199]['sms']"
   ]
  },
  {
   "cell_type": "code",
   "execution_count": 72,
   "id": "b8615279",
   "metadata": {},
   "outputs": [
    {
     "data": {
      "text/plain": [
       "'Thanks for your ringtone order, ref number K718. Your mobile will be charged £4.50. Should your tone not arrive please call customer services on 09065069120\\n'"
      ]
     },
     "execution_count": 72,
     "metadata": {},
     "output_type": "execute_result"
    }
   ],
   "source": [
    "df.iloc[399]['sms']"
   ]
  },
  {
   "cell_type": "code",
   "execution_count": 73,
   "id": "a755849b",
   "metadata": {},
   "outputs": [],
   "source": [
    "backup = df.copy()"
   ]
  },
  {
   "cell_type": "code",
   "execution_count": 83,
   "id": "3e613e1f",
   "metadata": {},
   "outputs": [
    {
     "name": "stderr",
     "output_type": "stream",
     "text": [
      "C:\\Users\\yazan\\AppData\\Local\\Temp\\ipykernel_7936\\3458339559.py:2: SettingWithCopyWarning: \n",
      "A value is trying to be set on a copy of a slice from a DataFrame\n",
      "\n",
      "See the caveats in the documentation: https://pandas.pydata.org/pandas-docs/stable/user_guide/indexing.html#returning-a-view-versus-a-copy\n",
      "  df['sms'].iloc[i] = df_translated['sms'].iloc[i-200]\n"
     ]
    }
   ],
   "source": [
    "for i in range(200,400):   \n",
    "    df['sms'].iloc[i] = df_translated['sms'].iloc[i-200]"
   ]
  },
  {
   "cell_type": "code",
   "execution_count": 84,
   "id": "7dc522c7",
   "metadata": {},
   "outputs": [
    {
     "data": {
      "text/html": [
       "<div>\n",
       "<style scoped>\n",
       "    .dataframe tbody tr th:only-of-type {\n",
       "        vertical-align: middle;\n",
       "    }\n",
       "\n",
       "    .dataframe tbody tr th {\n",
       "        vertical-align: top;\n",
       "    }\n",
       "\n",
       "    .dataframe thead th {\n",
       "        text-align: right;\n",
       "    }\n",
       "</style>\n",
       "<table border=\"1\" class=\"dataframe\">\n",
       "  <thead>\n",
       "    <tr style=\"text-align: right;\">\n",
       "      <th></th>\n",
       "      <th>sms</th>\n",
       "      <th>label</th>\n",
       "    </tr>\n",
       "  </thead>\n",
       "  <tbody>\n",
       "    <tr>\n",
       "      <th>4643</th>\n",
       "      <td>أنت ممزق!احصل على محتوى الهاتف المحمول من www....</td>\n",
       "      <td>1</td>\n",
       "    </tr>\n",
       "    <tr>\n",
       "      <th>1714</th>\n",
       "      <td>Hard Live 121 Chat فقط 60p/min.اختر فتاتك واتص...</td>\n",
       "      <td>1</td>\n",
       "    </tr>\n",
       "    <tr>\n",
       "      <th>2417</th>\n",
       "      <td>ألا تقرأني يا حبيبتي؟جاوبتك</td>\n",
       "      <td>0</td>\n",
       "    </tr>\n",
       "    <tr>\n",
       "      <th>4011</th>\n",
       "      <td>WAN2 اربح لقاء+تحية مع Westlife 4 U أو M8؟هم ح...</td>\n",
       "      <td>1</td>\n",
       "    </tr>\n",
       "    <tr>\n",
       "      <th>1468</th>\n",
       "      <td>لن أتطرق إليك دون إذنك.</td>\n",
       "      <td>0</td>\n",
       "    </tr>\n",
       "    <tr>\n",
       "      <th>740</th>\n",
       "      <td>هاها ربما أنت على حق ... أنت تعرفني جيدًا.دا ا...</td>\n",
       "      <td>0</td>\n",
       "    </tr>\n",
       "    <tr>\n",
       "      <th>4397</th>\n",
       "      <td>عزيزي:-/ لماذا أنت مزاج.لا أستطيع القيادة لذلك...</td>\n",
       "      <td>0</td>\n",
       "    </tr>\n",
       "    <tr>\n",
       "      <th>4972</th>\n",
       "      <td>يا تعال على الإنترنت!استخدم MSN ... نحن جميعًا...</td>\n",
       "      <td>0</td>\n",
       "    </tr>\n",
       "    <tr>\n",
       "      <th>3713</th>\n",
       "      <td>ماذا تفعل هناك؟</td>\n",
       "      <td>0</td>\n",
       "    </tr>\n",
       "    <tr>\n",
       "      <th>2224</th>\n",
       "      <td>شكرًا على طلب نغمة الرنين ، رقم المرجع K718.سي...</td>\n",
       "      <td>1</td>\n",
       "    </tr>\n",
       "    <tr>\n",
       "      <th>3462</th>\n",
       "      <td>K.. I yan jiu liao... Sat we can go 4 bugis vi...</td>\n",
       "      <td>0</td>\n",
       "    </tr>\n",
       "    <tr>\n",
       "      <th>2910</th>\n",
       "      <td>URGENT! Your Mobile number has been awarded wi...</td>\n",
       "      <td>1</td>\n",
       "    </tr>\n",
       "    <tr>\n",
       "      <th>2705</th>\n",
       "      <td>FreeMsg: Fancy a flirt? Reply DATE now &amp; join ...</td>\n",
       "      <td>1</td>\n",
       "    </tr>\n",
       "    <tr>\n",
       "      <th>368</th>\n",
       "      <td>Here is your discount code RP176781. To stop f...</td>\n",
       "      <td>1</td>\n",
       "    </tr>\n",
       "    <tr>\n",
       "      <th>4102</th>\n",
       "      <td>GSOH? Good with SPAM the ladies?U could b a ma...</td>\n",
       "      <td>1</td>\n",
       "    </tr>\n",
       "    <tr>\n",
       "      <th>3489</th>\n",
       "      <td>Still i have not checked it da. . .\\n</td>\n",
       "      <td>0</td>\n",
       "    </tr>\n",
       "    <tr>\n",
       "      <th>2261</th>\n",
       "      <td>SplashMobile: Choose from 1000s of gr8 tones e...</td>\n",
       "      <td>1</td>\n",
       "    </tr>\n",
       "    <tr>\n",
       "      <th>589</th>\n",
       "      <td>Ya srsly better than yi tho\\n</td>\n",
       "      <td>0</td>\n",
       "    </tr>\n",
       "    <tr>\n",
       "      <th>752</th>\n",
       "      <td>You have an important customer service announc...</td>\n",
       "      <td>1</td>\n",
       "    </tr>\n",
       "    <tr>\n",
       "      <th>5485</th>\n",
       "      <td>So li hai... Me bored now da lecturer repeatin...</td>\n",
       "      <td>0</td>\n",
       "    </tr>\n",
       "  </tbody>\n",
       "</table>\n",
       "</div>"
      ],
      "text/plain": [
       "                                                    sms  label\n",
       "4643  أنت ممزق!احصل على محتوى الهاتف المحمول من www....      1\n",
       "1714  Hard Live 121 Chat فقط 60p/min.اختر فتاتك واتص...      1\n",
       "2417                        ألا تقرأني يا حبيبتي؟جاوبتك      0\n",
       "4011  WAN2 اربح لقاء+تحية مع Westlife 4 U أو M8؟هم ح...      1\n",
       "1468                            لن أتطرق إليك دون إذنك.      0\n",
       "740   هاها ربما أنت على حق ... أنت تعرفني جيدًا.دا ا...      0\n",
       "4397  عزيزي:-/ لماذا أنت مزاج.لا أستطيع القيادة لذلك...      0\n",
       "4972  يا تعال على الإنترنت!استخدم MSN ... نحن جميعًا...      0\n",
       "3713                                    ماذا تفعل هناك؟      0\n",
       "2224  شكرًا على طلب نغمة الرنين ، رقم المرجع K718.سي...      1\n",
       "3462  K.. I yan jiu liao... Sat we can go 4 bugis vi...      0\n",
       "2910  URGENT! Your Mobile number has been awarded wi...      1\n",
       "2705  FreeMsg: Fancy a flirt? Reply DATE now & join ...      1\n",
       "368   Here is your discount code RP176781. To stop f...      1\n",
       "4102  GSOH? Good with SPAM the ladies?U could b a ma...      1\n",
       "3489              Still i have not checked it da. . .\\n      0\n",
       "2261  SplashMobile: Choose from 1000s of gr8 tones e...      1\n",
       "589                       Ya srsly better than yi tho\\n      0\n",
       "752   You have an important customer service announc...      1\n",
       "5485  So li hai... Me bored now da lecturer repeatin...      0"
      ]
     },
     "execution_count": 84,
     "metadata": {},
     "output_type": "execute_result"
    }
   ],
   "source": [
    "df.iloc[390:410,:]"
   ]
  },
  {
   "cell_type": "code",
   "execution_count": 85,
   "id": "794b5dba",
   "metadata": {},
   "outputs": [],
   "source": [
    "backup = df.copy()"
   ]
  },
  {
   "cell_type": "code",
   "execution_count": 89,
   "id": "379ba226",
   "metadata": {},
   "outputs": [
    {
     "data": {
      "text/plain": [
       "'K.. I yan jiu liao... Sat we can go 4 bugis vill one frm 10 to 3 den hop to parco 4 nb. Sun can go cine frm 1030 to 2, den hop to orc mrt 4 hip hop at 4...\\n'"
      ]
     },
     "execution_count": 89,
     "metadata": {},
     "output_type": "execute_result"
    }
   ],
   "source": [
    "df.iloc[400]['sms']"
   ]
  },
  {
   "cell_type": "code",
   "execution_count": 94,
   "id": "73a0c289",
   "metadata": {},
   "outputs": [],
   "source": [
    "df_translated = df.iloc[400:500, :].copy()\n",
    "df_translated['sms'] = df_translated['sms'].astype(str)"
   ]
  },
  {
   "cell_type": "code",
   "execution_count": 95,
   "id": "98c9642f",
   "metadata": {},
   "outputs": [],
   "source": [
    "df_translated['sms'] = df_translated['sms'].apply(translate_text)"
   ]
  },
  {
   "cell_type": "code",
   "execution_count": 97,
   "id": "91feca30",
   "metadata": {},
   "outputs": [
    {
     "data": {
      "text/plain": [
       "'يا طفل من المنزل.كيف لا تملك أي صور جديدة على Facebook'"
      ]
     },
     "execution_count": 97,
     "metadata": {},
     "output_type": "execute_result"
    }
   ],
   "source": [
    "df_translated.iloc[99]['sms']"
   ]
  },
  {
   "cell_type": "code",
   "execution_count": 100,
   "id": "92de74d8",
   "metadata": {},
   "outputs": [
    {
     "data": {
      "text/plain": [
       "'Oh baby of the house. How come you dont have any new pictures on facebook\\n'"
      ]
     },
     "execution_count": 100,
     "metadata": {},
     "output_type": "execute_result"
    }
   ],
   "source": [
    "df.iloc[499]['sms']"
   ]
  },
  {
   "cell_type": "code",
   "execution_count": 102,
   "id": "65e48b07",
   "metadata": {},
   "outputs": [
    {
     "data": {
      "text/plain": [
       "'يا طفل من المنزل.كيف لا تملك أي صور جديدة على Facebook'"
      ]
     },
     "execution_count": 102,
     "metadata": {},
     "output_type": "execute_result"
    }
   ],
   "source": [
    "df_translated.iloc[99]['sms']"
   ]
  },
  {
   "cell_type": "code",
   "execution_count": 103,
   "id": "9acd4b8a",
   "metadata": {},
   "outputs": [
    {
     "data": {
      "text/html": [
       "<div>\n",
       "<style scoped>\n",
       "    .dataframe tbody tr th:only-of-type {\n",
       "        vertical-align: middle;\n",
       "    }\n",
       "\n",
       "    .dataframe tbody tr th {\n",
       "        vertical-align: top;\n",
       "    }\n",
       "\n",
       "    .dataframe thead th {\n",
       "        text-align: right;\n",
       "    }\n",
       "</style>\n",
       "<table border=\"1\" class=\"dataframe\">\n",
       "  <thead>\n",
       "    <tr style=\"text-align: right;\">\n",
       "      <th></th>\n",
       "      <th>sms</th>\n",
       "      <th>label</th>\n",
       "    </tr>\n",
       "  </thead>\n",
       "  <tbody>\n",
       "    <tr>\n",
       "      <th>3462</th>\n",
       "      <td>ك .. أنا يان جيو لياو ... سبت يمكننا أن نذهب 4...</td>\n",
       "      <td>0</td>\n",
       "    </tr>\n",
       "    <tr>\n",
       "      <th>2910</th>\n",
       "      <td>عاجل!تم منح رقم هاتفك المحمول بجائزة 2000 جنيه...</td>\n",
       "      <td>1</td>\n",
       "    </tr>\n",
       "    <tr>\n",
       "      <th>2705</th>\n",
       "      <td>Freemsg: يتوهم مغازلة؟تاريخ الرد الآن وانضم إل...</td>\n",
       "      <td>1</td>\n",
       "    </tr>\n",
       "    <tr>\n",
       "      <th>368</th>\n",
       "      <td>هنا هو رمز الخصم الخاص بك RP176781.لإيقاف المز...</td>\n",
       "      <td>1</td>\n",
       "    </tr>\n",
       "    <tr>\n",
       "      <th>4102</th>\n",
       "      <td>GSOH؟جيد مع البريد العشوائي للسيدات؟ هل يمكنك ...</td>\n",
       "      <td>1</td>\n",
       "    </tr>\n",
       "    <tr>\n",
       "      <th>3489</th>\n",
       "      <td>ما زلت لم أتحقق من ذلك...</td>\n",
       "      <td>0</td>\n",
       "    </tr>\n",
       "    <tr>\n",
       "      <th>2261</th>\n",
       "      <td>Splash Mobile: اختر من 1000 من GR8 نغمات كل أس...</td>\n",
       "      <td>1</td>\n",
       "    </tr>\n",
       "    <tr>\n",
       "      <th>589</th>\n",
       "      <td>يا srsly أفضل من يي ثو</td>\n",
       "      <td>0</td>\n",
       "    </tr>\n",
       "    <tr>\n",
       "      <th>752</th>\n",
       "      <td>لديك إعلان مهم لخدمة العملاء من Premier.</td>\n",
       "      <td>1</td>\n",
       "    </tr>\n",
       "    <tr>\n",
       "      <th>5485</th>\n",
       "      <td>لذلك لي هاي ... أنا أشعر بالملل الآن محاضر دا ...</td>\n",
       "      <td>0</td>\n",
       "    </tr>\n",
       "    <tr>\n",
       "      <th>5193</th>\n",
       "      <td>آسف سأتصل في وقت لاحق</td>\n",
       "      <td>0</td>\n",
       "    </tr>\n",
       "    <tr>\n",
       "      <th>709</th>\n",
       "      <td>لمراجعة وحفظ سطح لعبة Nokia N-Gage الرائعة مع ...</td>\n",
       "      <td>1</td>\n",
       "    </tr>\n",
       "    <tr>\n",
       "      <th>2455</th>\n",
       "      <td>اليسار الحلوى.u wan me 2 اذهب suntec انظر 4 u؟</td>\n",
       "      <td>0</td>\n",
       "    </tr>\n",
       "    <tr>\n",
       "      <th>4931</th>\n",
       "      <td>مرحبًا ، تنتظرك فتيات SexyChat لإرسال رسالة نص...</td>\n",
       "      <td>1</td>\n",
       "    </tr>\n",
       "    <tr>\n",
       "      <th>1800</th>\n",
       "      <td>إذا ضربناها ، يمكنك الانتقال معي :)</td>\n",
       "      <td>0</td>\n",
       "    </tr>\n",
       "    <tr>\n",
       "      <th>1893</th>\n",
       "      <td>اتصل على 09090900040 واستمع إلى الدردشة المباش...</td>\n",
       "      <td>1</td>\n",
       "    </tr>\n",
       "    <tr>\n",
       "      <th>4675</th>\n",
       "      <td>سأغادر منزلي الآن.</td>\n",
       "      <td>0</td>\n",
       "    </tr>\n",
       "    <tr>\n",
       "      <th>2115</th>\n",
       "      <td>عطلات الشمس.للمطالبة بعطلة ميد ، أرسل مظروفًا ...</td>\n",
       "      <td>1</td>\n",
       "    </tr>\n",
       "    <tr>\n",
       "      <th>4841</th>\n",
       "      <td>خاص!بيان الحساب لعام 2003 الخاص بك للعروض 800 ...</td>\n",
       "      <td>1</td>\n",
       "    </tr>\n",
       "    <tr>\n",
       "      <th>2591</th>\n",
       "      <td>لول يجب أن آخذه.العضو كيف قلت لم يزور عمتي تدف...</td>\n",
       "      <td>0</td>\n",
       "    </tr>\n",
       "    <tr>\n",
       "      <th>5117</th>\n",
       "      <td>احصل على 3 أسود إنجلترا نغمة ، رد Lionm 4 Mono...</td>\n",
       "      <td>1</td>\n",
       "    </tr>\n",
       "    <tr>\n",
       "      <th>1656</th>\n",
       "      <td>في الساعة 7 سنذهب على ما يرام.</td>\n",
       "      <td>0</td>\n",
       "    </tr>\n",
       "    <tr>\n",
       "      <th>2767</th>\n",
       "      <td>متزوجة نساء محليات يبحثن عن عمل سري الآن!5 مبا...</td>\n",
       "      <td>1</td>\n",
       "    </tr>\n",
       "    <tr>\n",
       "      <th>2070</th>\n",
       "      <td>Eerie Nokia Tones 4U ، TOLLE TOLE TOTAL إلى 80...</td>\n",
       "      <td>1</td>\n",
       "    </tr>\n",
       "    <tr>\n",
       "      <th>4737</th>\n",
       "      <td>ليس للحيازة ، لا سيما الجريمة الأولى</td>\n",
       "      <td>0</td>\n",
       "    </tr>\n",
       "    <tr>\n",
       "      <th>5492</th>\n",
       "      <td>ك. سأرسلها مرة أخرى</td>\n",
       "      <td>0</td>\n",
       "    </tr>\n",
       "    <tr>\n",
       "      <th>837</th>\n",
       "      <td>هل تريد 750 في أي وقت في أي شبكة MINS 150 نصًا...</td>\n",
       "      <td>1</td>\n",
       "    </tr>\n",
       "    <tr>\n",
       "      <th>2352</th>\n",
       "      <td>قم بتنزيل أكبر عدد ممكن من نغمات الرنين كما تح...</td>\n",
       "      <td>1</td>\n",
       "    </tr>\n",
       "    <tr>\n",
       "      <th>2095</th>\n",
       "      <td>خاص!يظهر بيان حسابك لعام 2004 لـ 07742676969 7...</td>\n",
       "      <td>1</td>\n",
       "    </tr>\n",
       "    <tr>\n",
       "      <th>4061</th>\n",
       "      <td>يمكن الآن الوصول إلى عروض أعضاء Savamob هذا ال...</td>\n",
       "      <td>1</td>\n",
       "    </tr>\n",
       "    <tr>\n",
       "      <th>5372</th>\n",
       "      <td>المواعدة: لقد كان لدي اثنين من هؤلاء.بدأت فقط ...</td>\n",
       "      <td>1</td>\n",
       "    </tr>\n",
       "    <tr>\n",
       "      <th>4480</th>\n",
       "      <td>erutupalam thandiyachu</td>\n",
       "      <td>0</td>\n",
       "    </tr>\n",
       "    <tr>\n",
       "      <th>2596</th>\n",
       "      <td>مسابقة Sunshine Wkly Q!اربح أفضل لاعب Sony DVD...</td>\n",
       "      <td>1</td>\n",
       "    </tr>\n",
       "    <tr>\n",
       "      <th>1122</th>\n",
       "      <td>هل تريد 750 في أي وقت أي شبكة MINS 150 نصًا وه...</td>\n",
       "      <td>1</td>\n",
       "    </tr>\n",
       "    <tr>\n",
       "      <th>4758</th>\n",
       "      <td>مرحبًا ، يبدو أنني كنت مخطئًا وأن أحد أرقام رف...</td>\n",
       "      <td>0</td>\n",
       "    </tr>\n",
       "    <tr>\n",
       "      <th>883</th>\n",
       "      <td>أحب إعطاء التدليك.أستخدم الكثير من زيت الأطفال...</td>\n",
       "      <td>0</td>\n",
       "    </tr>\n",
       "    <tr>\n",
       "      <th>2245</th>\n",
       "      <td>لا ألغاز الإدارة.</td>\n",
       "      <td>0</td>\n",
       "    </tr>\n",
       "    <tr>\n",
       "      <th>1458</th>\n",
       "      <td>كلير هنا أنا هافين بورين بتوقيت وأنا الآن وحيد...</td>\n",
       "      <td>1</td>\n",
       "    </tr>\n",
       "    <tr>\n",
       "      <th>4527</th>\n",
       "      <td>اريد بعض الديك!زوجي بعيدًا ، أحتاج إلى رجل حقي...</td>\n",
       "      <td>1</td>\n",
       "    </tr>\n",
       "    <tr>\n",
       "      <th>881</th>\n",
       "      <td>تذكير: لم تقم بتنزيل المحتوى الذي دفعته بالفعل...</td>\n",
       "      <td>1</td>\n",
       "    </tr>\n",
       "    <tr>\n",
       "      <th>851</th>\n",
       "      <td>تصل إلى بستان بالفعل؟u wan 2 اذهب لشراء التذاك...</td>\n",
       "      <td>0</td>\n",
       "    </tr>\n",
       "    <tr>\n",
       "      <th>2468</th>\n",
       "      <td>هل هناك يوم الجمعة القادم هو إجازة ل Pongal؟ ه...</td>\n",
       "      <td>0</td>\n",
       "    </tr>\n",
       "    <tr>\n",
       "      <th>3069</th>\n",
       "      <td>يا فتى من الأفضل أن تحصل على الحمار هنا بسرعة</td>\n",
       "      <td>0</td>\n",
       "    </tr>\n",
       "    <tr>\n",
       "      <th>5330</th>\n",
       "      <td>عزيزتي كيف حالك؟</td>\n",
       "      <td>0</td>\n",
       "    </tr>\n",
       "    <tr>\n",
       "      <th>814</th>\n",
       "      <td>أنا أقترض حقيبتك حسنا.</td>\n",
       "      <td>0</td>\n",
       "    </tr>\n",
       "    <tr>\n",
       "      <th>682</th>\n",
       "      <td>ü تسجيل الخروج 4 الطريق.إنه جاف 8i</td>\n",
       "      <td>0</td>\n",
       "    </tr>\n",
       "    <tr>\n",
       "      <th>3921</th>\n",
       "      <td>حرة&gt; نغمة!رد حقيقي أو بولي على سبيل المثال rea...</td>\n",
       "      <td>1</td>\n",
       "    </tr>\n",
       "    <tr>\n",
       "      <th>1375</th>\n",
       "      <td>500 هواتف جديدة من عام 2004 ، يجب أن تذهب!TXT:...</td>\n",
       "      <td>1</td>\n",
       "    </tr>\n",
       "    <tr>\n",
       "      <th>267</th>\n",
       "      <td>لست متأكدًا بعد ، ما زلت أحاول الحصول على عقده</td>\n",
       "      <td>0</td>\n",
       "    </tr>\n",
       "    <tr>\n",
       "      <th>3766</th>\n",
       "      <td>شخص ما تعرفه طلب خدمة المواعدة 2 الاتصال بك!لا...</td>\n",
       "      <td>1</td>\n",
       "    </tr>\n",
       "  </tbody>\n",
       "</table>\n",
       "</div>"
      ],
      "text/plain": [
       "                                                    sms  label\n",
       "3462  ك .. أنا يان جيو لياو ... سبت يمكننا أن نذهب 4...      0\n",
       "2910  عاجل!تم منح رقم هاتفك المحمول بجائزة 2000 جنيه...      1\n",
       "2705  Freemsg: يتوهم مغازلة؟تاريخ الرد الآن وانضم إل...      1\n",
       "368   هنا هو رمز الخصم الخاص بك RP176781.لإيقاف المز...      1\n",
       "4102  GSOH؟جيد مع البريد العشوائي للسيدات؟ هل يمكنك ...      1\n",
       "3489                          ما زلت لم أتحقق من ذلك...      0\n",
       "2261  Splash Mobile: اختر من 1000 من GR8 نغمات كل أس...      1\n",
       "589                              يا srsly أفضل من يي ثو      0\n",
       "752            لديك إعلان مهم لخدمة العملاء من Premier.      1\n",
       "5485  لذلك لي هاي ... أنا أشعر بالملل الآن محاضر دا ...      0\n",
       "5193                              آسف سأتصل في وقت لاحق      0\n",
       "709   لمراجعة وحفظ سطح لعبة Nokia N-Gage الرائعة مع ...      1\n",
       "2455     اليسار الحلوى.u wan me 2 اذهب suntec انظر 4 u؟      0\n",
       "4931  مرحبًا ، تنتظرك فتيات SexyChat لإرسال رسالة نص...      1\n",
       "1800                إذا ضربناها ، يمكنك الانتقال معي :)      0\n",
       "1893  اتصل على 09090900040 واستمع إلى الدردشة المباش...      1\n",
       "4675                                 سأغادر منزلي الآن.      0\n",
       "2115  عطلات الشمس.للمطالبة بعطلة ميد ، أرسل مظروفًا ...      1\n",
       "4841  خاص!بيان الحساب لعام 2003 الخاص بك للعروض 800 ...      1\n",
       "2591  لول يجب أن آخذه.العضو كيف قلت لم يزور عمتي تدف...      0\n",
       "5117  احصل على 3 أسود إنجلترا نغمة ، رد Lionm 4 Mono...      1\n",
       "1656                     في الساعة 7 سنذهب على ما يرام.      0\n",
       "2767  متزوجة نساء محليات يبحثن عن عمل سري الآن!5 مبا...      1\n",
       "2070  Eerie Nokia Tones 4U ، TOLLE TOLE TOTAL إلى 80...      1\n",
       "4737               ليس للحيازة ، لا سيما الجريمة الأولى      0\n",
       "5492                                ك. سأرسلها مرة أخرى      0\n",
       "837   هل تريد 750 في أي وقت في أي شبكة MINS 150 نصًا...      1\n",
       "2352  قم بتنزيل أكبر عدد ممكن من نغمات الرنين كما تح...      1\n",
       "2095  خاص!يظهر بيان حسابك لعام 2004 لـ 07742676969 7...      1\n",
       "4061  يمكن الآن الوصول إلى عروض أعضاء Savamob هذا ال...      1\n",
       "5372  المواعدة: لقد كان لدي اثنين من هؤلاء.بدأت فقط ...      1\n",
       "4480                             erutupalam thandiyachu      0\n",
       "2596  مسابقة Sunshine Wkly Q!اربح أفضل لاعب Sony DVD...      1\n",
       "1122  هل تريد 750 في أي وقت أي شبكة MINS 150 نصًا وه...      1\n",
       "4758  مرحبًا ، يبدو أنني كنت مخطئًا وأن أحد أرقام رف...      0\n",
       "883   أحب إعطاء التدليك.أستخدم الكثير من زيت الأطفال...      0\n",
       "2245                                  لا ألغاز الإدارة.      0\n",
       "1458  كلير هنا أنا هافين بورين بتوقيت وأنا الآن وحيد...      1\n",
       "4527  اريد بعض الديك!زوجي بعيدًا ، أحتاج إلى رجل حقي...      1\n",
       "881   تذكير: لم تقم بتنزيل المحتوى الذي دفعته بالفعل...      1\n",
       "851   تصل إلى بستان بالفعل؟u wan 2 اذهب لشراء التذاك...      0\n",
       "2468  هل هناك يوم الجمعة القادم هو إجازة ل Pongal؟ ه...      0\n",
       "3069      يا فتى من الأفضل أن تحصل على الحمار هنا بسرعة      0\n",
       "5330                                   عزيزتي كيف حالك؟      0\n",
       "814                              أنا أقترض حقيبتك حسنا.      0\n",
       "682                  ü تسجيل الخروج 4 الطريق.إنه جاف 8i      0\n",
       "3921  حرة> نغمة!رد حقيقي أو بولي على سبيل المثال rea...      1\n",
       "1375  500 هواتف جديدة من عام 2004 ، يجب أن تذهب!TXT:...      1\n",
       "267      لست متأكدًا بعد ، ما زلت أحاول الحصول على عقده      0\n",
       "3766  شخص ما تعرفه طلب خدمة المواعدة 2 الاتصال بك!لا...      1"
      ]
     },
     "execution_count": 103,
     "metadata": {},
     "output_type": "execute_result"
    }
   ],
   "source": [
    "df_translated.head(50)"
   ]
  },
  {
   "cell_type": "code",
   "execution_count": 105,
   "id": "9b99dd72",
   "metadata": {},
   "outputs": [],
   "source": [
    "backup = df.copy()"
   ]
  },
  {
   "cell_type": "code",
   "execution_count": 107,
   "id": "5656cbc7",
   "metadata": {},
   "outputs": [
    {
     "name": "stderr",
     "output_type": "stream",
     "text": [
      "C:\\Users\\yazan\\AppData\\Local\\Temp\\ipykernel_7936\\3198085210.py:2: SettingWithCopyWarning: \n",
      "A value is trying to be set on a copy of a slice from a DataFrame\n",
      "\n",
      "See the caveats in the documentation: https://pandas.pydata.org/pandas-docs/stable/user_guide/indexing.html#returning-a-view-versus-a-copy\n",
      "  df['sms'].iloc[i] = df_translated['sms'].iloc[i-400]\n"
     ]
    }
   ],
   "source": [
    "for i in range(400,500):   \n",
    "    df['sms'].iloc[i] = df_translated['sms'].iloc[i-400]"
   ]
  },
  {
   "cell_type": "code",
   "execution_count": 108,
   "id": "d999f6b8",
   "metadata": {},
   "outputs": [
    {
     "data": {
      "text/html": [
       "<div>\n",
       "<style scoped>\n",
       "    .dataframe tbody tr th:only-of-type {\n",
       "        vertical-align: middle;\n",
       "    }\n",
       "\n",
       "    .dataframe tbody tr th {\n",
       "        vertical-align: top;\n",
       "    }\n",
       "\n",
       "    .dataframe thead th {\n",
       "        text-align: right;\n",
       "    }\n",
       "</style>\n",
       "<table border=\"1\" class=\"dataframe\">\n",
       "  <thead>\n",
       "    <tr style=\"text-align: right;\">\n",
       "      <th></th>\n",
       "      <th>sms</th>\n",
       "      <th>label</th>\n",
       "    </tr>\n",
       "  </thead>\n",
       "  <tbody>\n",
       "    <tr>\n",
       "      <th>3826</th>\n",
       "      <td>أهلاً.أنا دائمًا متصل بالإنترنت على Yahoo وأرغ...</td>\n",
       "      <td>0</td>\n",
       "    </tr>\n",
       "    <tr>\n",
       "      <th>2185</th>\n",
       "      <td>أنا أعرف بعض الأشخاص الذين يمكنني ضربهم وأمارس...</td>\n",
       "      <td>0</td>\n",
       "    </tr>\n",
       "    <tr>\n",
       "      <th>1328</th>\n",
       "      <td>رصيدك هو الآن 500 جنيه إسترليني.سؤالك التالي ه...</td>\n",
       "      <td>1</td>\n",
       "    </tr>\n",
       "    <tr>\n",
       "      <th>3909</th>\n",
       "      <td>تبدو كخطة!كارديف لا يزال هنا ولا يزال باردًا!أ...</td>\n",
       "      <td>0</td>\n",
       "    </tr>\n",
       "    <tr>\n",
       "      <th>4880</th>\n",
       "      <td>نعم فقط افتح الدردشة وانقر فوق قوائم الأصدقاء....</td>\n",
       "      <td>0</td>\n",
       "    </tr>\n",
       "    <tr>\n",
       "      <th>3272</th>\n",
       "      <td>لديك بريد صوتي جديد.يرجى الاتصال على 08719181513.</td>\n",
       "      <td>1</td>\n",
       "    </tr>\n",
       "    <tr>\n",
       "      <th>4295</th>\n",
       "      <td>Strip Strip - لقد تم إصدار فاتورة 150 بكسل.Net...</td>\n",
       "      <td>1</td>\n",
       "    </tr>\n",
       "    <tr>\n",
       "      <th>1215</th>\n",
       "      <td>سأرسل رسالة نصية الآن!كلها زاحف مثل حتى لا يعت...</td>\n",
       "      <td>0</td>\n",
       "    </tr>\n",
       "    <tr>\n",
       "      <th>672</th>\n",
       "      <td>رسالة قصيرة.AC Sun0819 Posts Hello: \"يبدو أنك ...</td>\n",
       "      <td>1</td>\n",
       "    </tr>\n",
       "    <tr>\n",
       "      <th>2700</th>\n",
       "      <td>يا طفل من المنزل.كيف لا تملك أي صور جديدة على ...</td>\n",
       "      <td>0</td>\n",
       "    </tr>\n",
       "    <tr>\n",
       "      <th>4946</th>\n",
       "      <td>Anyway I don't think I can secure anything up ...</td>\n",
       "      <td>0</td>\n",
       "    </tr>\n",
       "    <tr>\n",
       "      <th>2986</th>\n",
       "      <td>No break time one... How... I come out n get m...</td>\n",
       "      <td>0</td>\n",
       "    </tr>\n",
       "    <tr>\n",
       "      <th>3111</th>\n",
       "      <td>Good Luck! Draw takes place 28th Feb 06. Good ...</td>\n",
       "      <td>1</td>\n",
       "    </tr>\n",
       "    <tr>\n",
       "      <th>3005</th>\n",
       "      <td>You've won tkts to the EURO2004 CUP FINAL or £...</td>\n",
       "      <td>1</td>\n",
       "    </tr>\n",
       "    <tr>\n",
       "      <th>4725</th>\n",
       "      <td>FREE GAME. Get Rayman Golf 4 FREE from the O2 ...</td>\n",
       "      <td>1</td>\n",
       "    </tr>\n",
       "    <tr>\n",
       "      <th>3568</th>\n",
       "      <td>Collect your VALENTINE'S weekend to PARIS inc ...</td>\n",
       "      <td>1</td>\n",
       "    </tr>\n",
       "    <tr>\n",
       "      <th>1245</th>\n",
       "      <td>Now? I'm going out 4 dinner soon..\\n</td>\n",
       "      <td>0</td>\n",
       "    </tr>\n",
       "    <tr>\n",
       "      <th>4976</th>\n",
       "      <td>Yar... I tot u knew dis would happen long ago ...</td>\n",
       "      <td>0</td>\n",
       "    </tr>\n",
       "    <tr>\n",
       "      <th>1045</th>\n",
       "      <td>We know someone who you know that fancies you....</td>\n",
       "      <td>1</td>\n",
       "    </tr>\n",
       "    <tr>\n",
       "      <th>4579</th>\n",
       "      <td>Urgent! call 09066350750 from your landline. Y...</td>\n",
       "      <td>1</td>\n",
       "    </tr>\n",
       "  </tbody>\n",
       "</table>\n",
       "</div>"
      ],
      "text/plain": [
       "                                                    sms  label\n",
       "3826  أهلاً.أنا دائمًا متصل بالإنترنت على Yahoo وأرغ...      0\n",
       "2185  أنا أعرف بعض الأشخاص الذين يمكنني ضربهم وأمارس...      0\n",
       "1328  رصيدك هو الآن 500 جنيه إسترليني.سؤالك التالي ه...      1\n",
       "3909  تبدو كخطة!كارديف لا يزال هنا ولا يزال باردًا!أ...      0\n",
       "4880  نعم فقط افتح الدردشة وانقر فوق قوائم الأصدقاء....      0\n",
       "3272  لديك بريد صوتي جديد.يرجى الاتصال على 08719181513.      1\n",
       "4295  Strip Strip - لقد تم إصدار فاتورة 150 بكسل.Net...      1\n",
       "1215  سأرسل رسالة نصية الآن!كلها زاحف مثل حتى لا يعت...      0\n",
       "672   رسالة قصيرة.AC Sun0819 Posts Hello: \"يبدو أنك ...      1\n",
       "2700  يا طفل من المنزل.كيف لا تملك أي صور جديدة على ...      0\n",
       "4946  Anyway I don't think I can secure anything up ...      0\n",
       "2986  No break time one... How... I come out n get m...      0\n",
       "3111  Good Luck! Draw takes place 28th Feb 06. Good ...      1\n",
       "3005  You've won tkts to the EURO2004 CUP FINAL or £...      1\n",
       "4725  FREE GAME. Get Rayman Golf 4 FREE from the O2 ...      1\n",
       "3568  Collect your VALENTINE'S weekend to PARIS inc ...      1\n",
       "1245               Now? I'm going out 4 dinner soon..\\n      0\n",
       "4976  Yar... I tot u knew dis would happen long ago ...      0\n",
       "1045  We know someone who you know that fancies you....      1\n",
       "4579  Urgent! call 09066350750 from your landline. Y...      1"
      ]
     },
     "execution_count": 108,
     "metadata": {},
     "output_type": "execute_result"
    }
   ],
   "source": [
    "df.iloc[490:510,:]"
   ]
  },
  {
   "cell_type": "code",
   "execution_count": 111,
   "id": "625b4801",
   "metadata": {},
   "outputs": [
    {
     "data": {
      "text/plain": [
       "\"Anyway I don't think I can secure anything up here, lemme know if you want me to drive down south and chill\\n\""
      ]
     },
     "execution_count": 111,
     "metadata": {},
     "output_type": "execute_result"
    }
   ],
   "source": [
    "df.iloc[500]['sms']"
   ]
  },
  {
   "cell_type": "code",
   "execution_count": 112,
   "id": "7466541d",
   "metadata": {},
   "outputs": [],
   "source": [
    "df_translated = df.iloc[500:600, :].copy()\n",
    "df_translated['sms'] = df_translated['sms'].astype(str)"
   ]
  },
  {
   "cell_type": "code",
   "execution_count": 113,
   "id": "cc236a8b",
   "metadata": {},
   "outputs": [],
   "source": [
    "df_translated['sms'] = df_translated['sms'].apply(translate_text)"
   ]
  },
  {
   "cell_type": "code",
   "execution_count": 114,
   "id": "8a834709",
   "metadata": {},
   "outputs": [
    {
     "data": {
      "text/plain": [
       "'نعم ، هذا ما كنت أفكر فيه'"
      ]
     },
     "execution_count": 114,
     "metadata": {},
     "output_type": "execute_result"
    }
   ],
   "source": [
    "df_translated.iloc[99]['sms']"
   ]
  },
  {
   "cell_type": "code",
   "execution_count": 115,
   "id": "c89b714b",
   "metadata": {},
   "outputs": [
    {
     "data": {
      "text/plain": [
       "\"yeah, that's what I was thinking\\n\""
      ]
     },
     "execution_count": 115,
     "metadata": {},
     "output_type": "execute_result"
    }
   ],
   "source": [
    "df.iloc[599]['sms']"
   ]
  },
  {
   "cell_type": "code",
   "execution_count": 117,
   "id": "8606e407",
   "metadata": {},
   "outputs": [
    {
     "name": "stderr",
     "output_type": "stream",
     "text": [
      "C:\\Users\\yazan\\AppData\\Local\\Temp\\ipykernel_7936\\676765256.py:2: SettingWithCopyWarning: \n",
      "A value is trying to be set on a copy of a slice from a DataFrame\n",
      "\n",
      "See the caveats in the documentation: https://pandas.pydata.org/pandas-docs/stable/user_guide/indexing.html#returning-a-view-versus-a-copy\n",
      "  df['sms'].iloc[i] = df_translated['sms'].iloc[i-500]\n"
     ]
    }
   ],
   "source": [
    "for i in range(500,600):   \n",
    "    df['sms'].iloc[i] = df_translated['sms'].iloc[i-500]"
   ]
  },
  {
   "cell_type": "code",
   "execution_count": 118,
   "id": "7b122f58",
   "metadata": {},
   "outputs": [
    {
     "data": {
      "text/html": [
       "<div>\n",
       "<style scoped>\n",
       "    .dataframe tbody tr th:only-of-type {\n",
       "        vertical-align: middle;\n",
       "    }\n",
       "\n",
       "    .dataframe tbody tr th {\n",
       "        vertical-align: top;\n",
       "    }\n",
       "\n",
       "    .dataframe thead th {\n",
       "        text-align: right;\n",
       "    }\n",
       "</style>\n",
       "<table border=\"1\" class=\"dataframe\">\n",
       "  <thead>\n",
       "    <tr style=\"text-align: right;\">\n",
       "      <th></th>\n",
       "      <th>sms</th>\n",
       "      <th>label</th>\n",
       "    </tr>\n",
       "  </thead>\n",
       "  <tbody>\n",
       "    <tr>\n",
       "      <th>4073</th>\n",
       "      <td>القروض لأي غرض حتى لو كان لديك ائتمان سيئ!مستأ...</td>\n",
       "      <td>1</td>\n",
       "    </tr>\n",
       "    <tr>\n",
       "      <th>5542</th>\n",
       "      <td>سأل 3Mobile إذا كان 0870 chatlines inclu في دق...</td>\n",
       "      <td>1</td>\n",
       "    </tr>\n",
       "    <tr>\n",
       "      <th>264</th>\n",
       "      <td>مرحبًا ، أنا حقًا قرني أريد الدردشة أو رؤيتي ن...</td>\n",
       "      <td>1</td>\n",
       "    </tr>\n",
       "    <tr>\n",
       "      <th>4048</th>\n",
       "      <td>شكرًا على طلب نغمة الرنين ، الرقم المرجعي x49....</td>\n",
       "      <td>1</td>\n",
       "    </tr>\n",
       "    <tr>\n",
       "      <th>1699</th>\n",
       "      <td>MSG الحرة.عذرًا ، لا يمكن تسليم الخدمة التي طل...</td>\n",
       "      <td>1</td>\n",
       "    </tr>\n",
       "    <tr>\n",
       "      <th>876</th>\n",
       "      <td>تسوق Till U Drop ، هل أنت ، إما 10K ، 5K ، 500...</td>\n",
       "      <td>1</td>\n",
       "    </tr>\n",
       "    <tr>\n",
       "      <th>4407</th>\n",
       "      <td>كواحد من المشتركين المسجلين لدينا ، يمكنك إدخا...</td>\n",
       "      <td>1</td>\n",
       "    </tr>\n",
       "    <tr>\n",
       "      <th>3554</th>\n",
       "      <td>الدين أقول لك jus الآن 420</td>\n",
       "      <td>0</td>\n",
       "    </tr>\n",
       "    <tr>\n",
       "      <th>4968</th>\n",
       "      <td>يمكنك التبرع بمبلغ 2.50 جنيه إسترليني لصندوق د...</td>\n",
       "      <td>1</td>\n",
       "    </tr>\n",
       "    <tr>\n",
       "      <th>5312</th>\n",
       "      <td>نعم ، هذا ما كنت أفكر فيه</td>\n",
       "      <td>0</td>\n",
       "    </tr>\n",
       "    <tr>\n",
       "      <th>4977</th>\n",
       "      <td>You are gorgeous! keep those pix cumming :) th...</td>\n",
       "      <td>0</td>\n",
       "    </tr>\n",
       "    <tr>\n",
       "      <th>4281</th>\n",
       "      <td>WINNER!! As a valued network customer you have...</td>\n",
       "      <td>1</td>\n",
       "    </tr>\n",
       "    <tr>\n",
       "      <th>3513</th>\n",
       "      <td>Already one guy loving you:-.\\n</td>\n",
       "      <td>0</td>\n",
       "    </tr>\n",
       "    <tr>\n",
       "      <th>4638</th>\n",
       "      <td>Oh ho. Is this the first time u use these type...</td>\n",
       "      <td>0</td>\n",
       "    </tr>\n",
       "    <tr>\n",
       "      <th>1675</th>\n",
       "      <td>Nah dub but je still buff\\n</td>\n",
       "      <td>0</td>\n",
       "    </tr>\n",
       "    <tr>\n",
       "      <th>2742</th>\n",
       "      <td>I don't know u and u don't know me. Send CHAT ...</td>\n",
       "      <td>1</td>\n",
       "    </tr>\n",
       "    <tr>\n",
       "      <th>2267</th>\n",
       "      <td>&lt;Forwarded from 88877&gt;FREE entry into our £250...</td>\n",
       "      <td>1</td>\n",
       "    </tr>\n",
       "    <tr>\n",
       "      <th>3299</th>\n",
       "      <td>This message is free. Welcome to the new &amp; imp...</td>\n",
       "      <td>1</td>\n",
       "    </tr>\n",
       "    <tr>\n",
       "      <th>2300</th>\n",
       "      <td>Congrats! 1 year special cinema pass for 2 is ...</td>\n",
       "      <td>1</td>\n",
       "    </tr>\n",
       "    <tr>\n",
       "      <th>4561</th>\n",
       "      <td>I'm awake oh. What's up.\\n</td>\n",
       "      <td>0</td>\n",
       "    </tr>\n",
       "  </tbody>\n",
       "</table>\n",
       "</div>"
      ],
      "text/plain": [
       "                                                    sms  label\n",
       "4073  القروض لأي غرض حتى لو كان لديك ائتمان سيئ!مستأ...      1\n",
       "5542  سأل 3Mobile إذا كان 0870 chatlines inclu في دق...      1\n",
       "264   مرحبًا ، أنا حقًا قرني أريد الدردشة أو رؤيتي ن...      1\n",
       "4048  شكرًا على طلب نغمة الرنين ، الرقم المرجعي x49....      1\n",
       "1699  MSG الحرة.عذرًا ، لا يمكن تسليم الخدمة التي طل...      1\n",
       "876   تسوق Till U Drop ، هل أنت ، إما 10K ، 5K ، 500...      1\n",
       "4407  كواحد من المشتركين المسجلين لدينا ، يمكنك إدخا...      1\n",
       "3554                         الدين أقول لك jus الآن 420      0\n",
       "4968  يمكنك التبرع بمبلغ 2.50 جنيه إسترليني لصندوق د...      1\n",
       "5312                          نعم ، هذا ما كنت أفكر فيه      0\n",
       "4977  You are gorgeous! keep those pix cumming :) th...      0\n",
       "4281  WINNER!! As a valued network customer you have...      1\n",
       "3513                    Already one guy loving you:-.\\n      0\n",
       "4638  Oh ho. Is this the first time u use these type...      0\n",
       "1675                        Nah dub but je still buff\\n      0\n",
       "2742  I don't know u and u don't know me. Send CHAT ...      1\n",
       "2267  <Forwarded from 88877>FREE entry into our £250...      1\n",
       "3299  This message is free. Welcome to the new & imp...      1\n",
       "2300  Congrats! 1 year special cinema pass for 2 is ...      1\n",
       "4561                         I'm awake oh. What's up.\\n      0"
      ]
     },
     "execution_count": 118,
     "metadata": {},
     "output_type": "execute_result"
    }
   ],
   "source": [
    "df.iloc[590:610,:]"
   ]
  },
  {
   "cell_type": "code",
   "execution_count": 120,
   "id": "9c8bef07",
   "metadata": {},
   "outputs": [
    {
     "data": {
      "text/plain": [
       "'You are gorgeous! keep those pix cumming :) thank you!\\n'"
      ]
     },
     "execution_count": 120,
     "metadata": {},
     "output_type": "execute_result"
    }
   ],
   "source": [
    "df.iloc[600]['sms']"
   ]
  },
  {
   "cell_type": "code",
   "execution_count": 138,
   "id": "b8f6f469",
   "metadata": {},
   "outputs": [],
   "source": [
    "df_translated = df.iloc[600:700, :].copy()\n",
    "df_translated['sms'] = df_translated['sms'].astype(str)"
   ]
  },
  {
   "cell_type": "code",
   "execution_count": 139,
   "id": "3e8f593b",
   "metadata": {},
   "outputs": [],
   "source": [
    "df_translated['sms'] = df_translated['sms'].apply(translate_text)"
   ]
  },
  {
   "cell_type": "code",
   "execution_count": 140,
   "id": "8b7bdf30",
   "metadata": {},
   "outputs": [
    {
     "data": {
      "text/plain": [
       "\"ree intring in 2 A Compain Comp for فرصة للفوز بجهاز iPod.TXT POD إلى 80182 للحصول على الدخول (معدل TXT STD) T&C's تطبيق 08452810073 للحصول على التفاصيل 18+\""
      ]
     },
     "execution_count": 140,
     "metadata": {},
     "output_type": "execute_result"
    }
   ],
   "source": [
    "df_translated.iloc[99]['sms']"
   ]
  },
  {
   "cell_type": "code",
   "execution_count": 141,
   "id": "cedfe2ea",
   "metadata": {},
   "outputs": [
    {
     "data": {
      "text/plain": [
       "\"ree entry in 2 a weekly comp for a chance to win an ipod. Txt POD to 80182 to get entry (std txt rate) T&C's apply 08452810073 for details 18+\\n\""
      ]
     },
     "execution_count": 141,
     "metadata": {},
     "output_type": "execute_result"
    }
   ],
   "source": [
    "df.iloc[699]['sms']"
   ]
  },
  {
   "cell_type": "code",
   "execution_count": 143,
   "id": "61161a5e",
   "metadata": {},
   "outputs": [
    {
     "name": "stderr",
     "output_type": "stream",
     "text": [
      "C:\\Users\\yazan\\AppData\\Local\\Temp\\ipykernel_7936\\1659764600.py:2: SettingWithCopyWarning: \n",
      "A value is trying to be set on a copy of a slice from a DataFrame\n",
      "\n",
      "See the caveats in the documentation: https://pandas.pydata.org/pandas-docs/stable/user_guide/indexing.html#returning-a-view-versus-a-copy\n",
      "  df['sms'].iloc[i] = df_translated['sms'].iloc[i-600]\n"
     ]
    }
   ],
   "source": [
    "for i in range(600,700):   \n",
    "    df['sms'].iloc[i] = df_translated['sms'].iloc[i-600]"
   ]
  },
  {
   "cell_type": "code",
   "execution_count": 144,
   "id": "aff3cd0e",
   "metadata": {},
   "outputs": [
    {
     "data": {
      "text/html": [
       "<div>\n",
       "<style scoped>\n",
       "    .dataframe tbody tr th:only-of-type {\n",
       "        vertical-align: middle;\n",
       "    }\n",
       "\n",
       "    .dataframe tbody tr th {\n",
       "        vertical-align: top;\n",
       "    }\n",
       "\n",
       "    .dataframe thead th {\n",
       "        text-align: right;\n",
       "    }\n",
       "</style>\n",
       "<table border=\"1\" class=\"dataframe\">\n",
       "  <thead>\n",
       "    <tr style=\"text-align: right;\">\n",
       "      <th></th>\n",
       "      <th>sms</th>\n",
       "      <th>label</th>\n",
       "    </tr>\n",
       "  </thead>\n",
       "  <tbody>\n",
       "    <tr>\n",
       "      <th>3468</th>\n",
       "      <td>عاجل!نحاول الاتصال بـ U. Todays Draw Shows أنك...</td>\n",
       "      <td>1</td>\n",
       "    </tr>\n",
       "    <tr>\n",
       "      <th>2142</th>\n",
       "      <td>حسنًا ، أخذ المورفين.مرة أخرى في يو.</td>\n",
       "      <td>0</td>\n",
       "    </tr>\n",
       "    <tr>\n",
       "      <th>1441</th>\n",
       "      <td>نسيم بارد ... الشمس الساطعة ... زهرة طازجة ......</td>\n",
       "      <td>0</td>\n",
       "    </tr>\n",
       "    <tr>\n",
       "      <th>781</th>\n",
       "      <td>رأيك عني؟1. أكثر من 2. Jada 3. Kusruthi 4. Lov...</td>\n",
       "      <td>0</td>\n",
       "    </tr>\n",
       "    <tr>\n",
       "      <th>548</th>\n",
       "      <td>آسف أن هذا استغرق وقتا طويلا ، omw الآن</td>\n",
       "      <td>0</td>\n",
       "    </tr>\n",
       "    <tr>\n",
       "      <th>418</th>\n",
       "      <td>الدخول المجاني إلى مسابقةنا الأسبوعية بقيمة 25...</td>\n",
       "      <td>1</td>\n",
       "    </tr>\n",
       "    <tr>\n",
       "      <th>2451</th>\n",
       "      <td>ك .. استعد شكري.</td>\n",
       "      <td>0</td>\n",
       "    </tr>\n",
       "    <tr>\n",
       "      <th>635</th>\n",
       "      <td>عزيزي حامل القسيمة ، 2 مطالبة بعرض هذا الأسبوع...</td>\n",
       "      <td>1</td>\n",
       "    </tr>\n",
       "    <tr>\n",
       "      <th>4949</th>\n",
       "      <td>مرحبًا ، هذا إيمي ، سنرسل لك رقم هاتف مجاني في...</td>\n",
       "      <td>1</td>\n",
       "    </tr>\n",
       "    <tr>\n",
       "      <th>5191</th>\n",
       "      <td>ree intring in 2 A Compain Comp for فرصة للفوز...</td>\n",
       "      <td>1</td>\n",
       "    </tr>\n",
       "    <tr>\n",
       "      <th>1318</th>\n",
       "      <td>Win the newest “Harry Potter and the Order of ...</td>\n",
       "      <td>1</td>\n",
       "    </tr>\n",
       "    <tr>\n",
       "      <th>2003</th>\n",
       "      <td>TheMob&gt;Yo yo yo-Here comes a new selection of ...</td>\n",
       "      <td>1</td>\n",
       "    </tr>\n",
       "    <tr>\n",
       "      <th>5139</th>\n",
       "      <td>YOU VE WON! Your 4* Costa Del Sol Holiday or £...</td>\n",
       "      <td>1</td>\n",
       "    </tr>\n",
       "    <tr>\n",
       "      <th>2632</th>\n",
       "      <td>URGENT! Your mobile No 077xxx WON a £2,000 Bon...</td>\n",
       "      <td>1</td>\n",
       "    </tr>\n",
       "    <tr>\n",
       "      <th>3905</th>\n",
       "      <td>Your 2004 account for 07XXXXXXXXX shows 786 un...</td>\n",
       "      <td>1</td>\n",
       "    </tr>\n",
       "    <tr>\n",
       "      <th>1244</th>\n",
       "      <td>No shoot me. I'm in the docs waiting room. :/\\n</td>\n",
       "      <td>0</td>\n",
       "    </tr>\n",
       "    <tr>\n",
       "      <th>5167</th>\n",
       "      <td>Ü still got lessons?  Ü in sch?\\n</td>\n",
       "      <td>0</td>\n",
       "    </tr>\n",
       "    <tr>\n",
       "      <th>1207</th>\n",
       "      <td>As a SIM subscriber, you are selected to recei...</td>\n",
       "      <td>1</td>\n",
       "    </tr>\n",
       "    <tr>\n",
       "      <th>3248</th>\n",
       "      <td>* You gonna ring this weekend or wot?\\n</td>\n",
       "      <td>0</td>\n",
       "    </tr>\n",
       "    <tr>\n",
       "      <th>761</th>\n",
       "      <td>Romantic Paris. 2 nights, 2 flights from £79 B...</td>\n",
       "      <td>1</td>\n",
       "    </tr>\n",
       "  </tbody>\n",
       "</table>\n",
       "</div>"
      ],
      "text/plain": [
       "                                                    sms  label\n",
       "3468  عاجل!نحاول الاتصال بـ U. Todays Draw Shows أنك...      1\n",
       "2142               حسنًا ، أخذ المورفين.مرة أخرى في يو.      0\n",
       "1441  نسيم بارد ... الشمس الساطعة ... زهرة طازجة ......      0\n",
       "781   رأيك عني؟1. أكثر من 2. Jada 3. Kusruthi 4. Lov...      0\n",
       "548             آسف أن هذا استغرق وقتا طويلا ، omw الآن      0\n",
       "418   الدخول المجاني إلى مسابقةنا الأسبوعية بقيمة 25...      1\n",
       "2451                                   ك .. استعد شكري.      0\n",
       "635   عزيزي حامل القسيمة ، 2 مطالبة بعرض هذا الأسبوع...      1\n",
       "4949  مرحبًا ، هذا إيمي ، سنرسل لك رقم هاتف مجاني في...      1\n",
       "5191  ree intring in 2 A Compain Comp for فرصة للفوز...      1\n",
       "1318  Win the newest “Harry Potter and the Order of ...      1\n",
       "2003  TheMob>Yo yo yo-Here comes a new selection of ...      1\n",
       "5139  YOU VE WON! Your 4* Costa Del Sol Holiday or £...      1\n",
       "2632  URGENT! Your mobile No 077xxx WON a £2,000 Bon...      1\n",
       "3905  Your 2004 account for 07XXXXXXXXX shows 786 un...      1\n",
       "1244    No shoot me. I'm in the docs waiting room. :/\\n      0\n",
       "5167                  Ü still got lessons?  Ü in sch?\\n      0\n",
       "1207  As a SIM subscriber, you are selected to recei...      1\n",
       "3248            * You gonna ring this weekend or wot?\\n      0\n",
       "761   Romantic Paris. 2 nights, 2 flights from £79 B...      1"
      ]
     },
     "execution_count": 144,
     "metadata": {},
     "output_type": "execute_result"
    }
   ],
   "source": [
    "df.iloc[690:710,:]"
   ]
  },
  {
   "cell_type": "code",
   "execution_count": 147,
   "id": "54797b2a",
   "metadata": {},
   "outputs": [
    {
     "data": {
      "text/plain": [
       "'Win the newest “Harry Potter and the Order of the Phoenix (Book 5) reply HARRY, answer 5 questions - chance to be the first among readers!\\n'"
      ]
     },
     "execution_count": 147,
     "metadata": {},
     "output_type": "execute_result"
    }
   ],
   "source": [
    "df.iloc[700]['sms']"
   ]
  },
  {
   "cell_type": "code",
   "execution_count": 161,
   "id": "4785badb",
   "metadata": {},
   "outputs": [],
   "source": [
    "df_translated = df.iloc[700:800, :].copy()\n",
    "#df_translated['sms'] = df_translated['sms'].astype(str)"
   ]
  },
  {
   "cell_type": "code",
   "execution_count": 162,
   "id": "04163894",
   "metadata": {},
   "outputs": [],
   "source": [
    "df_translated['sms'] = df_translated['sms'].apply(translate_text)"
   ]
  },
  {
   "cell_type": "code",
   "execution_count": 163,
   "id": "7593c1d8",
   "metadata": {},
   "outputs": [
    {
     "data": {
      "text/plain": [
       "'فقط NW جئت إلى HME DA ..'"
      ]
     },
     "execution_count": 163,
     "metadata": {},
     "output_type": "execute_result"
    }
   ],
   "source": [
    "df_translated.iloc[99]['sms']"
   ]
  },
  {
   "cell_type": "code",
   "execution_count": 164,
   "id": "a048b99a",
   "metadata": {},
   "outputs": [
    {
     "data": {
      "text/plain": [
       "'Just nw i came to hme da..\\n'"
      ]
     },
     "execution_count": 164,
     "metadata": {},
     "output_type": "execute_result"
    }
   ],
   "source": [
    "df.iloc[799]['sms']"
   ]
  },
  {
   "cell_type": "code",
   "execution_count": 165,
   "id": "47b60e6f",
   "metadata": {},
   "outputs": [
    {
     "name": "stderr",
     "output_type": "stream",
     "text": [
      "C:\\Users\\yazan\\AppData\\Local\\Temp\\ipykernel_7936\\2673001695.py:2: SettingWithCopyWarning: \n",
      "A value is trying to be set on a copy of a slice from a DataFrame\n",
      "\n",
      "See the caveats in the documentation: https://pandas.pydata.org/pandas-docs/stable/user_guide/indexing.html#returning-a-view-versus-a-copy\n",
      "  df['sms'].iloc[i] = df_translated['sms'].iloc[i-700]\n"
     ]
    }
   ],
   "source": [
    "for i in range(700,800):   \n",
    "    df['sms'].iloc[i] = df_translated['sms'].iloc[i-700]"
   ]
  },
  {
   "cell_type": "code",
   "execution_count": 166,
   "id": "7eed5d66",
   "metadata": {},
   "outputs": [
    {
     "data": {
      "text/html": [
       "<div>\n",
       "<style scoped>\n",
       "    .dataframe tbody tr th:only-of-type {\n",
       "        vertical-align: middle;\n",
       "    }\n",
       "\n",
       "    .dataframe tbody tr th {\n",
       "        vertical-align: top;\n",
       "    }\n",
       "\n",
       "    .dataframe thead th {\n",
       "        text-align: right;\n",
       "    }\n",
       "</style>\n",
       "<table border=\"1\" class=\"dataframe\">\n",
       "  <thead>\n",
       "    <tr style=\"text-align: right;\">\n",
       "      <th></th>\n",
       "      <th>sms</th>\n",
       "      <th>label</th>\n",
       "    </tr>\n",
       "  </thead>\n",
       "  <tbody>\n",
       "    <tr>\n",
       "      <th>3484</th>\n",
       "      <td>أهلاً يا حبيبي!كيف يذهب ذلك اليوم؟أتمنى لك بئر...</td>\n",
       "      <td>0</td>\n",
       "    </tr>\n",
       "    <tr>\n",
       "      <th>719</th>\n",
       "      <td>لقد فزت بحجم 1000 جنيه إسترليني أو جائزة 2000 ...</td>\n",
       "      <td>1</td>\n",
       "    </tr>\n",
       "    <tr>\n",
       "      <th>4517</th>\n",
       "      <td>تهاني!2 Mobile 3G Videophones R لك.اتصل على 09...</td>\n",
       "      <td>1</td>\n",
       "    </tr>\n",
       "    <tr>\n",
       "      <th>848</th>\n",
       "      <td>أنا في المكتب :) ما الأمر .. msg لي الآن ، سأت...</td>\n",
       "      <td>0</td>\n",
       "    </tr>\n",
       "    <tr>\n",
       "      <th>5079</th>\n",
       "      <td>هل تريد تسليم هاتف ملون جديد Nokia 3510i غدًا؟...</td>\n",
       "      <td>1</td>\n",
       "    </tr>\n",
       "    <tr>\n",
       "      <th>3417</th>\n",
       "      <td>UHHHHRMM لا يوجد اختبار السل سيئًا عندما تكون ...</td>\n",
       "      <td>0</td>\n",
       "    </tr>\n",
       "    <tr>\n",
       "      <th>2754</th>\n",
       "      <td>derp.وهو أسوأ من ذلك ، المتأنق الذي يريد دائمً...</td>\n",
       "      <td>0</td>\n",
       "    </tr>\n",
       "    <tr>\n",
       "      <th>422</th>\n",
       "      <td>لقد اتصل شخص ما بخدمة المواعدة ودخل هاتفك لأنه...</td>\n",
       "      <td>1</td>\n",
       "    </tr>\n",
       "    <tr>\n",
       "      <th>2014</th>\n",
       "      <td>أخبار رائعة!اتصل بـ Freefone 08006344447 للمطا...</td>\n",
       "      <td>1</td>\n",
       "    </tr>\n",
       "    <tr>\n",
       "      <th>1178</th>\n",
       "      <td>فقط NW جئت إلى HME DA ..</td>\n",
       "      <td>0</td>\n",
       "    </tr>\n",
       "    <tr>\n",
       "      <th>3950</th>\n",
       "      <td>HMM yeah if your not too grooved out! And im l...</td>\n",
       "      <td>0</td>\n",
       "    </tr>\n",
       "    <tr>\n",
       "      <th>1674</th>\n",
       "      <td>Monthly password for wap. mobsi.com is 391784....</td>\n",
       "      <td>1</td>\n",
       "    </tr>\n",
       "    <tr>\n",
       "      <th>1574</th>\n",
       "      <td>SMS AUCTION - A BRAND NEW Nokia 7250 is up 4 a...</td>\n",
       "      <td>1</td>\n",
       "    </tr>\n",
       "    <tr>\n",
       "      <th>935</th>\n",
       "      <td>Dear Matthew please call 09063440451 from a la...</td>\n",
       "      <td>1</td>\n",
       "    </tr>\n",
       "    <tr>\n",
       "      <th>994</th>\n",
       "      <td>The Xmas story is peace.. The Xmas msg is love...</td>\n",
       "      <td>0</td>\n",
       "    </tr>\n",
       "    <tr>\n",
       "      <th>2719</th>\n",
       "      <td>18 days to Euro2004 kickoff! U will be kept in...</td>\n",
       "      <td>1</td>\n",
       "    </tr>\n",
       "    <tr>\n",
       "      <th>182</th>\n",
       "      <td>Lol no. U can trust me.\\n</td>\n",
       "      <td>0</td>\n",
       "    </tr>\n",
       "    <tr>\n",
       "      <th>803</th>\n",
       "      <td>FREE for 1st week! No1 Nokia tone 4 ur mobile ...</td>\n",
       "      <td>1</td>\n",
       "    </tr>\n",
       "    <tr>\n",
       "      <th>57</th>\n",
       "      <td>Sorry, I'll call later in meeting.\\n</td>\n",
       "      <td>0</td>\n",
       "    </tr>\n",
       "    <tr>\n",
       "      <th>1777</th>\n",
       "      <td>Call FREEPHONE 0800 542 0578 now!\\n</td>\n",
       "      <td>1</td>\n",
       "    </tr>\n",
       "  </tbody>\n",
       "</table>\n",
       "</div>"
      ],
      "text/plain": [
       "                                                    sms  label\n",
       "3484  أهلاً يا حبيبي!كيف يذهب ذلك اليوم؟أتمنى لك بئر...      0\n",
       "719   لقد فزت بحجم 1000 جنيه إسترليني أو جائزة 2000 ...      1\n",
       "4517  تهاني!2 Mobile 3G Videophones R لك.اتصل على 09...      1\n",
       "848   أنا في المكتب :) ما الأمر .. msg لي الآن ، سأت...      0\n",
       "5079  هل تريد تسليم هاتف ملون جديد Nokia 3510i غدًا؟...      1\n",
       "3417  UHHHHRMM لا يوجد اختبار السل سيئًا عندما تكون ...      0\n",
       "2754  derp.وهو أسوأ من ذلك ، المتأنق الذي يريد دائمً...      0\n",
       "422   لقد اتصل شخص ما بخدمة المواعدة ودخل هاتفك لأنه...      1\n",
       "2014  أخبار رائعة!اتصل بـ Freefone 08006344447 للمطا...      1\n",
       "1178                           فقط NW جئت إلى HME DA ..      0\n",
       "3950  HMM yeah if your not too grooved out! And im l...      0\n",
       "1674  Monthly password for wap. mobsi.com is 391784....      1\n",
       "1574  SMS AUCTION - A BRAND NEW Nokia 7250 is up 4 a...      1\n",
       "935   Dear Matthew please call 09063440451 from a la...      1\n",
       "994   The Xmas story is peace.. The Xmas msg is love...      0\n",
       "2719  18 days to Euro2004 kickoff! U will be kept in...      1\n",
       "182                           Lol no. U can trust me.\\n      0\n",
       "803   FREE for 1st week! No1 Nokia tone 4 ur mobile ...      1\n",
       "57                 Sorry, I'll call later in meeting.\\n      0\n",
       "1777                Call FREEPHONE 0800 542 0578 now!\\n      1"
      ]
     },
     "execution_count": 166,
     "metadata": {},
     "output_type": "execute_result"
    }
   ],
   "source": [
    "df.iloc[790:810,:]"
   ]
  },
  {
   "cell_type": "code",
   "execution_count": 168,
   "id": "d766128d",
   "metadata": {},
   "outputs": [
    {
     "data": {
      "text/plain": [
       "'HMM yeah if your not too grooved out! And im looking forward to my pound special :)\\n'"
      ]
     },
     "execution_count": 168,
     "metadata": {},
     "output_type": "execute_result"
    }
   ],
   "source": [
    "df.iloc[800]['sms']"
   ]
  },
  {
   "cell_type": "code",
   "execution_count": 169,
   "id": "c99bc172",
   "metadata": {},
   "outputs": [],
   "source": [
    "df_translated = df.iloc[800:900, :].copy()\n",
    "df_translated['sms'] = df_translated['sms'].astype(str)"
   ]
  },
  {
   "cell_type": "code",
   "execution_count": 170,
   "id": "bea9b6ed",
   "metadata": {},
   "outputs": [],
   "source": [
    "df_translated['sms'] = df_translated['sms'].apply(translate_text)"
   ]
  },
  {
   "cell_type": "code",
   "execution_count": 171,
   "id": "1f69f25a",
   "metadata": {},
   "outputs": [
    {
     "data": {
      "text/plain": [
       "'4mths half price Orange line rental & latest camera phones 4 FREE. Had your phone 11mths ? Call MobilesDirect free on 08000938767 to update now! or2stoptxt\\n'"
      ]
     },
     "execution_count": 171,
     "metadata": {},
     "output_type": "execute_result"
    }
   ],
   "source": [
    "df.iloc[899]['sms']"
   ]
  },
  {
   "cell_type": "code",
   "execution_count": 172,
   "id": "8233732d",
   "metadata": {},
   "outputs": [
    {
     "data": {
      "text/plain": [
       "'4mths نصف السعر استئجار خط البرتقال وأحدث هواتف الكاميرا 4 مجانا.هل كان هاتفك 11 م؟اتصل بـ Mobile Direct Free على 08000938767 للتحديث الآن!أو 2step txt'"
      ]
     },
     "execution_count": 172,
     "metadata": {},
     "output_type": "execute_result"
    }
   ],
   "source": [
    "df_translated.iloc[99]['sms']"
   ]
  },
  {
   "cell_type": "code",
   "execution_count": 173,
   "id": "ae9d06d2",
   "metadata": {},
   "outputs": [
    {
     "name": "stderr",
     "output_type": "stream",
     "text": [
      "C:\\Users\\yazan\\AppData\\Local\\Temp\\ipykernel_7936\\3736784820.py:2: SettingWithCopyWarning: \n",
      "A value is trying to be set on a copy of a slice from a DataFrame\n",
      "\n",
      "See the caveats in the documentation: https://pandas.pydata.org/pandas-docs/stable/user_guide/indexing.html#returning-a-view-versus-a-copy\n",
      "  df['sms'].iloc[i] = df_translated['sms'].iloc[i-800]\n"
     ]
    }
   ],
   "source": [
    "for i in range(800,900):   \n",
    "    df['sms'].iloc[i] = df_translated['sms'].iloc[i-800]"
   ]
  },
  {
   "cell_type": "code",
   "execution_count": 174,
   "id": "aeecc418",
   "metadata": {},
   "outputs": [
    {
     "data": {
      "text/html": [
       "<div>\n",
       "<style scoped>\n",
       "    .dataframe tbody tr th:only-of-type {\n",
       "        vertical-align: middle;\n",
       "    }\n",
       "\n",
       "    .dataframe tbody tr th {\n",
       "        vertical-align: top;\n",
       "    }\n",
       "\n",
       "    .dataframe thead th {\n",
       "        text-align: right;\n",
       "    }\n",
       "</style>\n",
       "<table border=\"1\" class=\"dataframe\">\n",
       "  <thead>\n",
       "    <tr style=\"text-align: right;\">\n",
       "      <th></th>\n",
       "      <th>sms</th>\n",
       "      <th>label</th>\n",
       "    </tr>\n",
       "  </thead>\n",
       "  <tbody>\n",
       "    <tr>\n",
       "      <th>2548</th>\n",
       "      <td>Text82228 &gt;&gt; احصل على المزيد من نغمات وشعارات ...</td>\n",
       "      <td>1</td>\n",
       "    </tr>\n",
       "    <tr>\n",
       "      <th>2823</th>\n",
       "      <td>يجب أن يستجيب كل من Romcapspam جيدًا لوجودك لأ...</td>\n",
       "      <td>1</td>\n",
       "    </tr>\n",
       "    <tr>\n",
       "      <th>2</th>\n",
       "      <td>دخول مجاني في 2 A Cly Comp to Win Cup Final TK...</td>\n",
       "      <td>1</td>\n",
       "    </tr>\n",
       "    <tr>\n",
       "      <th>2642</th>\n",
       "      <td>أنت مضمون أحدث هاتف Nokia أو مشغل iPod MP3 40 ...</td>\n",
       "      <td>1</td>\n",
       "    </tr>\n",
       "    <tr>\n",
       "      <th>1566</th>\n",
       "      <td>&amp; lt ؛#&amp; gt ؛G التي رأيتها قبل بضعة أيام ، يري...</td>\n",
       "      <td>0</td>\n",
       "    </tr>\n",
       "    <tr>\n",
       "      <th>3043</th>\n",
       "      <td>slaaaaave!أين أنت ؟هل يجب أن أستدلك لي طوال ال...</td>\n",
       "      <td>0</td>\n",
       "    </tr>\n",
       "    <tr>\n",
       "      <th>3586</th>\n",
       "      <td>القلب فارغ بدون حب .. العقل فارغ بدون حكمة .. ...</td>\n",
       "      <td>0</td>\n",
       "    </tr>\n",
       "    <tr>\n",
       "      <th>3562</th>\n",
       "      <td>نص حظر إلى 89555 لرؤية!تكلفة 150p TextOperator...</td>\n",
       "      <td>1</td>\n",
       "    </tr>\n",
       "    <tr>\n",
       "      <th>3372</th>\n",
       "      <td>غدا لن أذهب إلى المسرح...لذلك يمكنني المجيء أي...</td>\n",
       "      <td>0</td>\n",
       "    </tr>\n",
       "    <tr>\n",
       "      <th>389</th>\n",
       "      <td>4mths نصف السعر استئجار خط البرتقال وأحدث هوات...</td>\n",
       "      <td>1</td>\n",
       "    </tr>\n",
       "    <tr>\n",
       "      <th>4746</th>\n",
       "      <td>Camera - You are awarded a SiPix Digital Camer...</td>\n",
       "      <td>1</td>\n",
       "    </tr>\n",
       "    <tr>\n",
       "      <th>4458</th>\n",
       "      <td>Aight should I just plan to come up later toni...</td>\n",
       "      <td>0</td>\n",
       "    </tr>\n",
       "    <tr>\n",
       "      <th>2498</th>\n",
       "      <td>Dai what this da.. Can i send my resume to thi...</td>\n",
       "      <td>0</td>\n",
       "    </tr>\n",
       "    <tr>\n",
       "      <th>483</th>\n",
       "      <td>Watching tv lor...\\n</td>\n",
       "      <td>0</td>\n",
       "    </tr>\n",
       "    <tr>\n",
       "      <th>1129</th>\n",
       "      <td>Ur HMV Quiz cash-balance is currently £500 - t...</td>\n",
       "      <td>1</td>\n",
       "    </tr>\n",
       "    <tr>\n",
       "      <th>3397</th>\n",
       "      <td>URGENT! Your Mobile number has been awarded wi...</td>\n",
       "      <td>1</td>\n",
       "    </tr>\n",
       "    <tr>\n",
       "      <th>833</th>\n",
       "      <td>Dear Voucher Holder, To claim this weeks offer...</td>\n",
       "      <td>1</td>\n",
       "    </tr>\n",
       "    <tr>\n",
       "      <th>4268</th>\n",
       "      <td>SORRY IM STIL FUCKED AFTER LAST NITE WENT TOBE...</td>\n",
       "      <td>0</td>\n",
       "    </tr>\n",
       "    <tr>\n",
       "      <th>3988</th>\n",
       "      <td>Ringtone Club: Gr8 new polys direct to your mo...</td>\n",
       "      <td>1</td>\n",
       "    </tr>\n",
       "    <tr>\n",
       "      <th>1560</th>\n",
       "      <td>Single line with a big meaning::::: \"Miss anyt...</td>\n",
       "      <td>0</td>\n",
       "    </tr>\n",
       "  </tbody>\n",
       "</table>\n",
       "</div>"
      ],
      "text/plain": [
       "                                                    sms  label\n",
       "2548  Text82228 >> احصل على المزيد من نغمات وشعارات ...      1\n",
       "2823  يجب أن يستجيب كل من Romcapspam جيدًا لوجودك لأ...      1\n",
       "2     دخول مجاني في 2 A Cly Comp to Win Cup Final TK...      1\n",
       "2642  أنت مضمون أحدث هاتف Nokia أو مشغل iPod MP3 40 ...      1\n",
       "1566  & lt ؛#& gt ؛G التي رأيتها قبل بضعة أيام ، يري...      0\n",
       "3043  slaaaaave!أين أنت ؟هل يجب أن أستدلك لي طوال ال...      0\n",
       "3586  القلب فارغ بدون حب .. العقل فارغ بدون حكمة .. ...      0\n",
       "3562  نص حظر إلى 89555 لرؤية!تكلفة 150p TextOperator...      1\n",
       "3372  غدا لن أذهب إلى المسرح...لذلك يمكنني المجيء أي...      0\n",
       "389   4mths نصف السعر استئجار خط البرتقال وأحدث هوات...      1\n",
       "4746  Camera - You are awarded a SiPix Digital Camer...      1\n",
       "4458  Aight should I just plan to come up later toni...      0\n",
       "2498  Dai what this da.. Can i send my resume to thi...      0\n",
       "483                                Watching tv lor...\\n      0\n",
       "1129  Ur HMV Quiz cash-balance is currently £500 - t...      1\n",
       "3397  URGENT! Your Mobile number has been awarded wi...      1\n",
       "833   Dear Voucher Holder, To claim this weeks offer...      1\n",
       "4268  SORRY IM STIL FUCKED AFTER LAST NITE WENT TOBE...      0\n",
       "3988  Ringtone Club: Gr8 new polys direct to your mo...      1\n",
       "1560  Single line with a big meaning::::: \"Miss anyt...      0"
      ]
     },
     "execution_count": 174,
     "metadata": {},
     "output_type": "execute_result"
    }
   ],
   "source": [
    "df.iloc[890:910,:]"
   ]
  },
  {
   "cell_type": "code",
   "execution_count": 183,
   "id": "3d9147e3",
   "metadata": {},
   "outputs": [],
   "source": [
    "df_translated = df.iloc[900:1000, :].copy()\n",
    "#df_translated['sms'] = df_translated['sms'].astype(str)"
   ]
  },
  {
   "cell_type": "code",
   "execution_count": 184,
   "id": "ff0fd692",
   "metadata": {},
   "outputs": [],
   "source": [
    "backup = df.copy()"
   ]
  },
  {
   "cell_type": "code",
   "execution_count": 185,
   "id": "238eac7d",
   "metadata": {},
   "outputs": [],
   "source": [
    "df_translated['sms'] = df_translated['sms'].apply(translate_text)"
   ]
  },
  {
   "cell_type": "code",
   "execution_count": 186,
   "id": "de313cc9",
   "metadata": {},
   "outputs": [
    {
     "data": {
      "text/plain": [
       "'Last Chance! Claim ur £150 worth of discount vouchers today! Text SHOP to 85023 now! SavaMob, offers mobile! T Cs SavaMob POBOX84, M263UZ. £3.00 Sub. 16\\n'"
      ]
     },
     "execution_count": 186,
     "metadata": {},
     "output_type": "execute_result"
    }
   ],
   "source": [
    "df.iloc[999]['sms']"
   ]
  },
  {
   "cell_type": "code",
   "execution_count": 187,
   "id": "d18c0aa7",
   "metadata": {},
   "outputs": [
    {
     "data": {
      "text/plain": [
       "'آخر فرصة!ادعى أنك قسائم خصم بقيمة 150 جنيهًا إسترلينيًا اليوم!متجر النص إلى 85023 الآن!Savamob ، يقدم الهاتف المحمول!t cs savamob pobox84 ، m263uz.3.00 جنيه إسترليني.16'"
      ]
     },
     "execution_count": 187,
     "metadata": {},
     "output_type": "execute_result"
    }
   ],
   "source": [
    "df_translated.iloc[99]['sms']"
   ]
  },
  {
   "cell_type": "code",
   "execution_count": 188,
   "id": "c8bb1ceb",
   "metadata": {},
   "outputs": [
    {
     "name": "stderr",
     "output_type": "stream",
     "text": [
      "C:\\Users\\yazan\\AppData\\Local\\Temp\\ipykernel_7936\\3496137104.py:2: SettingWithCopyWarning: \n",
      "A value is trying to be set on a copy of a slice from a DataFrame\n",
      "\n",
      "See the caveats in the documentation: https://pandas.pydata.org/pandas-docs/stable/user_guide/indexing.html#returning-a-view-versus-a-copy\n",
      "  df['sms'].iloc[i] = df_translated['sms'].iloc[i-900]\n"
     ]
    }
   ],
   "source": [
    "for i in range(900,1000):   \n",
    "    df['sms'].iloc[i] = df_translated['sms'].iloc[i-900]"
   ]
  },
  {
   "cell_type": "code",
   "execution_count": 189,
   "id": "7b59e40f",
   "metadata": {},
   "outputs": [
    {
     "data": {
      "text/html": [
       "<div>\n",
       "<style scoped>\n",
       "    .dataframe tbody tr th:only-of-type {\n",
       "        vertical-align: middle;\n",
       "    }\n",
       "\n",
       "    .dataframe tbody tr th {\n",
       "        vertical-align: top;\n",
       "    }\n",
       "\n",
       "    .dataframe thead th {\n",
       "        text-align: right;\n",
       "    }\n",
       "</style>\n",
       "<table border=\"1\" class=\"dataframe\">\n",
       "  <thead>\n",
       "    <tr style=\"text-align: right;\">\n",
       "      <th></th>\n",
       "      <th>sms</th>\n",
       "      <th>label</th>\n",
       "    </tr>\n",
       "  </thead>\n",
       "  <tbody>\n",
       "    <tr>\n",
       "      <th>5470</th>\n",
       "      <td>عاجل!عروض السحب في نهاية الأسبوع الماضي أنك فا...</td>\n",
       "      <td>1</td>\n",
       "    </tr>\n",
       "    <tr>\n",
       "      <th>5344</th>\n",
       "      <td>u r المشترك 2 textcomp 250 wkly شركات.يتبع الس...</td>\n",
       "      <td>1</td>\n",
       "    </tr>\n",
       "    <tr>\n",
       "      <th>2266</th>\n",
       "      <td>لا يمكنني اختيار الهاتف الآن.الرجاء إرسال رسالة</td>\n",
       "      <td>0</td>\n",
       "    </tr>\n",
       "    <tr>\n",
       "      <th>3420</th>\n",
       "      <td>هل تريد هاتف فيديو جديد؟600 في أي وقت أي شبكة ...</td>\n",
       "      <td>1</td>\n",
       "    </tr>\n",
       "    <tr>\n",
       "      <th>1887</th>\n",
       "      <td>عزيزي 0776xxxxxx u've تمت دعوتها إلى Xchat.هذه...</td>\n",
       "      <td>1</td>\n",
       "    </tr>\n",
       "    <tr>\n",
       "      <th>525</th>\n",
       "      <td>Urgent!: حصل رقم هاتفك المحمول على جائزة مصلحة...</td>\n",
       "      <td>1</td>\n",
       "    </tr>\n",
       "    <tr>\n",
       "      <th>5511</th>\n",
       "      <td>لول كانوا غاضبين في البداية ولكن بعد ذلك استيق...</td>\n",
       "      <td>0</td>\n",
       "    </tr>\n",
       "    <tr>\n",
       "      <th>1638</th>\n",
       "      <td>تسمح شبكات 0A $ للشركات بفاتورة الرسائل القصير...</td>\n",
       "      <td>1</td>\n",
       "    </tr>\n",
       "    <tr>\n",
       "      <th>3316</th>\n",
       "      <td>رسالة مجانية تنشيط رسائل نصية مجانية 500 من خل...</td>\n",
       "      <td>1</td>\n",
       "    </tr>\n",
       "    <tr>\n",
       "      <th>2881</th>\n",
       "      <td>آخر فرصة!ادعى أنك قسائم خصم بقيمة 150 جنيهًا إ...</td>\n",
       "      <td>1</td>\n",
       "    </tr>\n",
       "    <tr>\n",
       "      <th>4534</th>\n",
       "      <td>Gr8 new service - live sex video chat on your ...</td>\n",
       "      <td>1</td>\n",
       "    </tr>\n",
       "    <tr>\n",
       "      <th>1154</th>\n",
       "      <td>1000's of girls many local 2 u who r virgins 2...</td>\n",
       "      <td>1</td>\n",
       "    </tr>\n",
       "    <tr>\n",
       "      <th>117</th>\n",
       "      <td>You are a winner U have been specially selecte...</td>\n",
       "      <td>1</td>\n",
       "    </tr>\n",
       "    <tr>\n",
       "      <th>2627</th>\n",
       "      <td>Unni thank you dear for the recharge..Rakhesh\\n</td>\n",
       "      <td>0</td>\n",
       "    </tr>\n",
       "    <tr>\n",
       "      <th>4545</th>\n",
       "      <td>when you and derek done with class?\\n</td>\n",
       "      <td>0</td>\n",
       "    </tr>\n",
       "    <tr>\n",
       "      <th>2473</th>\n",
       "      <td>Final Chance! Claim ur £150 worth of discount ...</td>\n",
       "      <td>1</td>\n",
       "    </tr>\n",
       "    <tr>\n",
       "      <th>4897</th>\n",
       "      <td>2 and half years i missed your friendship:-)\\n</td>\n",
       "      <td>0</td>\n",
       "    </tr>\n",
       "    <tr>\n",
       "      <th>4312</th>\n",
       "      <td>It so happens that there r 2waxsto do wat you ...</td>\n",
       "      <td>0</td>\n",
       "    </tr>\n",
       "    <tr>\n",
       "      <th>4377</th>\n",
       "      <td>If you don't, your prize will go to another cu...</td>\n",
       "      <td>1</td>\n",
       "    </tr>\n",
       "    <tr>\n",
       "      <th>420</th>\n",
       "      <td>Send a logo 2 ur lover - 2 names joined by a h...</td>\n",
       "      <td>1</td>\n",
       "    </tr>\n",
       "  </tbody>\n",
       "</table>\n",
       "</div>"
      ],
      "text/plain": [
       "                                                    sms  label\n",
       "5470  عاجل!عروض السحب في نهاية الأسبوع الماضي أنك فا...      1\n",
       "5344  u r المشترك 2 textcomp 250 wkly شركات.يتبع الس...      1\n",
       "2266    لا يمكنني اختيار الهاتف الآن.الرجاء إرسال رسالة      0\n",
       "3420  هل تريد هاتف فيديو جديد؟600 في أي وقت أي شبكة ...      1\n",
       "1887  عزيزي 0776xxxxxx u've تمت دعوتها إلى Xchat.هذه...      1\n",
       "525   Urgent!: حصل رقم هاتفك المحمول على جائزة مصلحة...      1\n",
       "5511  لول كانوا غاضبين في البداية ولكن بعد ذلك استيق...      0\n",
       "1638  تسمح شبكات 0A $ للشركات بفاتورة الرسائل القصير...      1\n",
       "3316  رسالة مجانية تنشيط رسائل نصية مجانية 500 من خل...      1\n",
       "2881  آخر فرصة!ادعى أنك قسائم خصم بقيمة 150 جنيهًا إ...      1\n",
       "4534  Gr8 new service - live sex video chat on your ...      1\n",
       "1154  1000's of girls many local 2 u who r virgins 2...      1\n",
       "117   You are a winner U have been specially selecte...      1\n",
       "2627    Unni thank you dear for the recharge..Rakhesh\\n      0\n",
       "4545              when you and derek done with class?\\n      0\n",
       "2473  Final Chance! Claim ur £150 worth of discount ...      1\n",
       "4897     2 and half years i missed your friendship:-)\\n      0\n",
       "4312  It so happens that there r 2waxsto do wat you ...      0\n",
       "4377  If you don't, your prize will go to another cu...      1\n",
       "420   Send a logo 2 ur lover - 2 names joined by a h...      1"
      ]
     },
     "execution_count": 189,
     "metadata": {},
     "output_type": "execute_result"
    }
   ],
   "source": [
    "df.iloc[990:1010,:]"
   ]
  },
  {
   "cell_type": "code",
   "execution_count": 194,
   "id": "4797b715",
   "metadata": {},
   "outputs": [],
   "source": [
    "df_translated = df.iloc[1000:1100, :].copy()\n",
    "#df_translated['sms'] = df_translated['sms'].astype(str)"
   ]
  },
  {
   "cell_type": "code",
   "execution_count": 195,
   "id": "0bbebacb",
   "metadata": {},
   "outputs": [],
   "source": [
    "df_translated['sms'] = df_translated['sms'].apply(translate_text)"
   ]
  },
  {
   "cell_type": "code",
   "execution_count": 196,
   "id": "97ed6a1b",
   "metadata": {},
   "outputs": [
    {
     "data": {
      "text/plain": [
       "'Free Msg: Ringtone!From: http://tms. widelive.com/index. wml?id=1b6a5ecef91ff9*37819&first=true18:0430-JUL-05\\n'"
      ]
     },
     "execution_count": 196,
     "metadata": {},
     "output_type": "execute_result"
    }
   ],
   "source": [
    "df.iloc[1099]['sms']"
   ]
  },
  {
   "cell_type": "code",
   "execution_count": 197,
   "id": "e1d65cbc",
   "metadata": {},
   "outputs": [
    {
     "data": {
      "text/plain": [
       "'MSG المجاني: نغمة! من: http: // tms.widelive.com/index.wml؟ id = 1b6a5ecef91ff9*37819 & first = true18: 0430-Jul-05'"
      ]
     },
     "execution_count": 197,
     "metadata": {},
     "output_type": "execute_result"
    }
   ],
   "source": [
    "df_translated.iloc[99]['sms']"
   ]
  },
  {
   "cell_type": "code",
   "execution_count": 199,
   "id": "ca08a78c",
   "metadata": {},
   "outputs": [
    {
     "name": "stderr",
     "output_type": "stream",
     "text": [
      "C:\\Users\\yazan\\AppData\\Local\\Temp\\ipykernel_7936\\4288210907.py:2: SettingWithCopyWarning: \n",
      "A value is trying to be set on a copy of a slice from a DataFrame\n",
      "\n",
      "See the caveats in the documentation: https://pandas.pydata.org/pandas-docs/stable/user_guide/indexing.html#returning-a-view-versus-a-copy\n",
      "  df['sms'].iloc[i] = df_translated['sms'].iloc[i-1000]\n"
     ]
    }
   ],
   "source": [
    "for i in range(1000,1100):   \n",
    "    df['sms'].iloc[i] = df_translated['sms'].iloc[i-1000]"
   ]
  },
  {
   "cell_type": "code",
   "execution_count": 200,
   "id": "0ece047f",
   "metadata": {},
   "outputs": [
    {
     "data": {
      "text/html": [
       "<div>\n",
       "<style scoped>\n",
       "    .dataframe tbody tr th:only-of-type {\n",
       "        vertical-align: middle;\n",
       "    }\n",
       "\n",
       "    .dataframe tbody tr th {\n",
       "        vertical-align: top;\n",
       "    }\n",
       "\n",
       "    .dataframe thead th {\n",
       "        text-align: right;\n",
       "    }\n",
       "</style>\n",
       "<table border=\"1\" class=\"dataframe\">\n",
       "  <thead>\n",
       "    <tr style=\"text-align: right;\">\n",
       "      <th></th>\n",
       "      <th>sms</th>\n",
       "      <th>label</th>\n",
       "    </tr>\n",
       "  </thead>\n",
       "  <tbody>\n",
       "    <tr>\n",
       "      <th>3466</th>\n",
       "      <td>هاها شخصيات ، لقد وجدت القطعة وعاء بريسيلا</td>\n",
       "      <td>0</td>\n",
       "    </tr>\n",
       "    <tr>\n",
       "      <th>3624</th>\n",
       "      <td>اللعنة ، ZAC الفقيرة لا تقف فرصة</td>\n",
       "      <td>0</td>\n",
       "    </tr>\n",
       "    <tr>\n",
       "      <th>2783</th>\n",
       "      <td>حسنًا ، في هذا الصحيح ، سأضطر إلى الاستيقاظ وا...</td>\n",
       "      <td>0</td>\n",
       "    </tr>\n",
       "    <tr>\n",
       "      <th>4280</th>\n",
       "      <td>عاجل.معلومات مهمة لمستخدم 02.اليوم هو يومك الم...</td>\n",
       "      <td>1</td>\n",
       "    </tr>\n",
       "    <tr>\n",
       "      <th>5202</th>\n",
       "      <td>اتصل بألمانيا لمدة 1 بنس فقط في الدقيقة!اتصل م...</td>\n",
       "      <td>1</td>\n",
       "    </tr>\n",
       "    <tr>\n",
       "      <th>2435</th>\n",
       "      <td>العم بوي.أحتاج إلى أفلام أوه.ارشدني.بالإضافة إ...</td>\n",
       "      <td>0</td>\n",
       "    </tr>\n",
       "    <tr>\n",
       "      <th>3642</th>\n",
       "      <td>يمكنك إيقاف المزيد من نغمات النادي عن طريق الر...</td>\n",
       "      <td>1</td>\n",
       "    </tr>\n",
       "    <tr>\n",
       "      <th>4149</th>\n",
       "      <td>يرجى الاتصال بـ Amanda فيما يتعلق بتجديد أو تر...</td>\n",
       "      <td>1</td>\n",
       "    </tr>\n",
       "    <tr>\n",
       "      <th>234</th>\n",
       "      <td>نعم :) هنا التلفزيون متوفر دائمًا في مكان العم...</td>\n",
       "      <td>0</td>\n",
       "    </tr>\n",
       "    <tr>\n",
       "      <th>3862</th>\n",
       "      <td>MSG المجاني: نغمة! من: http: // tms.widelive.c...</td>\n",
       "      <td>1</td>\n",
       "    </tr>\n",
       "    <tr>\n",
       "      <th>4701</th>\n",
       "      <td>WIN: We have a winner! Mr. T. Foley won an iPo...</td>\n",
       "      <td>1</td>\n",
       "    </tr>\n",
       "    <tr>\n",
       "      <th>656</th>\n",
       "      <td>Tell them the drug dealer's getting impatient\\n</td>\n",
       "      <td>0</td>\n",
       "    </tr>\n",
       "    <tr>\n",
       "      <th>5121</th>\n",
       "      <td>Lol for real. She told my dad I have cancer\\n</td>\n",
       "      <td>0</td>\n",
       "    </tr>\n",
       "    <tr>\n",
       "      <th>31</th>\n",
       "      <td>Yeah he got in at 2 and was v apologetic. n ha...</td>\n",
       "      <td>0</td>\n",
       "    </tr>\n",
       "    <tr>\n",
       "      <th>797</th>\n",
       "      <td>Orange customer, you may now claim your FREE C...</td>\n",
       "      <td>1</td>\n",
       "    </tr>\n",
       "    <tr>\n",
       "      <th>5526</th>\n",
       "      <td>You are awarded a SiPix Digital Camera! call 0...</td>\n",
       "      <td>1</td>\n",
       "    </tr>\n",
       "    <tr>\n",
       "      <th>4033</th>\n",
       "      <td>I'm very happy for you babe ! Woo hoo party on...</td>\n",
       "      <td>0</td>\n",
       "    </tr>\n",
       "    <tr>\n",
       "      <th>1654</th>\n",
       "      <td>I was at bugis juz now wat... But now i'm walk...</td>\n",
       "      <td>0</td>\n",
       "    </tr>\n",
       "    <tr>\n",
       "      <th>804</th>\n",
       "      <td>You have won a guaranteed £200 award or even £...</td>\n",
       "      <td>1</td>\n",
       "    </tr>\n",
       "    <tr>\n",
       "      <th>4888</th>\n",
       "      <td>Todays Vodafone numbers ending with 4882 are s...</td>\n",
       "      <td>1</td>\n",
       "    </tr>\n",
       "  </tbody>\n",
       "</table>\n",
       "</div>"
      ],
      "text/plain": [
       "                                                    sms  label\n",
       "3466         هاها شخصيات ، لقد وجدت القطعة وعاء بريسيلا      0\n",
       "3624                   اللعنة ، ZAC الفقيرة لا تقف فرصة      0\n",
       "2783  حسنًا ، في هذا الصحيح ، سأضطر إلى الاستيقاظ وا...      0\n",
       "4280  عاجل.معلومات مهمة لمستخدم 02.اليوم هو يومك الم...      1\n",
       "5202  اتصل بألمانيا لمدة 1 بنس فقط في الدقيقة!اتصل م...      1\n",
       "2435  العم بوي.أحتاج إلى أفلام أوه.ارشدني.بالإضافة إ...      0\n",
       "3642  يمكنك إيقاف المزيد من نغمات النادي عن طريق الر...      1\n",
       "4149  يرجى الاتصال بـ Amanda فيما يتعلق بتجديد أو تر...      1\n",
       "234   نعم :) هنا التلفزيون متوفر دائمًا في مكان العم...      0\n",
       "3862  MSG المجاني: نغمة! من: http: // tms.widelive.c...      1\n",
       "4701  WIN: We have a winner! Mr. T. Foley won an iPo...      1\n",
       "656     Tell them the drug dealer's getting impatient\\n      0\n",
       "5121      Lol for real. She told my dad I have cancer\\n      0\n",
       "31    Yeah he got in at 2 and was v apologetic. n ha...      0\n",
       "797   Orange customer, you may now claim your FREE C...      1\n",
       "5526  You are awarded a SiPix Digital Camera! call 0...      1\n",
       "4033  I'm very happy for you babe ! Woo hoo party on...      0\n",
       "1654  I was at bugis juz now wat... But now i'm walk...      0\n",
       "804   You have won a guaranteed £200 award or even £...      1\n",
       "4888  Todays Vodafone numbers ending with 4882 are s...      1"
      ]
     },
     "execution_count": 200,
     "metadata": {},
     "output_type": "execute_result"
    }
   ],
   "source": [
    "df.iloc[1090:1110,:]"
   ]
  },
  {
   "cell_type": "code",
   "execution_count": 205,
   "id": "b50023f2",
   "metadata": {},
   "outputs": [],
   "source": [
    "df_translated = df.iloc[1100:1200, :].copy()\n",
    "#df_translated['sms'] = df_translated['sms'].astype(str)"
   ]
  },
  {
   "cell_type": "code",
   "execution_count": 206,
   "id": "830167ba",
   "metadata": {},
   "outputs": [],
   "source": [
    "df_translated['sms'] = df_translated['sms'].apply(translate_text)"
   ]
  },
  {
   "cell_type": "code",
   "execution_count": 210,
   "id": "dfc83baf",
   "metadata": {},
   "outputs": [
    {
     "data": {
      "text/plain": [
       "'We will meet soon princess! Ttyl!\\n'"
      ]
     },
     "execution_count": 210,
     "metadata": {},
     "output_type": "execute_result"
    }
   ],
   "source": [
    "df.iloc[1199]['sms']"
   ]
  },
  {
   "cell_type": "code",
   "execution_count": 211,
   "id": "b326cc80",
   "metadata": {},
   "outputs": [
    {
     "data": {
      "text/plain": [
       "'سنلتقي قريبا الأميرة!سأتحدث إليك لاحقاً!'"
      ]
     },
     "execution_count": 211,
     "metadata": {},
     "output_type": "execute_result"
    }
   ],
   "source": [
    "df_translated.iloc[99]['sms']"
   ]
  },
  {
   "cell_type": "code",
   "execution_count": 212,
   "id": "73c2d14a",
   "metadata": {},
   "outputs": [
    {
     "name": "stderr",
     "output_type": "stream",
     "text": [
      "C:\\Users\\yazan\\AppData\\Local\\Temp\\ipykernel_7936\\3650709710.py:2: SettingWithCopyWarning: \n",
      "A value is trying to be set on a copy of a slice from a DataFrame\n",
      "\n",
      "See the caveats in the documentation: https://pandas.pydata.org/pandas-docs/stable/user_guide/indexing.html#returning-a-view-versus-a-copy\n",
      "  df['sms'].iloc[i] = df_translated['sms'].iloc[i-1100]\n"
     ]
    }
   ],
   "source": [
    "for i in range(1100,1200):   \n",
    "    df['sms'].iloc[i] = df_translated['sms'].iloc[i-1100]"
   ]
  },
  {
   "cell_type": "code",
   "execution_count": 213,
   "id": "bc50ad8d",
   "metadata": {},
   "outputs": [
    {
     "data": {
      "text/html": [
       "<div>\n",
       "<style scoped>\n",
       "    .dataframe tbody tr th:only-of-type {\n",
       "        vertical-align: middle;\n",
       "    }\n",
       "\n",
       "    .dataframe tbody tr th {\n",
       "        vertical-align: top;\n",
       "    }\n",
       "\n",
       "    .dataframe thead th {\n",
       "        text-align: right;\n",
       "    }\n",
       "</style>\n",
       "<table border=\"1\" class=\"dataframe\">\n",
       "  <thead>\n",
       "    <tr style=\"text-align: right;\">\n",
       "      <th></th>\n",
       "      <th>sms</th>\n",
       "      <th>label</th>\n",
       "    </tr>\n",
       "  </thead>\n",
       "  <tbody>\n",
       "    <tr>\n",
       "      <th>3564</th>\n",
       "      <td>جولة المزاد 4. أعلى عرض هو الآن 54 جنيهًا إستر...</td>\n",
       "      <td>1</td>\n",
       "    </tr>\n",
       "    <tr>\n",
       "      <th>1048</th>\n",
       "      <td>1000 مغازلة الآن!txt girl أو bloke &amp; ur you ac...</td>\n",
       "      <td>1</td>\n",
       "    </tr>\n",
       "    <tr>\n",
       "      <th>95</th>\n",
       "      <td>نغمة الرنين المجانية تنتظر جمعها.ما عليك سوى إ...</td>\n",
       "      <td>1</td>\n",
       "    </tr>\n",
       "    <tr>\n",
       "      <th>2233</th>\n",
       "      <td>لا شيء مجرد الحصول على رسائل باسم dis مع مختلف...</td>\n",
       "      <td>0</td>\n",
       "    </tr>\n",
       "    <tr>\n",
       "      <th>4069</th>\n",
       "      <td>TBS/Persolvo.تم مطاردتنا منذ سبتمبر مقابل 38 ج...</td>\n",
       "      <td>1</td>\n",
       "    </tr>\n",
       "    <tr>\n",
       "      <th>4901</th>\n",
       "      <td>يتم ضمان أحدث هاتف Nokia ، أو مشغل iPod MP3 40...</td>\n",
       "      <td>1</td>\n",
       "    </tr>\n",
       "    <tr>\n",
       "      <th>3605</th>\n",
       "      <td>مهلا صباحا ما أتيت لتسأل :-) السلطة الفلسطينية...</td>\n",
       "      <td>0</td>\n",
       "    </tr>\n",
       "    <tr>\n",
       "      <th>3796</th>\n",
       "      <td>تذكر أيضًا أن الخرزات لا تنفجر.أبدًا.</td>\n",
       "      <td>0</td>\n",
       "    </tr>\n",
       "    <tr>\n",
       "      <th>2733</th>\n",
       "      <td>كيف تجرؤ على غبي.لن أقول لك أي شيء.اسمع بعد أن...</td>\n",
       "      <td>0</td>\n",
       "    </tr>\n",
       "    <tr>\n",
       "      <th>4476</th>\n",
       "      <td>سنلتقي قريبا الأميرة!سأتحدث إليك لاحقاً!</td>\n",
       "      <td>0</td>\n",
       "    </tr>\n",
       "    <tr>\n",
       "      <th>1760</th>\n",
       "      <td>Do u ever get a song stuck in your head for no...</td>\n",
       "      <td>0</td>\n",
       "    </tr>\n",
       "    <tr>\n",
       "      <th>2044</th>\n",
       "      <td>4mths half price Orange line rental &amp; latest c...</td>\n",
       "      <td>1</td>\n",
       "    </tr>\n",
       "    <tr>\n",
       "      <th>4045</th>\n",
       "      <td>Yes, my reg is  Ciao!\\n</td>\n",
       "      <td>0</td>\n",
       "    </tr>\n",
       "    <tr>\n",
       "      <th>1597</th>\n",
       "      <td>As a Registered Subscriber yr draw 4 a £100 gi...</td>\n",
       "      <td>1</td>\n",
       "    </tr>\n",
       "    <tr>\n",
       "      <th>159</th>\n",
       "      <td>Customer service annoncement. You have a New Y...</td>\n",
       "      <td>1</td>\n",
       "    </tr>\n",
       "    <tr>\n",
       "      <th>3266</th>\n",
       "      <td>44 7732584351, Do you want a New Nokia 3510i c...</td>\n",
       "      <td>1</td>\n",
       "    </tr>\n",
       "    <tr>\n",
       "      <th>3577</th>\n",
       "      <td>The sign of maturity is not when we start sayi...</td>\n",
       "      <td>0</td>\n",
       "    </tr>\n",
       "    <tr>\n",
       "      <th>1625</th>\n",
       "      <td>500 free text msgs. Just text ok to 80488 and ...</td>\n",
       "      <td>1</td>\n",
       "    </tr>\n",
       "    <tr>\n",
       "      <th>250</th>\n",
       "      <td>Congratulations ur awarded 500 of CD vouchers ...</td>\n",
       "      <td>1</td>\n",
       "    </tr>\n",
       "    <tr>\n",
       "      <th>1079</th>\n",
       "      <td>Convey my regards to him\\n</td>\n",
       "      <td>0</td>\n",
       "    </tr>\n",
       "  </tbody>\n",
       "</table>\n",
       "</div>"
      ],
      "text/plain": [
       "                                                    sms  label\n",
       "3564  جولة المزاد 4. أعلى عرض هو الآن 54 جنيهًا إستر...      1\n",
       "1048  1000 مغازلة الآن!txt girl أو bloke & ur you ac...      1\n",
       "95    نغمة الرنين المجانية تنتظر جمعها.ما عليك سوى إ...      1\n",
       "2233  لا شيء مجرد الحصول على رسائل باسم dis مع مختلف...      0\n",
       "4069  TBS/Persolvo.تم مطاردتنا منذ سبتمبر مقابل 38 ج...      1\n",
       "4901  يتم ضمان أحدث هاتف Nokia ، أو مشغل iPod MP3 40...      1\n",
       "3605  مهلا صباحا ما أتيت لتسأل :-) السلطة الفلسطينية...      0\n",
       "3796              تذكر أيضًا أن الخرزات لا تنفجر.أبدًا.      0\n",
       "2733  كيف تجرؤ على غبي.لن أقول لك أي شيء.اسمع بعد أن...      0\n",
       "4476           سنلتقي قريبا الأميرة!سأتحدث إليك لاحقاً!      0\n",
       "1760  Do u ever get a song stuck in your head for no...      0\n",
       "2044  4mths half price Orange line rental & latest c...      1\n",
       "4045                            Yes, my reg is  Ciao!\\n      0\n",
       "1597  As a Registered Subscriber yr draw 4 a £100 gi...      1\n",
       "159   Customer service annoncement. You have a New Y...      1\n",
       "3266  44 7732584351, Do you want a New Nokia 3510i c...      1\n",
       "3577  The sign of maturity is not when we start sayi...      0\n",
       "1625  500 free text msgs. Just text ok to 80488 and ...      1\n",
       "250   Congratulations ur awarded 500 of CD vouchers ...      1\n",
       "1079                         Convey my regards to him\\n      0"
      ]
     },
     "execution_count": 213,
     "metadata": {},
     "output_type": "execute_result"
    }
   ],
   "source": [
    "df.iloc[1190:1210,:]"
   ]
  },
  {
   "cell_type": "code",
   "execution_count": 214,
   "id": "476c3f86",
   "metadata": {},
   "outputs": [],
   "source": [
    "df_translated = df.iloc[1200:1300, :].copy()\n",
    "#df_translated['sms'] = df_translated['sms'].astype(str)"
   ]
  },
  {
   "cell_type": "code",
   "execution_count": 215,
   "id": "028d52c6",
   "metadata": {},
   "outputs": [],
   "source": [
    "df_translated['sms'] = df_translated['sms'].apply(translate_text)"
   ]
  },
  {
   "cell_type": "code",
   "execution_count": 216,
   "id": "5683908f",
   "metadata": {},
   "outputs": [
    {
     "data": {
      "text/plain": [
       "'I need you to be in my strong arms...\\n'"
      ]
     },
     "execution_count": 216,
     "metadata": {},
     "output_type": "execute_result"
    }
   ],
   "source": [
    "df.iloc[1299]['sms']"
   ]
  },
  {
   "cell_type": "code",
   "execution_count": 217,
   "id": "ae4dd56c",
   "metadata": {},
   "outputs": [
    {
     "data": {
      "text/plain": [
       "'أريدك أن تكون بين ذراعي القوية ...'"
      ]
     },
     "execution_count": 217,
     "metadata": {},
     "output_type": "execute_result"
    }
   ],
   "source": [
    "df_translated.iloc[99]['sms']"
   ]
  },
  {
   "cell_type": "code",
   "execution_count": 218,
   "id": "ba4c059f",
   "metadata": {},
   "outputs": [
    {
     "name": "stderr",
     "output_type": "stream",
     "text": [
      "C:\\Users\\yazan\\AppData\\Local\\Temp\\ipykernel_7936\\1093054256.py:2: SettingWithCopyWarning: \n",
      "A value is trying to be set on a copy of a slice from a DataFrame\n",
      "\n",
      "See the caveats in the documentation: https://pandas.pydata.org/pandas-docs/stable/user_guide/indexing.html#returning-a-view-versus-a-copy\n",
      "  df['sms'].iloc[i] = df_translated['sms'].iloc[i-1200]\n"
     ]
    }
   ],
   "source": [
    "for i in range(1200,1300):   \n",
    "    df['sms'].iloc[i] = df_translated['sms'].iloc[i-1200]"
   ]
  },
  {
   "cell_type": "code",
   "execution_count": 219,
   "id": "2f56d844",
   "metadata": {},
   "outputs": [
    {
     "data": {
      "text/html": [
       "<div>\n",
       "<style scoped>\n",
       "    .dataframe tbody tr th:only-of-type {\n",
       "        vertical-align: middle;\n",
       "    }\n",
       "\n",
       "    .dataframe tbody tr th {\n",
       "        vertical-align: top;\n",
       "    }\n",
       "\n",
       "    .dataframe thead th {\n",
       "        text-align: right;\n",
       "    }\n",
       "</style>\n",
       "<table border=\"1\" class=\"dataframe\">\n",
       "  <thead>\n",
       "    <tr style=\"text-align: right;\">\n",
       "      <th></th>\n",
       "      <th>sms</th>\n",
       "      <th>label</th>\n",
       "    </tr>\n",
       "  </thead>\n",
       "  <tbody>\n",
       "    <tr>\n",
       "      <th>3089</th>\n",
       "      <td>\"wnevr أنا wana fal في Luv vth كتبي ، ومزيف سر...</td>\n",
       "      <td>0</td>\n",
       "    </tr>\n",
       "    <tr>\n",
       "      <th>1407</th>\n",
       "      <td>معلومات عاجلة ومهمة لمستخدم O2.اليوم هو يومك ا...</td>\n",
       "      <td>1</td>\n",
       "    </tr>\n",
       "    <tr>\n",
       "      <th>558</th>\n",
       "      <td>أعلم أن صديقي قال ذلك بالفعل.</td>\n",
       "      <td>0</td>\n",
       "    </tr>\n",
       "    <tr>\n",
       "      <th>1741</th>\n",
       "      <td>اور الذهاب 2 البهاما!Callfreefone 08081560665 ...</td>\n",
       "      <td>1</td>\n",
       "    </tr>\n",
       "    <tr>\n",
       "      <th>4960</th>\n",
       "      <td>ما أعنيه هو أنني تركت مبكرًا للتحقق ، لأنني أع...</td>\n",
       "      <td>0</td>\n",
       "    </tr>\n",
       "    <tr>\n",
       "      <th>1835</th>\n",
       "      <td>لدي علامة لدغة بارزة إلى حد ما على خدتي اليمنى</td>\n",
       "      <td>0</td>\n",
       "    </tr>\n",
       "    <tr>\n",
       "      <th>4747</th>\n",
       "      <td>orh أنا أقول إنها لا تزال الآن لا تصدق.</td>\n",
       "      <td>0</td>\n",
       "    </tr>\n",
       "    <tr>\n",
       "      <th>2818</th>\n",
       "      <td>GR8 Poly Tones 4 All Mobs Direct 2U rply with ...</td>\n",
       "      <td>1</td>\n",
       "    </tr>\n",
       "    <tr>\n",
       "      <th>1075</th>\n",
       "      <td>anight سيحصل على FB في بضع دقائق</td>\n",
       "      <td>0</td>\n",
       "    </tr>\n",
       "    <tr>\n",
       "      <th>1208</th>\n",
       "      <td>أريدك أن تكون بين ذراعي القوية ...</td>\n",
       "      <td>0</td>\n",
       "    </tr>\n",
       "    <tr>\n",
       "      <th>1521</th>\n",
       "      <td>URGENT! Your Mobile No was awarded a £2,000 Bo...</td>\n",
       "      <td>1</td>\n",
       "    </tr>\n",
       "    <tr>\n",
       "      <th>4760</th>\n",
       "      <td>Thanks 4 your continued support Your question ...</td>\n",
       "      <td>1</td>\n",
       "    </tr>\n",
       "    <tr>\n",
       "      <th>5</th>\n",
       "      <td>FreeMsg Hey there darling it's been 3 week's n...</td>\n",
       "      <td>1</td>\n",
       "    </tr>\n",
       "    <tr>\n",
       "      <th>766</th>\n",
       "      <td>UR awarded a City Break and could WIN a £200 S...</td>\n",
       "      <td>1</td>\n",
       "    </tr>\n",
       "    <tr>\n",
       "      <th>5166</th>\n",
       "      <td>Congrats 2 mobile 3G Videophones R yours. call...</td>\n",
       "      <td>1</td>\n",
       "    </tr>\n",
       "    <tr>\n",
       "      <th>2714</th>\n",
       "      <td>Nope i'm not drivin... I neva develop da photo...</td>\n",
       "      <td>0</td>\n",
       "    </tr>\n",
       "    <tr>\n",
       "      <th>2934</th>\n",
       "      <td>Yo do you know anyone  &amp;lt;#&amp;gt;  or otherwise...</td>\n",
       "      <td>0</td>\n",
       "    </tr>\n",
       "    <tr>\n",
       "      <th>1998</th>\n",
       "      <td>\"YEH I AM DEF UP4 SOMETHING SAT,JUST GOT PAYED...</td>\n",
       "      <td>0</td>\n",
       "    </tr>\n",
       "    <tr>\n",
       "      <th>4970</th>\n",
       "      <td>I will cme i want to go to hos 2morow. After t...</td>\n",
       "      <td>0</td>\n",
       "    </tr>\n",
       "    <tr>\n",
       "      <th>322</th>\n",
       "      <td>Hey... Why dont we just go watch x men and hav...</td>\n",
       "      <td>0</td>\n",
       "    </tr>\n",
       "  </tbody>\n",
       "</table>\n",
       "</div>"
      ],
      "text/plain": [
       "                                                    sms  label\n",
       "3089  \"wnevr أنا wana fal في Luv vth كتبي ، ومزيف سر...      0\n",
       "1407  معلومات عاجلة ومهمة لمستخدم O2.اليوم هو يومك ا...      1\n",
       "558                       أعلم أن صديقي قال ذلك بالفعل.      0\n",
       "1741  اور الذهاب 2 البهاما!Callfreefone 08081560665 ...      1\n",
       "4960  ما أعنيه هو أنني تركت مبكرًا للتحقق ، لأنني أع...      0\n",
       "1835     لدي علامة لدغة بارزة إلى حد ما على خدتي اليمنى      0\n",
       "4747            orh أنا أقول إنها لا تزال الآن لا تصدق.      0\n",
       "2818  GR8 Poly Tones 4 All Mobs Direct 2U rply with ...      1\n",
       "1075                   anight سيحصل على FB في بضع دقائق      0\n",
       "1208                 أريدك أن تكون بين ذراعي القوية ...      0\n",
       "1521  URGENT! Your Mobile No was awarded a £2,000 Bo...      1\n",
       "4760  Thanks 4 your continued support Your question ...      1\n",
       "5     FreeMsg Hey there darling it's been 3 week's n...      1\n",
       "766   UR awarded a City Break and could WIN a £200 S...      1\n",
       "5166  Congrats 2 mobile 3G Videophones R yours. call...      1\n",
       "2714  Nope i'm not drivin... I neva develop da photo...      0\n",
       "2934  Yo do you know anyone  &lt;#&gt;  or otherwise...      0\n",
       "1998  \"YEH I AM DEF UP4 SOMETHING SAT,JUST GOT PAYED...      0\n",
       "4970  I will cme i want to go to hos 2morow. After t...      0\n",
       "322   Hey... Why dont we just go watch x men and hav...      0"
      ]
     },
     "execution_count": 219,
     "metadata": {},
     "output_type": "execute_result"
    }
   ],
   "source": [
    "df.iloc[1290:1310,:]"
   ]
  },
  {
   "cell_type": "code",
   "execution_count": 220,
   "id": "e0ac5d8c",
   "metadata": {},
   "outputs": [
    {
     "data": {
      "text/plain": [
       "(1494, 2)"
      ]
     },
     "execution_count": 220,
     "metadata": {},
     "output_type": "execute_result"
    }
   ],
   "source": [
    "df.shape"
   ]
  },
  {
   "cell_type": "code",
   "execution_count": 221,
   "id": "e9a37125",
   "metadata": {},
   "outputs": [],
   "source": [
    "df_translated = df.iloc[1300:1400, :].copy()\n",
    "#df_translated['sms'] = df_translated['sms'].astype(str)"
   ]
  },
  {
   "cell_type": "code",
   "execution_count": 222,
   "id": "7fe41c93",
   "metadata": {},
   "outputs": [],
   "source": [
    "df_translated['sms'] = df_translated['sms'].apply(translate_text)"
   ]
  },
  {
   "cell_type": "code",
   "execution_count": 223,
   "id": "32ce0514",
   "metadata": {},
   "outputs": [
    {
     "data": {
      "text/plain": [
       "'Ok i go change also...\\n'"
      ]
     },
     "execution_count": 223,
     "metadata": {},
     "output_type": "execute_result"
    }
   ],
   "source": [
    "df.iloc[1399]['sms']"
   ]
  },
  {
   "cell_type": "code",
   "execution_count": 224,
   "id": "2b693887",
   "metadata": {},
   "outputs": [
    {
     "data": {
      "text/plain": [
       "'حسنًا ، أذهب للتغيير أيضًا ...'"
      ]
     },
     "execution_count": 224,
     "metadata": {},
     "output_type": "execute_result"
    }
   ],
   "source": [
    "df_translated.iloc[99]['sms']"
   ]
  },
  {
   "cell_type": "code",
   "execution_count": 225,
   "id": "5781dc1d",
   "metadata": {},
   "outputs": [
    {
     "name": "stderr",
     "output_type": "stream",
     "text": [
      "C:\\Users\\yazan\\AppData\\Local\\Temp\\ipykernel_7936\\2732002364.py:2: SettingWithCopyWarning: \n",
      "A value is trying to be set on a copy of a slice from a DataFrame\n",
      "\n",
      "See the caveats in the documentation: https://pandas.pydata.org/pandas-docs/stable/user_guide/indexing.html#returning-a-view-versus-a-copy\n",
      "  df['sms'].iloc[i] = df_translated['sms'].iloc[i-1300]\n"
     ]
    }
   ],
   "source": [
    "for i in range(1300,1400):   \n",
    "    df['sms'].iloc[i] = df_translated['sms'].iloc[i-1300]"
   ]
  },
  {
   "cell_type": "code",
   "execution_count": 226,
   "id": "a966d2cf",
   "metadata": {},
   "outputs": [
    {
     "data": {
      "text/html": [
       "<div>\n",
       "<style scoped>\n",
       "    .dataframe tbody tr th:only-of-type {\n",
       "        vertical-align: middle;\n",
       "    }\n",
       "\n",
       "    .dataframe tbody tr th {\n",
       "        vertical-align: top;\n",
       "    }\n",
       "\n",
       "    .dataframe thead th {\n",
       "        text-align: right;\n",
       "    }\n",
       "</style>\n",
       "<table border=\"1\" class=\"dataframe\">\n",
       "  <thead>\n",
       "    <tr style=\"text-align: right;\">\n",
       "      <th></th>\n",
       "      <th>sms</th>\n",
       "      <th>label</th>\n",
       "    </tr>\n",
       "  </thead>\n",
       "  <tbody>\n",
       "    <tr>\n",
       "      <th>1033</th>\n",
       "      <td>سنة جديدة سعيدة يا رجل رقم 1</td>\n",
       "      <td>0</td>\n",
       "    </tr>\n",
       "    <tr>\n",
       "      <th>3906</th>\n",
       "      <td>هل تريد هاتف فيديو جديد؟750 في أي وقت أي شبكة ...</td>\n",
       "      <td>1</td>\n",
       "    </tr>\n",
       "    <tr>\n",
       "      <th>433</th>\n",
       "      <td>تهاني!Nokia 3650 Camera Camera Phone هو مكالمت...</td>\n",
       "      <td>1</td>\n",
       "    </tr>\n",
       "    <tr>\n",
       "      <th>68</th>\n",
       "      <td>هل سمعت عن \"الطلاق باربي\" الجديد؟إنه يأتي مع ك...</td>\n",
       "      <td>1</td>\n",
       "    </tr>\n",
       "    <tr>\n",
       "      <th>4447</th>\n",
       "      <td>عيد ميلاد سعيد لك أيضا آني!</td>\n",
       "      <td>0</td>\n",
       "    </tr>\n",
       "    <tr>\n",
       "      <th>3029</th>\n",
       "      <td>لقد حصلت على موهبة لكنك تضيع.</td>\n",
       "      <td>0</td>\n",
       "    </tr>\n",
       "    <tr>\n",
       "      <th>3709</th>\n",
       "      <td>نغمة رنين أعلى مجانية إلى نغمة رنين أسبوعية وا...</td>\n",
       "      <td>1</td>\n",
       "    </tr>\n",
       "    <tr>\n",
       "      <th>2774</th>\n",
       "      <td>كيف يستغرق الأمر القليل من الوقت لطفل يخاف من ...</td>\n",
       "      <td>1</td>\n",
       "    </tr>\n",
       "    <tr>\n",
       "      <th>1229</th>\n",
       "      <td>الدخول المجاني إلى شركاتنا الأسبوعية البالغة 2...</td>\n",
       "      <td>1</td>\n",
       "    </tr>\n",
       "    <tr>\n",
       "      <th>1153</th>\n",
       "      <td>حسنًا ، أذهب للتغيير أيضًا ...</td>\n",
       "      <td>0</td>\n",
       "    </tr>\n",
       "    <tr>\n",
       "      <th>1502</th>\n",
       "      <td>HOT LIVE FANTASIES call now 08707509020 Just 2...</td>\n",
       "      <td>1</td>\n",
       "    </tr>\n",
       "    <tr>\n",
       "      <th>2805</th>\n",
       "      <td>Lil fever:) now fine:)\\n</td>\n",
       "      <td>0</td>\n",
       "    </tr>\n",
       "    <tr>\n",
       "      <th>2684</th>\n",
       "      <td>I'm okay. Chasing the dream. What's good. What...</td>\n",
       "      <td>0</td>\n",
       "    </tr>\n",
       "    <tr>\n",
       "      <th>1092</th>\n",
       "      <td>Please da call me any mistake from my side sor...</td>\n",
       "      <td>0</td>\n",
       "    </tr>\n",
       "    <tr>\n",
       "      <th>2420</th>\n",
       "      <td>SMS SERVICES For your inclusive text credits p...</td>\n",
       "      <td>1</td>\n",
       "    </tr>\n",
       "    <tr>\n",
       "      <th>5367</th>\n",
       "      <td>Camera - You are awarded a SiPix Digital Camer...</td>\n",
       "      <td>1</td>\n",
       "    </tr>\n",
       "    <tr>\n",
       "      <th>2113</th>\n",
       "      <td>You are a winner you have been specially selec...</td>\n",
       "      <td>1</td>\n",
       "    </tr>\n",
       "    <tr>\n",
       "      <th>84</th>\n",
       "      <td>Yup next stop.\\n</td>\n",
       "      <td>0</td>\n",
       "    </tr>\n",
       "    <tr>\n",
       "      <th>2995</th>\n",
       "      <td>No idea, I guess we'll work that out an hour a...</td>\n",
       "      <td>0</td>\n",
       "    </tr>\n",
       "    <tr>\n",
       "      <th>3421</th>\n",
       "      <td>As a valued customer, I am pleased to advise y...</td>\n",
       "      <td>1</td>\n",
       "    </tr>\n",
       "  </tbody>\n",
       "</table>\n",
       "</div>"
      ],
      "text/plain": [
       "                                                    sms  label\n",
       "1033                       سنة جديدة سعيدة يا رجل رقم 1      0\n",
       "3906  هل تريد هاتف فيديو جديد؟750 في أي وقت أي شبكة ...      1\n",
       "433   تهاني!Nokia 3650 Camera Camera Phone هو مكالمت...      1\n",
       "68    هل سمعت عن \"الطلاق باربي\" الجديد؟إنه يأتي مع ك...      1\n",
       "4447                        عيد ميلاد سعيد لك أيضا آني!      0\n",
       "3029                      لقد حصلت على موهبة لكنك تضيع.      0\n",
       "3709  نغمة رنين أعلى مجانية إلى نغمة رنين أسبوعية وا...      1\n",
       "2774  كيف يستغرق الأمر القليل من الوقت لطفل يخاف من ...      1\n",
       "1229  الدخول المجاني إلى شركاتنا الأسبوعية البالغة 2...      1\n",
       "1153                     حسنًا ، أذهب للتغيير أيضًا ...      0\n",
       "1502  HOT LIVE FANTASIES call now 08707509020 Just 2...      1\n",
       "2805                           Lil fever:) now fine:)\\n      0\n",
       "2684  I'm okay. Chasing the dream. What's good. What...      0\n",
       "1092  Please da call me any mistake from my side sor...      0\n",
       "2420  SMS SERVICES For your inclusive text credits p...      1\n",
       "5367  Camera - You are awarded a SiPix Digital Camer...      1\n",
       "2113  You are a winner you have been specially selec...      1\n",
       "84                                     Yup next stop.\\n      0\n",
       "2995  No idea, I guess we'll work that out an hour a...      0\n",
       "3421  As a valued customer, I am pleased to advise y...      1"
      ]
     },
     "execution_count": 226,
     "metadata": {},
     "output_type": "execute_result"
    }
   ],
   "source": [
    "df.iloc[1390:1410,:]"
   ]
  },
  {
   "cell_type": "code",
   "execution_count": 232,
   "id": "60b179ad",
   "metadata": {},
   "outputs": [],
   "source": [
    "df_translated = df.iloc[1400:, :].copy()\n",
    "#df_translated['sms'] = df_translated['sms'].astype(str)"
   ]
  },
  {
   "cell_type": "code",
   "execution_count": 233,
   "id": "110e1475",
   "metadata": {},
   "outputs": [],
   "source": [
    "df_translated['sms'] = df_translated['sms'].apply(translate_text)"
   ]
  },
  {
   "cell_type": "code",
   "execution_count": 235,
   "id": "d848fab8",
   "metadata": {},
   "outputs": [
    {
     "data": {
      "text/plain": [
       "'Hi. || Do u want | to join me with sts later? || Meeting them at five. || Call u after class.\\n'"
      ]
     },
     "execution_count": 235,
     "metadata": {},
     "output_type": "execute_result"
    }
   ],
   "source": [
    "df.iloc[1493]['sms']"
   ]
  },
  {
   "cell_type": "code",
   "execution_count": 239,
   "id": "3fe3cbad",
   "metadata": {},
   "outputs": [
    {
     "data": {
      "text/plain": [
       "'أهلاً.||هل تريد |للانضمام إلي مع STS لاحقًا؟||لقاءهم في الخامسة.||اتصل بك بعد الفصل.'"
      ]
     },
     "execution_count": 239,
     "metadata": {},
     "output_type": "execute_result"
    }
   ],
   "source": [
    "df_translated.iloc[93]['sms']"
   ]
  },
  {
   "cell_type": "code",
   "execution_count": 240,
   "id": "8715b9e0",
   "metadata": {},
   "outputs": [
    {
     "name": "stderr",
     "output_type": "stream",
     "text": [
      "C:\\Users\\yazan\\AppData\\Local\\Temp\\ipykernel_7936\\2001683978.py:2: SettingWithCopyWarning: \n",
      "A value is trying to be set on a copy of a slice from a DataFrame\n",
      "\n",
      "See the caveats in the documentation: https://pandas.pydata.org/pandas-docs/stable/user_guide/indexing.html#returning-a-view-versus-a-copy\n",
      "  df['sms'].iloc[i] = df_translated['sms'].iloc[i-1400]\n"
     ]
    }
   ],
   "source": [
    "for i in range(1400,1494):   \n",
    "    df['sms'].iloc[i] = df_translated['sms'].iloc[i-1400]"
   ]
  },
  {
   "cell_type": "code",
   "execution_count": 241,
   "id": "2c93bf35",
   "metadata": {},
   "outputs": [],
   "source": [
    "backup = df.copy()"
   ]
  },
  {
   "cell_type": "code",
   "execution_count": 246,
   "id": "44ef1ab8",
   "metadata": {},
   "outputs": [],
   "source": [
    "backup.to_csv('translated_sms1.csv', encoding='utf-8-sig', index=False)"
   ]
  },
  {
   "cell_type": "code",
   "execution_count": 243,
   "id": "8abd5fb0",
   "metadata": {},
   "outputs": [
    {
     "data": {
      "text/plain": [
       "sms      0\n",
       "label    0\n",
       "dtype: int64"
      ]
     },
     "execution_count": 243,
     "metadata": {},
     "output_type": "execute_result"
    }
   ],
   "source": [
    "df.isnull().sum()"
   ]
  },
  {
   "cell_type": "code",
   "execution_count": 244,
   "id": "bc1f59cc",
   "metadata": {},
   "outputs": [
    {
     "data": {
      "text/html": [
       "<div>\n",
       "<style scoped>\n",
       "    .dataframe tbody tr th:only-of-type {\n",
       "        vertical-align: middle;\n",
       "    }\n",
       "\n",
       "    .dataframe tbody tr th {\n",
       "        vertical-align: top;\n",
       "    }\n",
       "\n",
       "    .dataframe thead th {\n",
       "        text-align: right;\n",
       "    }\n",
       "</style>\n",
       "<table border=\"1\" class=\"dataframe\">\n",
       "  <thead>\n",
       "    <tr style=\"text-align: right;\">\n",
       "      <th></th>\n",
       "      <th>sms</th>\n",
       "      <th>label</th>\n",
       "    </tr>\n",
       "  </thead>\n",
       "  <tbody>\n",
       "    <tr>\n",
       "      <th>3415</th>\n",
       "      <td>ممنوع التصوير. يرجى إعادة إرسال.</td>\n",
       "      <td>0</td>\n",
       "    </tr>\n",
       "    <tr>\n",
       "      <th>4228</th>\n",
       "      <td>شراء بيضة واحدة لي da..please :)</td>\n",
       "      <td>0</td>\n",
       "    </tr>\n",
       "    <tr>\n",
       "      <th>2963</th>\n",
       "      <td>\"لا شيء! NORE IKNO DOSISCOUNT! SHITINNIT\"</td>\n",
       "      <td>0</td>\n",
       "    </tr>\n",
       "    <tr>\n",
       "      <th>2151</th>\n",
       "      <td>احتلت الطاولة ، أنا في انتظار الشجرة</td>\n",
       "      <td>0</td>\n",
       "    </tr>\n",
       "    <tr>\n",
       "      <th>3827</th>\n",
       "      <td>صباح الخير ، انتهت صلاحية جدي .. لذلك في إجازة...</td>\n",
       "      <td>0</td>\n",
       "    </tr>\n",
       "    <tr>\n",
       "      <th>...</th>\n",
       "      <td>...</td>\n",
       "      <td>...</td>\n",
       "    </tr>\n",
       "    <tr>\n",
       "      <th>2432</th>\n",
       "      <td>هذا جيد.لنشكر الله.يرجى إكمال الدواء.لديك الكث...</td>\n",
       "      <td>0</td>\n",
       "    </tr>\n",
       "    <tr>\n",
       "      <th>1452</th>\n",
       "      <td>يا!متى تأخذ دروسًا عملية ure؟أبدأ في يونيو ..</td>\n",
       "      <td>0</td>\n",
       "    </tr>\n",
       "    <tr>\n",
       "      <th>1098</th>\n",
       "      <td>لا تقلق.سأشتري شرائط اختبار الإباضة وأرسلها إل...</td>\n",
       "      <td>0</td>\n",
       "    </tr>\n",
       "    <tr>\n",
       "      <th>680</th>\n",
       "      <td>غاب عن مكالمتك لأنني كنت أصرخ في Scrappy.مشتاق...</td>\n",
       "      <td>0</td>\n",
       "    </tr>\n",
       "    <tr>\n",
       "      <th>1846</th>\n",
       "      <td>أهلاً.||هل تريد |للانضمام إلي مع STS لاحقًا؟||...</td>\n",
       "      <td>0</td>\n",
       "    </tr>\n",
       "  </tbody>\n",
       "</table>\n",
       "<p>1494 rows × 2 columns</p>\n",
       "</div>"
      ],
      "text/plain": [
       "                                                    sms  label\n",
       "3415                   ممنوع التصوير. يرجى إعادة إرسال.      0\n",
       "4228                   شراء بيضة واحدة لي da..please :)      0\n",
       "2963          \"لا شيء! NORE IKNO DOSISCOUNT! SHITINNIT\"      0\n",
       "2151               احتلت الطاولة ، أنا في انتظار الشجرة      0\n",
       "3827  صباح الخير ، انتهت صلاحية جدي .. لذلك في إجازة...      0\n",
       "...                                                 ...    ...\n",
       "2432  هذا جيد.لنشكر الله.يرجى إكمال الدواء.لديك الكث...      0\n",
       "1452      يا!متى تأخذ دروسًا عملية ure؟أبدأ في يونيو ..      0\n",
       "1098  لا تقلق.سأشتري شرائط اختبار الإباضة وأرسلها إل...      0\n",
       "680   غاب عن مكالمتك لأنني كنت أصرخ في Scrappy.مشتاق...      0\n",
       "1846  أهلاً.||هل تريد |للانضمام إلي مع STS لاحقًا؟||...      0\n",
       "\n",
       "[1494 rows x 2 columns]"
      ]
     },
     "execution_count": 244,
     "metadata": {},
     "output_type": "execute_result"
    }
   ],
   "source": [
    "df"
   ]
  },
  {
   "cell_type": "code",
   "execution_count": null,
   "id": "c497172d",
   "metadata": {},
   "outputs": [],
   "source": []
  }
 ],
 "metadata": {
  "kernelspec": {
   "display_name": "Python 3 (ipykernel)",
   "language": "python",
   "name": "python3"
  },
  "language_info": {
   "codemirror_mode": {
    "name": "ipython",
    "version": 3
   },
   "file_extension": ".py",
   "mimetype": "text/x-python",
   "name": "python",
   "nbconvert_exporter": "python",
   "pygments_lexer": "ipython3",
   "version": "3.9.12"
  }
 },
 "nbformat": 4,
 "nbformat_minor": 5
}
