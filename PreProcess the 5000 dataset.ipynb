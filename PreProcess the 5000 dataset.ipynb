{
 "cells": [
  {
   "cell_type": "code",
   "execution_count": 1,
   "id": "246f048c",
   "metadata": {},
   "outputs": [],
   "source": [
    "#!pip install arabicstemmer\n",
    "#!pip install farasa\n",
    "#!pip install arabic_reshaper \n",
    "#!pip install buckwalter\n",
    "#!pip install lang-trans\n",
    "#!pip install pybuckwalter\n",
    "#!pip install pyarabic"
   ]
  },
  {
   "cell_type": "code",
   "execution_count": 2,
   "id": "39d1d7ca",
   "metadata": {},
   "outputs": [
    {
     "name": "stderr",
     "output_type": "stream",
     "text": [
      "[nltk_data] Downloading package stopwords to\n",
      "[nltk_data]     C:\\Users\\yazan\\AppData\\Roaming\\nltk_data...\n",
      "[nltk_data]   Package stopwords is already up-to-date!\n"
     ]
    }
   ],
   "source": [
    "import numpy as np\n",
    "import pandas as pd\n",
    "import nltk\n",
    "from nltk.corpus import stopwords\n",
    "from nltk.tokenize import word_tokenize\n",
    "from nltk.stem import SnowballStemmer\n",
    "import arabicstemmer\n",
    "#from camel_tools.utils.normalize import normalize\n",
    "from arabic_reshaper import reshape\n",
    "import farasa\n",
    "#from farasa.normalization import FarasaNormalizer\n",
    "\n",
    "import pyarabic.araby as araby\n",
    "\n",
    "nltk.download('stopwords')\n",
    "\n",
    "from nltk.corpus import stopwords\n",
    "arabic_stopwords = stopwords.words('arabic')"
   ]
  },
  {
   "cell_type": "code",
   "execution_count": 3,
   "id": "c260d98b",
   "metadata": {},
   "outputs": [],
   "source": [
    "df = pd.read_csv(\"5000translated_data_unbalanced.csv\", encoding='utf-8')"
   ]
  },
  {
   "cell_type": "code",
   "execution_count": 4,
   "id": "e7e560d8",
   "metadata": {},
   "outputs": [
    {
     "data": {
      "text/html": [
       "<div>\n",
       "<style scoped>\n",
       "    .dataframe tbody tr th:only-of-type {\n",
       "        vertical-align: middle;\n",
       "    }\n",
       "\n",
       "    .dataframe tbody tr th {\n",
       "        vertical-align: top;\n",
       "    }\n",
       "\n",
       "    .dataframe thead th {\n",
       "        text-align: right;\n",
       "    }\n",
       "</style>\n",
       "<table border=\"1\" class=\"dataframe\">\n",
       "  <thead>\n",
       "    <tr style=\"text-align: right;\">\n",
       "      <th></th>\n",
       "      <th>sms</th>\n",
       "      <th>label</th>\n",
       "      <th>sms_arabic</th>\n",
       "    </tr>\n",
       "  </thead>\n",
       "  <tbody>\n",
       "    <tr>\n",
       "      <th>100</th>\n",
       "      <td>pleas dont text anymor noth els say</td>\n",
       "      <td>0</td>\n",
       "      <td>مناشدات لا يقول أي شيء آخر</td>\n",
       "    </tr>\n",
       "    <tr>\n",
       "      <th>101</th>\n",
       "      <td>okay name ur price long legal wen pick u ave x...</td>\n",
       "      <td>0</td>\n",
       "      <td>اسم حسنًا ، اسمك ، سعرك القانوني الطويل ، اختي...</td>\n",
       "    </tr>\n",
       "    <tr>\n",
       "      <th>102</th>\n",
       "      <td>im still look car buy gone 4the drive test yet</td>\n",
       "      <td>0</td>\n",
       "      <td>ما زلت أبدو شراء سيارة ذهب 4 اختبار القيادة حت...</td>\n",
       "    </tr>\n",
       "    <tr>\n",
       "      <th>103</th>\n",
       "      <td>per request mell mell oru minnaminungint nurun...</td>\n",
       "      <td>0</td>\n",
       "      <td>لكل طلب mell mell oru minnaminungint nurungu v...</td>\n",
       "    </tr>\n",
       "    <tr>\n",
       "      <th>104</th>\n",
       "      <td>wow your right didnt mean guess gave boston me...</td>\n",
       "      <td>0</td>\n",
       "      <td>نجاح باهر حقك لم يعني التخمين أعطى بوسطن مين ت...</td>\n",
       "    </tr>\n",
       "    <tr>\n",
       "      <th>105</th>\n",
       "      <td>umma life vava umma love lot dear</td>\n",
       "      <td>0</td>\n",
       "      <td>umma life vava umma love lot dear</td>\n",
       "    </tr>\n",
       "    <tr>\n",
       "      <th>106</th>\n",
       "      <td>thank lot wish birthday thank make birthday tr...</td>\n",
       "      <td>0</td>\n",
       "      <td>شكرا جزيلا أتمنى عيد ميلاد شكرا جعل مذكرات عيد...</td>\n",
       "    </tr>\n",
       "    <tr>\n",
       "      <th>107</th>\n",
       "      <td>aight ill hit get cash</td>\n",
       "      <td>0</td>\n",
       "      <td>ضرب سيئا الحصول على النقود</td>\n",
       "    </tr>\n",
       "    <tr>\n",
       "      <th>108</th>\n",
       "      <td>would ip address test consid comput isnt minec...</td>\n",
       "      <td>0</td>\n",
       "      <td>هل اختبار عنوان IP يعتبر جهاز كمبيوتر ليس خادم...</td>\n",
       "    </tr>\n",
       "    <tr>\n",
       "      <th>109</th>\n",
       "      <td>know grumpi old peopl mom like better lie alwa...</td>\n",
       "      <td>0</td>\n",
       "      <td>تعرف أمي غرومبي العجوز مثل أفضل الكذب دائما نك...</td>\n",
       "    </tr>\n",
       "    <tr>\n",
       "      <th>110</th>\n",
       "      <td>dont worri guess hes busi</td>\n",
       "      <td>0</td>\n",
       "      <td>لا تقلق ، تخمين أنه مشغول</td>\n",
       "    </tr>\n",
       "    <tr>\n",
       "      <th>111</th>\n",
       "      <td>plural noun research</td>\n",
       "      <td>0</td>\n",
       "      <td>البحث عن اسم الجمع</td>\n",
       "    </tr>\n",
       "    <tr>\n",
       "      <th>112</th>\n",
       "      <td>go dinnermsg</td>\n",
       "      <td>0</td>\n",
       "      <td>اذهب العشاء</td>\n",
       "    </tr>\n",
       "    <tr>\n",
       "      <th>113</th>\n",
       "      <td>im ok wif cos like 2 tri new thing scare u dun...</td>\n",
       "      <td>0</td>\n",
       "      <td>أنا بخير wif cos مثل 2 ثلاثي شيء جديد يخيف u d...</td>\n",
       "    </tr>\n",
       "    <tr>\n",
       "      <th>114</th>\n",
       "      <td>gent tri contact last weekend draw show 1000 p...</td>\n",
       "      <td>1</td>\n",
       "      <td>جنت تري كونتاكت ، سحب عطلة نهاية الأسبوع الماض...</td>\n",
       "    </tr>\n",
       "    <tr>\n",
       "      <th>115</th>\n",
       "      <td>wa ur openin sentenc formal anyway im fine juz...</td>\n",
       "      <td>0</td>\n",
       "      <td>وفتح الحكم الرسمي على أي حال ، أنا بخير ، هذا ...</td>\n",
       "    </tr>\n",
       "    <tr>\n",
       "      <th>116</th>\n",
       "      <td>enter cabin pa said happi bday boss felt speci...</td>\n",
       "      <td>0</td>\n",
       "      <td>أدخل الكابينة قال رئيس هابي بيدي شعرت بطلب خاص...</td>\n",
       "    </tr>\n",
       "    <tr>\n",
       "      <th>117</th>\n",
       "      <td>winner u special select 2 receiv 1000 4 holida...</td>\n",
       "      <td>1</td>\n",
       "      <td>الفائز U Special Select 2 Receiv 1000 4 holida...</td>\n",
       "    </tr>\n",
       "    <tr>\n",
       "      <th>118</th>\n",
       "      <td>goodo yes must speak friday eggpotato ratio to...</td>\n",
       "      <td>0</td>\n",
       "      <td>جودو نعم يجب أن نتحدث الجمعة حاجة التورتيلا نس...</td>\n",
       "    </tr>\n",
       "    <tr>\n",
       "      <th>119</th>\n",
       "      <td>hmmmi uncl inform hes pay school direct pls bu...</td>\n",
       "      <td>0</td>\n",
       "      <td>hmmmi uncl إبلاغ hes pay مدرسة مباشرة الثابتة ...</td>\n",
       "    </tr>\n",
       "  </tbody>\n",
       "</table>\n",
       "</div>"
      ],
      "text/plain": [
       "                                                   sms  label  \\\n",
       "100                pleas dont text anymor noth els say      0   \n",
       "101  okay name ur price long legal wen pick u ave x...      0   \n",
       "102     im still look car buy gone 4the drive test yet      0   \n",
       "103  per request mell mell oru minnaminungint nurun...      0   \n",
       "104  wow your right didnt mean guess gave boston me...      0   \n",
       "105                  umma life vava umma love lot dear      0   \n",
       "106  thank lot wish birthday thank make birthday tr...      0   \n",
       "107                             aight ill hit get cash      0   \n",
       "108  would ip address test consid comput isnt minec...      0   \n",
       "109  know grumpi old peopl mom like better lie alwa...      0   \n",
       "110                          dont worri guess hes busi      0   \n",
       "111                               plural noun research      0   \n",
       "112                                       go dinnermsg      0   \n",
       "113  im ok wif cos like 2 tri new thing scare u dun...      0   \n",
       "114  gent tri contact last weekend draw show 1000 p...      1   \n",
       "115  wa ur openin sentenc formal anyway im fine juz...      0   \n",
       "116  enter cabin pa said happi bday boss felt speci...      0   \n",
       "117  winner u special select 2 receiv 1000 4 holida...      1   \n",
       "118  goodo yes must speak friday eggpotato ratio to...      0   \n",
       "119  hmmmi uncl inform hes pay school direct pls bu...      0   \n",
       "\n",
       "                                            sms_arabic  \n",
       "100                         مناشدات لا يقول أي شيء آخر  \n",
       "101  اسم حسنًا ، اسمك ، سعرك القانوني الطويل ، اختي...  \n",
       "102  ما زلت أبدو شراء سيارة ذهب 4 اختبار القيادة حت...  \n",
       "103  لكل طلب mell mell oru minnaminungint nurungu v...  \n",
       "104  نجاح باهر حقك لم يعني التخمين أعطى بوسطن مين ت...  \n",
       "105                  umma life vava umma love lot dear  \n",
       "106  شكرا جزيلا أتمنى عيد ميلاد شكرا جعل مذكرات عيد...  \n",
       "107                         ضرب سيئا الحصول على النقود  \n",
       "108  هل اختبار عنوان IP يعتبر جهاز كمبيوتر ليس خادم...  \n",
       "109  تعرف أمي غرومبي العجوز مثل أفضل الكذب دائما نك...  \n",
       "110                          لا تقلق ، تخمين أنه مشغول  \n",
       "111                                 البحث عن اسم الجمع  \n",
       "112                                        اذهب العشاء  \n",
       "113  أنا بخير wif cos مثل 2 ثلاثي شيء جديد يخيف u d...  \n",
       "114  جنت تري كونتاكت ، سحب عطلة نهاية الأسبوع الماض...  \n",
       "115  وفتح الحكم الرسمي على أي حال ، أنا بخير ، هذا ...  \n",
       "116  أدخل الكابينة قال رئيس هابي بيدي شعرت بطلب خاص...  \n",
       "117  الفائز U Special Select 2 Receiv 1000 4 holida...  \n",
       "118  جودو نعم يجب أن نتحدث الجمعة حاجة التورتيلا نس...  \n",
       "119  hmmmi uncl إبلاغ hes pay مدرسة مباشرة الثابتة ...  "
      ]
     },
     "execution_count": 4,
     "metadata": {},
     "output_type": "execute_result"
    }
   ],
   "source": [
    "df.iloc[100:120,:]"
   ]
  },
  {
   "cell_type": "code",
   "execution_count": 5,
   "id": "b58aaa71",
   "metadata": {},
   "outputs": [],
   "source": [
    "df['sms'] = df['sms_arabic']"
   ]
  },
  {
   "cell_type": "code",
   "execution_count": 6,
   "id": "60df092a",
   "metadata": {},
   "outputs": [],
   "source": [
    "df = df.drop(columns='sms_arabic', axis  = 1)"
   ]
  },
  {
   "cell_type": "code",
   "execution_count": 7,
   "id": "dcafdbbd",
   "metadata": {},
   "outputs": [
    {
     "data": {
      "text/html": [
       "<div>\n",
       "<style scoped>\n",
       "    .dataframe tbody tr th:only-of-type {\n",
       "        vertical-align: middle;\n",
       "    }\n",
       "\n",
       "    .dataframe tbody tr th {\n",
       "        vertical-align: top;\n",
       "    }\n",
       "\n",
       "    .dataframe thead th {\n",
       "        text-align: right;\n",
       "    }\n",
       "</style>\n",
       "<table border=\"1\" class=\"dataframe\">\n",
       "  <thead>\n",
       "    <tr style=\"text-align: right;\">\n",
       "      <th></th>\n",
       "      <th>sms</th>\n",
       "      <th>label</th>\n",
       "    </tr>\n",
       "  </thead>\n",
       "  <tbody>\n",
       "    <tr>\n",
       "      <th>0</th>\n",
       "      <td>الذهاب جورونج نقطة مجنون الاستفادة بوجي ن العا...</td>\n",
       "      <td>0</td>\n",
       "    </tr>\n",
       "    <tr>\n",
       "      <th>1</th>\n",
       "      <td>طيب نكتة لار wif u oni</td>\n",
       "      <td>0</td>\n",
       "    </tr>\n",
       "    <tr>\n",
       "      <th>2</th>\n",
       "      <td>دخول مجاني 2 wkli comp win كأس الاتحاد النهائي...</td>\n",
       "      <td>1</td>\n",
       "    </tr>\n",
       "    <tr>\n",
       "      <th>3</th>\n",
       "      <td>ش دون أن أقول في وقت مبكر هور uc alreadi</td>\n",
       "      <td>0</td>\n",
       "    </tr>\n",
       "    <tr>\n",
       "      <th>4</th>\n",
       "      <td>ناه لا أعتقد أن جو أوسف العيش حول رغم ذلك</td>\n",
       "      <td>0</td>\n",
       "    </tr>\n",
       "  </tbody>\n",
       "</table>\n",
       "</div>"
      ],
      "text/plain": [
       "                                                 sms  label\n",
       "0  الذهاب جورونج نقطة مجنون الاستفادة بوجي ن العا...      0\n",
       "1                             طيب نكتة لار wif u oni      0\n",
       "2  دخول مجاني 2 wkli comp win كأس الاتحاد النهائي...      1\n",
       "3           ش دون أن أقول في وقت مبكر هور uc alreadi      0\n",
       "4          ناه لا أعتقد أن جو أوسف العيش حول رغم ذلك      0"
      ]
     },
     "execution_count": 7,
     "metadata": {},
     "output_type": "execute_result"
    }
   ],
   "source": [
    "df.head()"
   ]
  },
  {
   "cell_type": "code",
   "execution_count": 8,
   "id": "e07a9efd",
   "metadata": {},
   "outputs": [
    {
     "data": {
      "text/plain": [
       "(5574, 2)"
      ]
     },
     "execution_count": 8,
     "metadata": {},
     "output_type": "execute_result"
    }
   ],
   "source": [
    "df.shape"
   ]
  },
  {
   "cell_type": "code",
   "execution_count": 9,
   "id": "0d3999f5",
   "metadata": {},
   "outputs": [],
   "source": [
    "def check(df):\n",
    "    \"\"\"\n",
    "    This function takes a DataFrame as input and returns a DataFrame containing information about the columns of the DataFrame.\n",
    "    \"\"\"\n",
    "    l=[]\n",
    "    # Get the column names of the input DataFrame\n",
    "    columns=df.columns\n",
    "    \n",
    "    # Iterate through each column\n",
    "    for col in columns:\n",
    "        # Get the data type of the current column\n",
    "        dtypes=df[col].dtypes\n",
    "        # Get the number of unique values in the current column\n",
    "        nunique=df[col].nunique()\n",
    "        # Get the number of missing values in the current column\n",
    "        sum_null=df[col].isnull().sum()\n",
    "        # Get the proportion of missing values in the current column\n",
    "        sum_mean = df[col].isnull().mean()\n",
    "        l.append([col,dtypes,nunique,sum_null,sum_mean])\n",
    "    # Create a DataFrame from the list of column information\n",
    "    df_check=pd.DataFrame(l)\n",
    "    # Set the column names of the new DataFrame\n",
    "    df_check.columns=['column','dtypes','nunique','sum_null','sum_mean']\n",
    "    # Return the new DataFrame\n",
    "    return df_check"
   ]
  },
  {
   "cell_type": "code",
   "execution_count": 10,
   "id": "a853b28b",
   "metadata": {},
   "outputs": [
    {
     "data": {
      "text/html": [
       "<div>\n",
       "<style scoped>\n",
       "    .dataframe tbody tr th:only-of-type {\n",
       "        vertical-align: middle;\n",
       "    }\n",
       "\n",
       "    .dataframe tbody tr th {\n",
       "        vertical-align: top;\n",
       "    }\n",
       "\n",
       "    .dataframe thead th {\n",
       "        text-align: right;\n",
       "    }\n",
       "</style>\n",
       "<table border=\"1\" class=\"dataframe\">\n",
       "  <thead>\n",
       "    <tr style=\"text-align: right;\">\n",
       "      <th></th>\n",
       "      <th>column</th>\n",
       "      <th>dtypes</th>\n",
       "      <th>nunique</th>\n",
       "      <th>sum_null</th>\n",
       "      <th>sum_mean</th>\n",
       "    </tr>\n",
       "  </thead>\n",
       "  <tbody>\n",
       "    <tr>\n",
       "      <th>0</th>\n",
       "      <td>sms</td>\n",
       "      <td>object</td>\n",
       "      <td>5113</td>\n",
       "      <td>5</td>\n",
       "      <td>0.000897</td>\n",
       "    </tr>\n",
       "    <tr>\n",
       "      <th>1</th>\n",
       "      <td>label</td>\n",
       "      <td>int64</td>\n",
       "      <td>2</td>\n",
       "      <td>0</td>\n",
       "      <td>0.000000</td>\n",
       "    </tr>\n",
       "  </tbody>\n",
       "</table>\n",
       "</div>"
      ],
      "text/plain": [
       "  column  dtypes  nunique  sum_null  sum_mean\n",
       "0    sms  object     5113         5  0.000897\n",
       "1  label   int64        2         0  0.000000"
      ]
     },
     "execution_count": 10,
     "metadata": {},
     "output_type": "execute_result"
    }
   ],
   "source": [
    "check(df)"
   ]
  },
  {
   "cell_type": "code",
   "execution_count": 11,
   "id": "1a11cce2",
   "metadata": {},
   "outputs": [
    {
     "data": {
      "text/plain": [
       "460"
      ]
     },
     "execution_count": 11,
     "metadata": {},
     "output_type": "execute_result"
    }
   ],
   "source": [
    "df.duplicated().sum()"
   ]
  },
  {
   "cell_type": "code",
   "execution_count": 12,
   "id": "41f5474b",
   "metadata": {},
   "outputs": [],
   "source": [
    "df = df.drop_duplicates()"
   ]
  },
  {
   "cell_type": "code",
   "execution_count": 13,
   "id": "d84b3dde",
   "metadata": {},
   "outputs": [
    {
     "data": {
      "text/plain": [
       "(5114, 2)"
      ]
     },
     "execution_count": 13,
     "metadata": {},
     "output_type": "execute_result"
    }
   ],
   "source": [
    "df.shape"
   ]
  },
  {
   "cell_type": "code",
   "execution_count": 14,
   "id": "cb2547a1",
   "metadata": {},
   "outputs": [
    {
     "data": {
      "text/html": [
       "<div>\n",
       "<style scoped>\n",
       "    .dataframe tbody tr th:only-of-type {\n",
       "        vertical-align: middle;\n",
       "    }\n",
       "\n",
       "    .dataframe tbody tr th {\n",
       "        vertical-align: top;\n",
       "    }\n",
       "\n",
       "    .dataframe thead th {\n",
       "        text-align: right;\n",
       "    }\n",
       "</style>\n",
       "<table border=\"1\" class=\"dataframe\">\n",
       "  <thead>\n",
       "    <tr style=\"text-align: right;\">\n",
       "      <th></th>\n",
       "      <th>sms</th>\n",
       "      <th>label</th>\n",
       "    </tr>\n",
       "  </thead>\n",
       "  <tbody>\n",
       "    <tr>\n",
       "      <th>5564</th>\n",
       "      <td>طيب لور سوني إريكسون بائع يسأل shuhui ويقول إن...</td>\n",
       "      <td>0</td>\n",
       "    </tr>\n",
       "    <tr>\n",
       "      <th>5565</th>\n",
       "      <td>أحرق 6 إعجابات ممنوحة لهم</td>\n",
       "      <td>0</td>\n",
       "    </tr>\n",
       "    <tr>\n",
       "      <th>5566</th>\n",
       "      <td>لا تنتظر حتى أقل من الأربعاء انظر الحصول على</td>\n",
       "      <td>0</td>\n",
       "    </tr>\n",
       "    <tr>\n",
       "      <th>5567</th>\n",
       "      <td>هاه لي</td>\n",
       "      <td>0</td>\n",
       "    </tr>\n",
       "    <tr>\n",
       "      <th>5568</th>\n",
       "      <td>تذكير o2 احصل على 250 جنيهًا من تفاصيل رصيد مك...</td>\n",
       "      <td>1</td>\n",
       "    </tr>\n",
       "    <tr>\n",
       "      <th>5569</th>\n",
       "      <td>مرة ثانية ثلاثية 2 اتصل UU 750 جنيه جائزة 2 مط...</td>\n",
       "      <td>1</td>\n",
       "    </tr>\n",
       "    <tr>\n",
       "      <th>5570</th>\n",
       "      <td>ü b اذهب إلى المتنزه fr إلى المنزل</td>\n",
       "      <td>0</td>\n",
       "    </tr>\n",
       "    <tr>\n",
       "      <th>5571</th>\n",
       "      <td>يقترح piti mood soani</td>\n",
       "      <td>0</td>\n",
       "    </tr>\n",
       "    <tr>\n",
       "      <th>5572</th>\n",
       "      <td>الرجل الكلبة يتصرف مثل معرف الفائدة شراء Somet...</td>\n",
       "      <td>0</td>\n",
       "    </tr>\n",
       "    <tr>\n",
       "      <th>5573</th>\n",
       "      <td>rofl الاسم الحقيقي</td>\n",
       "      <td>0</td>\n",
       "    </tr>\n",
       "  </tbody>\n",
       "</table>\n",
       "</div>"
      ],
      "text/plain": [
       "                                                    sms  label\n",
       "5564  طيب لور سوني إريكسون بائع يسأل shuhui ويقول إن...      0\n",
       "5565                          أحرق 6 إعجابات ممنوحة لهم      0\n",
       "5566       لا تنتظر حتى أقل من الأربعاء انظر الحصول على      0\n",
       "5567                                             هاه لي      0\n",
       "5568  تذكير o2 احصل على 250 جنيهًا من تفاصيل رصيد مك...      1\n",
       "5569  مرة ثانية ثلاثية 2 اتصل UU 750 جنيه جائزة 2 مط...      1\n",
       "5570                 ü b اذهب إلى المتنزه fr إلى المنزل      0\n",
       "5571                              يقترح piti mood soani      0\n",
       "5572  الرجل الكلبة يتصرف مثل معرف الفائدة شراء Somet...      0\n",
       "5573                                 rofl الاسم الحقيقي      0"
      ]
     },
     "execution_count": 14,
     "metadata": {},
     "output_type": "execute_result"
    }
   ],
   "source": [
    "df.tail(10)"
   ]
  },
  {
   "cell_type": "code",
   "execution_count": 15,
   "id": "8fb24c19",
   "metadata": {},
   "outputs": [],
   "source": [
    "df.dropna(inplace = True)"
   ]
  },
  {
   "cell_type": "code",
   "execution_count": 16,
   "id": "d0581ecb",
   "metadata": {},
   "outputs": [
    {
     "name": "stderr",
     "output_type": "stream",
     "text": [
      "[nltk_data] Downloading package stopwords to\n",
      "[nltk_data]     C:\\Users\\yazan\\AppData\\Roaming\\nltk_data...\n",
      "[nltk_data]   Package stopwords is already up-to-date!\n",
      "[nltk_data] Downloading package punkt to\n",
      "[nltk_data]     C:\\Users\\yazan\\AppData\\Roaming\\nltk_data...\n",
      "[nltk_data]   Package punkt is already up-to-date!\n"
     ]
    }
   ],
   "source": [
    "# Check for missing values and remove or fill them\n",
    "null_counts = df.isnull().sum()\n",
    "if null_counts.any():\n",
    "    # If there are any null values, remove the rows or columns that contain them\n",
    "    df.dropna(inplace=True)\n",
    "    # Alternatively, fill the null values with the column mean\n",
    "    # df.fillna(df.mean(), inplace=True)\n",
    "\n",
    "# Tokenize the words and remove stop words\n",
    "nltk.download('stopwords')\n",
    "nltk.download('punkt')\n",
    "stop_words = set(stopwords.words('arabic'))\n",
    "df['sms'] = df['sms'].apply(lambda x: ' '.join([word for word in word_tokenize(x) if word not in stop_words]))\n",
    "\n",
    "# Stem the words to remove common affixes\n",
    "stemmer = SnowballStemmer('arabic')\n",
    "df['sms'] = df['sms'].apply(lambda x: ' '.join([stemmer.stem(word) for word in word_tokenize(x)]))\n"
   ]
  },
  {
   "cell_type": "code",
   "execution_count": 17,
   "id": "bc03b05d",
   "metadata": {},
   "outputs": [
    {
     "data": {
      "text/html": [
       "<div>\n",
       "<style scoped>\n",
       "    .dataframe tbody tr th:only-of-type {\n",
       "        vertical-align: middle;\n",
       "    }\n",
       "\n",
       "    .dataframe tbody tr th {\n",
       "        vertical-align: top;\n",
       "    }\n",
       "\n",
       "    .dataframe thead th {\n",
       "        text-align: right;\n",
       "    }\n",
       "</style>\n",
       "<table border=\"1\" class=\"dataframe\">\n",
       "  <thead>\n",
       "    <tr style=\"text-align: right;\">\n",
       "      <th></th>\n",
       "      <th>sms</th>\n",
       "      <th>label</th>\n",
       "    </tr>\n",
       "  </thead>\n",
       "  <tbody>\n",
       "    <tr>\n",
       "      <th>0</th>\n",
       "      <td>ذهاب جورونج نقط مجنو استفاد بوج عالم عظيم بوف ...</td>\n",
       "      <td>0</td>\n",
       "    </tr>\n",
       "    <tr>\n",
       "      <th>1</th>\n",
       "      <td>طيب نكت لار wif u oni</td>\n",
       "      <td>0</td>\n",
       "    </tr>\n",
       "    <tr>\n",
       "      <th>2</th>\n",
       "      <td>دخول مجا 2 wkli comp win كاس اتحاد نهاء tkts 2...</td>\n",
       "      <td>1</td>\n",
       "    </tr>\n",
       "    <tr>\n",
       "      <th>3</th>\n",
       "      <td>اقول وقت مبكر هور uc alreadi</td>\n",
       "      <td>0</td>\n",
       "    </tr>\n",
       "    <tr>\n",
       "      <th>4</th>\n",
       "      <td>ناه اعتقد جو اوسف عيش حول رغم</td>\n",
       "      <td>0</td>\n",
       "    </tr>\n",
       "    <tr>\n",
       "      <th>...</th>\n",
       "      <td>...</td>\n",
       "      <td>...</td>\n",
       "    </tr>\n",
       "    <tr>\n",
       "      <th>5569</th>\n",
       "      <td>مر ثان ثلاث 2 اتصل UU 750 جايز 2 مطالب Easy Ca...</td>\n",
       "      <td>1</td>\n",
       "    </tr>\n",
       "    <tr>\n",
       "      <th>5570</th>\n",
       "      <td>ü b اذهب متنزه fr منزل</td>\n",
       "      <td>0</td>\n",
       "    </tr>\n",
       "    <tr>\n",
       "      <th>5571</th>\n",
       "      <td>يقترح piti mood soani</td>\n",
       "      <td>0</td>\n",
       "    </tr>\n",
       "    <tr>\n",
       "      <th>5572</th>\n",
       "      <td>رجل كلب يتصرف معرف فايد شراء Someth els اسبوع ...</td>\n",
       "      <td>0</td>\n",
       "    </tr>\n",
       "    <tr>\n",
       "      <th>5573</th>\n",
       "      <td>rofl اسم حقيق</td>\n",
       "      <td>0</td>\n",
       "    </tr>\n",
       "  </tbody>\n",
       "</table>\n",
       "<p>5113 rows × 2 columns</p>\n",
       "</div>"
      ],
      "text/plain": [
       "                                                    sms  label\n",
       "0     ذهاب جورونج نقط مجنو استفاد بوج عالم عظيم بوف ...      0\n",
       "1                                 طيب نكت لار wif u oni      0\n",
       "2     دخول مجا 2 wkli comp win كاس اتحاد نهاء tkts 2...      1\n",
       "3                          اقول وقت مبكر هور uc alreadi      0\n",
       "4                         ناه اعتقد جو اوسف عيش حول رغم      0\n",
       "...                                                 ...    ...\n",
       "5569  مر ثان ثلاث 2 اتصل UU 750 جايز 2 مطالب Easy Ca...      1\n",
       "5570                             ü b اذهب متنزه fr منزل      0\n",
       "5571                              يقترح piti mood soani      0\n",
       "5572  رجل كلب يتصرف معرف فايد شراء Someth els اسبوع ...      0\n",
       "5573                                      rofl اسم حقيق      0\n",
       "\n",
       "[5113 rows x 2 columns]"
      ]
     },
     "execution_count": 17,
     "metadata": {},
     "output_type": "execute_result"
    }
   ],
   "source": [
    "df"
   ]
  },
  {
   "cell_type": "code",
   "execution_count": 18,
   "id": "dc2f4ec9",
   "metadata": {},
   "outputs": [],
   "source": [
    "def normalize_arabic_text(text):\n",
    "    # normalize hamza and alef\n",
    "    text = araby.strip_tashkeel(text) #حذف الحركات كلها بما فيها الشدة\n",
    "    text = araby.normalize_hamza(text) # تنميط أشكال الهمزة المختلفة\n",
    "    return text"
   ]
  },
  {
   "cell_type": "code",
   "execution_count": 19,
   "id": "63642923",
   "metadata": {},
   "outputs": [],
   "source": [
    "df['sms'] = df['sms'].apply(normalize_arabic_text)"
   ]
  },
  {
   "cell_type": "code",
   "execution_count": 20,
   "id": "a793af2b",
   "metadata": {},
   "outputs": [
    {
     "data": {
      "text/html": [
       "<div>\n",
       "<style scoped>\n",
       "    .dataframe tbody tr th:only-of-type {\n",
       "        vertical-align: middle;\n",
       "    }\n",
       "\n",
       "    .dataframe tbody tr th {\n",
       "        vertical-align: top;\n",
       "    }\n",
       "\n",
       "    .dataframe thead th {\n",
       "        text-align: right;\n",
       "    }\n",
       "</style>\n",
       "<table border=\"1\" class=\"dataframe\">\n",
       "  <thead>\n",
       "    <tr style=\"text-align: right;\">\n",
       "      <th></th>\n",
       "      <th>sms</th>\n",
       "      <th>label</th>\n",
       "    </tr>\n",
       "  </thead>\n",
       "  <tbody>\n",
       "    <tr>\n",
       "      <th>0</th>\n",
       "      <td>ذهاب جورونج نقط مجنو استفاد بوج عالم عظيم بوف ...</td>\n",
       "      <td>0</td>\n",
       "    </tr>\n",
       "    <tr>\n",
       "      <th>1</th>\n",
       "      <td>طيب نكت لار wif u oni</td>\n",
       "      <td>0</td>\n",
       "    </tr>\n",
       "    <tr>\n",
       "      <th>2</th>\n",
       "      <td>دخول مجا 2 wkli comp win كاس اتحاد نهاء tkts 2...</td>\n",
       "      <td>1</td>\n",
       "    </tr>\n",
       "    <tr>\n",
       "      <th>3</th>\n",
       "      <td>اقول وقت مبكر هور uc alreadi</td>\n",
       "      <td>0</td>\n",
       "    </tr>\n",
       "    <tr>\n",
       "      <th>4</th>\n",
       "      <td>ناه اعتقد جو اوسف عيش حول رغم</td>\n",
       "      <td>0</td>\n",
       "    </tr>\n",
       "    <tr>\n",
       "      <th>...</th>\n",
       "      <td>...</td>\n",
       "      <td>...</td>\n",
       "    </tr>\n",
       "    <tr>\n",
       "      <th>5569</th>\n",
       "      <td>مر ثان ثلاث 2 اتصل UU 750 جايز 2 مطالب Easy Ca...</td>\n",
       "      <td>1</td>\n",
       "    </tr>\n",
       "    <tr>\n",
       "      <th>5570</th>\n",
       "      <td>ü b اذهب متنزه fr منزل</td>\n",
       "      <td>0</td>\n",
       "    </tr>\n",
       "    <tr>\n",
       "      <th>5571</th>\n",
       "      <td>يقترح piti mood soani</td>\n",
       "      <td>0</td>\n",
       "    </tr>\n",
       "    <tr>\n",
       "      <th>5572</th>\n",
       "      <td>رجل كلب يتصرف معرف فايد شراء Someth els اسبوع ...</td>\n",
       "      <td>0</td>\n",
       "    </tr>\n",
       "    <tr>\n",
       "      <th>5573</th>\n",
       "      <td>rofl اسم حقيق</td>\n",
       "      <td>0</td>\n",
       "    </tr>\n",
       "  </tbody>\n",
       "</table>\n",
       "<p>5113 rows × 2 columns</p>\n",
       "</div>"
      ],
      "text/plain": [
       "                                                    sms  label\n",
       "0     ذهاب جورونج نقط مجنو استفاد بوج عالم عظيم بوف ...      0\n",
       "1                                 طيب نكت لار wif u oni      0\n",
       "2     دخول مجا 2 wkli comp win كاس اتحاد نهاء tkts 2...      1\n",
       "3                          اقول وقت مبكر هور uc alreadi      0\n",
       "4                         ناه اعتقد جو اوسف عيش حول رغم      0\n",
       "...                                                 ...    ...\n",
       "5569  مر ثان ثلاث 2 اتصل UU 750 جايز 2 مطالب Easy Ca...      1\n",
       "5570                             ü b اذهب متنزه fr منزل      0\n",
       "5571                              يقترح piti mood soani      0\n",
       "5572  رجل كلب يتصرف معرف فايد شراء Someth els اسبوع ...      0\n",
       "5573                                      rofl اسم حقيق      0\n",
       "\n",
       "[5113 rows x 2 columns]"
      ]
     },
     "execution_count": 20,
     "metadata": {},
     "output_type": "execute_result"
    }
   ],
   "source": [
    "df"
   ]
  },
  {
   "cell_type": "code",
   "execution_count": 21,
   "id": "25f315ff",
   "metadata": {},
   "outputs": [
    {
     "name": "stderr",
     "output_type": "stream",
     "text": [
      "[nltk_data] Downloading package punkt to\n",
      "[nltk_data]     C:\\Users\\yazan\\AppData\\Roaming\\nltk_data...\n",
      "[nltk_data]   Package punkt is already up-to-date!\n"
     ]
    }
   ],
   "source": [
    "import nltk\n",
    "nltk.download('punkt')\n",
    "\n",
    "def tokenize_arabic_text(text):\n",
    "    tokens = nltk.word_tokenize(text)\n",
    "    return tokens\n"
   ]
  },
  {
   "cell_type": "code",
   "execution_count": 22,
   "id": "8d811a6c",
   "metadata": {},
   "outputs": [],
   "source": [
    "df['sms'] = df['sms'].apply(tokenize_arabic_text)"
   ]
  },
  {
   "cell_type": "code",
   "execution_count": 23,
   "id": "2b8730cd",
   "metadata": {},
   "outputs": [
    {
     "data": {
      "text/html": [
       "<div>\n",
       "<style scoped>\n",
       "    .dataframe tbody tr th:only-of-type {\n",
       "        vertical-align: middle;\n",
       "    }\n",
       "\n",
       "    .dataframe tbody tr th {\n",
       "        vertical-align: top;\n",
       "    }\n",
       "\n",
       "    .dataframe thead th {\n",
       "        text-align: right;\n",
       "    }\n",
       "</style>\n",
       "<table border=\"1\" class=\"dataframe\">\n",
       "  <thead>\n",
       "    <tr style=\"text-align: right;\">\n",
       "      <th></th>\n",
       "      <th>sms</th>\n",
       "      <th>label</th>\n",
       "    </tr>\n",
       "  </thead>\n",
       "  <tbody>\n",
       "    <tr>\n",
       "      <th>0</th>\n",
       "      <td>[ذهاب, جورونج, نقط, مجنو, استفاد, بوج, عالم, ع...</td>\n",
       "      <td>0</td>\n",
       "    </tr>\n",
       "    <tr>\n",
       "      <th>1</th>\n",
       "      <td>[طيب, نكت, لار, wif, u, oni]</td>\n",
       "      <td>0</td>\n",
       "    </tr>\n",
       "    <tr>\n",
       "      <th>2</th>\n",
       "      <td>[دخول, مجا, 2, wkli, comp, win, كاس, اتحاد, نه...</td>\n",
       "      <td>1</td>\n",
       "    </tr>\n",
       "    <tr>\n",
       "      <th>3</th>\n",
       "      <td>[اقول, وقت, مبكر, هور, uc, alreadi]</td>\n",
       "      <td>0</td>\n",
       "    </tr>\n",
       "    <tr>\n",
       "      <th>4</th>\n",
       "      <td>[ناه, اعتقد, جو, اوسف, عيش, حول, رغم]</td>\n",
       "      <td>0</td>\n",
       "    </tr>\n",
       "    <tr>\n",
       "      <th>...</th>\n",
       "      <td>...</td>\n",
       "      <td>...</td>\n",
       "    </tr>\n",
       "    <tr>\n",
       "      <th>5569</th>\n",
       "      <td>[مر, ثان, ثلاث, 2, اتصل, UU, 750, جايز, 2, مطا...</td>\n",
       "      <td>1</td>\n",
       "    </tr>\n",
       "    <tr>\n",
       "      <th>5570</th>\n",
       "      <td>[ü, b, اذهب, متنزه, fr, منزل]</td>\n",
       "      <td>0</td>\n",
       "    </tr>\n",
       "    <tr>\n",
       "      <th>5571</th>\n",
       "      <td>[يقترح, piti, mood, soani]</td>\n",
       "      <td>0</td>\n",
       "    </tr>\n",
       "    <tr>\n",
       "      <th>5572</th>\n",
       "      <td>[رجل, كلب, يتصرف, معرف, فايد, شراء, Someth, el...</td>\n",
       "      <td>0</td>\n",
       "    </tr>\n",
       "    <tr>\n",
       "      <th>5573</th>\n",
       "      <td>[rofl, اسم, حقيق]</td>\n",
       "      <td>0</td>\n",
       "    </tr>\n",
       "  </tbody>\n",
       "</table>\n",
       "<p>5113 rows × 2 columns</p>\n",
       "</div>"
      ],
      "text/plain": [
       "                                                    sms  label\n",
       "0     [ذهاب, جورونج, نقط, مجنو, استفاد, بوج, عالم, ع...      0\n",
       "1                          [طيب, نكت, لار, wif, u, oni]      0\n",
       "2     [دخول, مجا, 2, wkli, comp, win, كاس, اتحاد, نه...      1\n",
       "3                   [اقول, وقت, مبكر, هور, uc, alreadi]      0\n",
       "4                 [ناه, اعتقد, جو, اوسف, عيش, حول, رغم]      0\n",
       "...                                                 ...    ...\n",
       "5569  [مر, ثان, ثلاث, 2, اتصل, UU, 750, جايز, 2, مطا...      1\n",
       "5570                      [ü, b, اذهب, متنزه, fr, منزل]      0\n",
       "5571                         [يقترح, piti, mood, soani]      0\n",
       "5572  [رجل, كلب, يتصرف, معرف, فايد, شراء, Someth, el...      0\n",
       "5573                                  [rofl, اسم, حقيق]      0\n",
       "\n",
       "[5113 rows x 2 columns]"
      ]
     },
     "execution_count": 23,
     "metadata": {},
     "output_type": "execute_result"
    }
   ],
   "source": [
    "df"
   ]
  },
  {
   "cell_type": "code",
   "execution_count": 24,
   "id": "8f904fc0",
   "metadata": {},
   "outputs": [],
   "source": [
    "import re\n",
    "\n",
    "def remove_english_text(text_list):\n",
    "    # join the list of strings into a single string\n",
    "    text = ' '.join(text_list)\n",
    "    # define pattern to match English words\n",
    "    english_pattern = re.compile(r'[a-zA-Z]+')\n",
    "    # replace English words with empty string\n",
    "    text = re.sub(english_pattern, '', text)\n",
    "    # split the string back into a list of strings\n",
    "    text_list = text.split()\n",
    "    return text_list\n"
   ]
  },
  {
   "cell_type": "code",
   "execution_count": 25,
   "id": "d2d5c338",
   "metadata": {},
   "outputs": [],
   "source": [
    "df['sms'] = df['sms'].apply(remove_english_text)"
   ]
  },
  {
   "cell_type": "code",
   "execution_count": 26,
   "id": "d20a301c",
   "metadata": {},
   "outputs": [
    {
     "data": {
      "text/html": [
       "<div>\n",
       "<style scoped>\n",
       "    .dataframe tbody tr th:only-of-type {\n",
       "        vertical-align: middle;\n",
       "    }\n",
       "\n",
       "    .dataframe tbody tr th {\n",
       "        vertical-align: top;\n",
       "    }\n",
       "\n",
       "    .dataframe thead th {\n",
       "        text-align: right;\n",
       "    }\n",
       "</style>\n",
       "<table border=\"1\" class=\"dataframe\">\n",
       "  <thead>\n",
       "    <tr style=\"text-align: right;\">\n",
       "      <th></th>\n",
       "      <th>sms</th>\n",
       "      <th>label</th>\n",
       "    </tr>\n",
       "  </thead>\n",
       "  <tbody>\n",
       "    <tr>\n",
       "      <th>0</th>\n",
       "      <td>[ذهاب, جورونج, نقط, مجنو, استفاد, بوج, عالم, ع...</td>\n",
       "      <td>0</td>\n",
       "    </tr>\n",
       "    <tr>\n",
       "      <th>1</th>\n",
       "      <td>[طيب, نكت, لار]</td>\n",
       "      <td>0</td>\n",
       "    </tr>\n",
       "    <tr>\n",
       "      <th>2</th>\n",
       "      <td>[دخول, مجا, 2, كاس, اتحاد, نهاء, 21, 2005, 871...</td>\n",
       "      <td>1</td>\n",
       "    </tr>\n",
       "    <tr>\n",
       "      <th>3</th>\n",
       "      <td>[اقول, وقت, مبكر, هور]</td>\n",
       "      <td>0</td>\n",
       "    </tr>\n",
       "    <tr>\n",
       "      <th>4</th>\n",
       "      <td>[ناه, اعتقد, جو, اوسف, عيش, حول, رغم]</td>\n",
       "      <td>0</td>\n",
       "    </tr>\n",
       "    <tr>\n",
       "      <th>...</th>\n",
       "      <td>...</td>\n",
       "      <td>...</td>\n",
       "    </tr>\n",
       "    <tr>\n",
       "      <th>5569</th>\n",
       "      <td>[مر, ثان, ثلاث, 2, اتصل, 750, جايز, 2, مطالب, ...</td>\n",
       "      <td>1</td>\n",
       "    </tr>\n",
       "    <tr>\n",
       "      <th>5570</th>\n",
       "      <td>[ü, اذهب, متنزه, منزل]</td>\n",
       "      <td>0</td>\n",
       "    </tr>\n",
       "    <tr>\n",
       "      <th>5571</th>\n",
       "      <td>[يقترح]</td>\n",
       "      <td>0</td>\n",
       "    </tr>\n",
       "    <tr>\n",
       "      <th>5572</th>\n",
       "      <td>[رجل, كلب, يتصرف, معرف, فايد, شراء, اسبوع, قاد...</td>\n",
       "      <td>0</td>\n",
       "    </tr>\n",
       "    <tr>\n",
       "      <th>5573</th>\n",
       "      <td>[اسم, حقيق]</td>\n",
       "      <td>0</td>\n",
       "    </tr>\n",
       "  </tbody>\n",
       "</table>\n",
       "<p>5113 rows × 2 columns</p>\n",
       "</div>"
      ],
      "text/plain": [
       "                                                    sms  label\n",
       "0     [ذهاب, جورونج, نقط, مجنو, استفاد, بوج, عالم, ع...      0\n",
       "1                                       [طيب, نكت, لار]      0\n",
       "2     [دخول, مجا, 2, كاس, اتحاد, نهاء, 21, 2005, 871...      1\n",
       "3                                [اقول, وقت, مبكر, هور]      0\n",
       "4                 [ناه, اعتقد, جو, اوسف, عيش, حول, رغم]      0\n",
       "...                                                 ...    ...\n",
       "5569  [مر, ثان, ثلاث, 2, اتصل, 750, جايز, 2, مطالب, ...      1\n",
       "5570                             [ü, اذهب, متنزه, منزل]      0\n",
       "5571                                            [يقترح]      0\n",
       "5572  [رجل, كلب, يتصرف, معرف, فايد, شراء, اسبوع, قاد...      0\n",
       "5573                                        [اسم, حقيق]      0\n",
       "\n",
       "[5113 rows x 2 columns]"
      ]
     },
     "execution_count": 26,
     "metadata": {},
     "output_type": "execute_result"
    }
   ],
   "source": [
    "df"
   ]
  },
  {
   "cell_type": "code",
   "execution_count": 27,
   "id": "8f133991",
   "metadata": {},
   "outputs": [],
   "source": [
    "import string\n",
    "\n",
    "def remove_punctuation(text):\n",
    "    translator = str.maketrans('', '', string.punctuation)\n",
    "    if isinstance(text, list):\n",
    "        text = [t.translate(translator) for t in text]\n",
    "    else:\n",
    "        text = text.translate(translator)\n",
    "    return text\n",
    "\n",
    "\n",
    "df['sms'] = df['sms'].apply(remove_punctuation)"
   ]
  },
  {
   "cell_type": "code",
   "execution_count": 28,
   "id": "20913cff",
   "metadata": {},
   "outputs": [
    {
     "data": {
      "text/html": [
       "<div>\n",
       "<style scoped>\n",
       "    .dataframe tbody tr th:only-of-type {\n",
       "        vertical-align: middle;\n",
       "    }\n",
       "\n",
       "    .dataframe tbody tr th {\n",
       "        vertical-align: top;\n",
       "    }\n",
       "\n",
       "    .dataframe thead th {\n",
       "        text-align: right;\n",
       "    }\n",
       "</style>\n",
       "<table border=\"1\" class=\"dataframe\">\n",
       "  <thead>\n",
       "    <tr style=\"text-align: right;\">\n",
       "      <th></th>\n",
       "      <th>sms</th>\n",
       "      <th>label</th>\n",
       "    </tr>\n",
       "  </thead>\n",
       "  <tbody>\n",
       "    <tr>\n",
       "      <th>0</th>\n",
       "      <td>[ذهاب, جورونج, نقط, مجنو, استفاد, بوج, عالم, ع...</td>\n",
       "      <td>0</td>\n",
       "    </tr>\n",
       "    <tr>\n",
       "      <th>1</th>\n",
       "      <td>[طيب, نكت, لار]</td>\n",
       "      <td>0</td>\n",
       "    </tr>\n",
       "    <tr>\n",
       "      <th>2</th>\n",
       "      <td>[دخول, مجا, 2, كاس, اتحاد, نهاء, 21, 2005, 871...</td>\n",
       "      <td>1</td>\n",
       "    </tr>\n",
       "    <tr>\n",
       "      <th>3</th>\n",
       "      <td>[اقول, وقت, مبكر, هور]</td>\n",
       "      <td>0</td>\n",
       "    </tr>\n",
       "    <tr>\n",
       "      <th>4</th>\n",
       "      <td>[ناه, اعتقد, جو, اوسف, عيش, حول, رغم]</td>\n",
       "      <td>0</td>\n",
       "    </tr>\n",
       "    <tr>\n",
       "      <th>...</th>\n",
       "      <td>...</td>\n",
       "      <td>...</td>\n",
       "    </tr>\n",
       "    <tr>\n",
       "      <th>5569</th>\n",
       "      <td>[مر, ثان, ثلاث, 2, اتصل, 750, جايز, 2, مطالب, ...</td>\n",
       "      <td>1</td>\n",
       "    </tr>\n",
       "    <tr>\n",
       "      <th>5570</th>\n",
       "      <td>[ü, اذهب, متنزه, منزل]</td>\n",
       "      <td>0</td>\n",
       "    </tr>\n",
       "    <tr>\n",
       "      <th>5571</th>\n",
       "      <td>[يقترح]</td>\n",
       "      <td>0</td>\n",
       "    </tr>\n",
       "    <tr>\n",
       "      <th>5572</th>\n",
       "      <td>[رجل, كلب, يتصرف, معرف, فايد, شراء, اسبوع, قاد...</td>\n",
       "      <td>0</td>\n",
       "    </tr>\n",
       "    <tr>\n",
       "      <th>5573</th>\n",
       "      <td>[اسم, حقيق]</td>\n",
       "      <td>0</td>\n",
       "    </tr>\n",
       "  </tbody>\n",
       "</table>\n",
       "<p>5113 rows × 2 columns</p>\n",
       "</div>"
      ],
      "text/plain": [
       "                                                    sms  label\n",
       "0     [ذهاب, جورونج, نقط, مجنو, استفاد, بوج, عالم, ع...      0\n",
       "1                                       [طيب, نكت, لار]      0\n",
       "2     [دخول, مجا, 2, كاس, اتحاد, نهاء, 21, 2005, 871...      1\n",
       "3                                [اقول, وقت, مبكر, هور]      0\n",
       "4                 [ناه, اعتقد, جو, اوسف, عيش, حول, رغم]      0\n",
       "...                                                 ...    ...\n",
       "5569  [مر, ثان, ثلاث, 2, اتصل, 750, جايز, 2, مطالب, ...      1\n",
       "5570                             [ü, اذهب, متنزه, منزل]      0\n",
       "5571                                            [يقترح]      0\n",
       "5572  [رجل, كلب, يتصرف, معرف, فايد, شراء, اسبوع, قاد...      0\n",
       "5573                                        [اسم, حقيق]      0\n",
       "\n",
       "[5113 rows x 2 columns]"
      ]
     },
     "execution_count": 28,
     "metadata": {},
     "output_type": "execute_result"
    }
   ],
   "source": [
    "df"
   ]
  },
  {
   "cell_type": "code",
   "execution_count": 29,
   "id": "baf07de3",
   "metadata": {},
   "outputs": [],
   "source": [
    "import string\n",
    "\n",
    "def remove_punctuation(text):\n",
    "    translator = str.maketrans('', '', string.punctuation)\n",
    "    # remove empty entries\n",
    "    text = [t for t in text if t.strip()]\n",
    "    # remove punctuation\n",
    "    text = [t.translate(translator) for t in text]\n",
    "    return text\n"
   ]
  },
  {
   "cell_type": "code",
   "execution_count": 30,
   "id": "832bcd85",
   "metadata": {},
   "outputs": [],
   "source": [
    "df['sms'] = df['sms'].apply(remove_punctuation)\n"
   ]
  },
  {
   "cell_type": "code",
   "execution_count": 31,
   "id": "84352bea",
   "metadata": {},
   "outputs": [
    {
     "data": {
      "text/html": [
       "<div>\n",
       "<style scoped>\n",
       "    .dataframe tbody tr th:only-of-type {\n",
       "        vertical-align: middle;\n",
       "    }\n",
       "\n",
       "    .dataframe tbody tr th {\n",
       "        vertical-align: top;\n",
       "    }\n",
       "\n",
       "    .dataframe thead th {\n",
       "        text-align: right;\n",
       "    }\n",
       "</style>\n",
       "<table border=\"1\" class=\"dataframe\">\n",
       "  <thead>\n",
       "    <tr style=\"text-align: right;\">\n",
       "      <th></th>\n",
       "      <th>sms</th>\n",
       "      <th>label</th>\n",
       "    </tr>\n",
       "  </thead>\n",
       "  <tbody>\n",
       "    <tr>\n",
       "      <th>0</th>\n",
       "      <td>[ذهاب, جورونج, نقط, مجنو, استفاد, بوج, عالم, ع...</td>\n",
       "      <td>0</td>\n",
       "    </tr>\n",
       "    <tr>\n",
       "      <th>1</th>\n",
       "      <td>[طيب, نكت, لار]</td>\n",
       "      <td>0</td>\n",
       "    </tr>\n",
       "    <tr>\n",
       "      <th>2</th>\n",
       "      <td>[دخول, مجا, 2, كاس, اتحاد, نهاء, 21, 2005, 871...</td>\n",
       "      <td>1</td>\n",
       "    </tr>\n",
       "    <tr>\n",
       "      <th>3</th>\n",
       "      <td>[اقول, وقت, مبكر, هور]</td>\n",
       "      <td>0</td>\n",
       "    </tr>\n",
       "    <tr>\n",
       "      <th>4</th>\n",
       "      <td>[ناه, اعتقد, جو, اوسف, عيش, حول, رغم]</td>\n",
       "      <td>0</td>\n",
       "    </tr>\n",
       "    <tr>\n",
       "      <th>...</th>\n",
       "      <td>...</td>\n",
       "      <td>...</td>\n",
       "    </tr>\n",
       "    <tr>\n",
       "      <th>5569</th>\n",
       "      <td>[مر, ثان, ثلاث, 2, اتصل, 750, جايز, 2, مطالب, ...</td>\n",
       "      <td>1</td>\n",
       "    </tr>\n",
       "    <tr>\n",
       "      <th>5570</th>\n",
       "      <td>[ü, اذهب, متنزه, منزل]</td>\n",
       "      <td>0</td>\n",
       "    </tr>\n",
       "    <tr>\n",
       "      <th>5571</th>\n",
       "      <td>[يقترح]</td>\n",
       "      <td>0</td>\n",
       "    </tr>\n",
       "    <tr>\n",
       "      <th>5572</th>\n",
       "      <td>[رجل, كلب, يتصرف, معرف, فايد, شراء, اسبوع, قاد...</td>\n",
       "      <td>0</td>\n",
       "    </tr>\n",
       "    <tr>\n",
       "      <th>5573</th>\n",
       "      <td>[اسم, حقيق]</td>\n",
       "      <td>0</td>\n",
       "    </tr>\n",
       "  </tbody>\n",
       "</table>\n",
       "<p>5113 rows × 2 columns</p>\n",
       "</div>"
      ],
      "text/plain": [
       "                                                    sms  label\n",
       "0     [ذهاب, جورونج, نقط, مجنو, استفاد, بوج, عالم, ع...      0\n",
       "1                                       [طيب, نكت, لار]      0\n",
       "2     [دخول, مجا, 2, كاس, اتحاد, نهاء, 21, 2005, 871...      1\n",
       "3                                [اقول, وقت, مبكر, هور]      0\n",
       "4                 [ناه, اعتقد, جو, اوسف, عيش, حول, رغم]      0\n",
       "...                                                 ...    ...\n",
       "5569  [مر, ثان, ثلاث, 2, اتصل, 750, جايز, 2, مطالب, ...      1\n",
       "5570                             [ü, اذهب, متنزه, منزل]      0\n",
       "5571                                            [يقترح]      0\n",
       "5572  [رجل, كلب, يتصرف, معرف, فايد, شراء, اسبوع, قاد...      0\n",
       "5573                                        [اسم, حقيق]      0\n",
       "\n",
       "[5113 rows x 2 columns]"
      ]
     },
     "execution_count": 31,
     "metadata": {},
     "output_type": "execute_result"
    }
   ],
   "source": [
    "df"
   ]
  },
  {
   "cell_type": "code",
   "execution_count": 32,
   "id": "7d8858bb",
   "metadata": {},
   "outputs": [],
   "source": [
    "def remove_stopwords(words):\n",
    "    filtered_words = [word for word in words if word.lower() not in arabic_stopwords]\n",
    "    return filtered_words\n",
    "\n",
    "df['sms'] = df['sms'].apply(remove_stopwords)\n"
   ]
  },
  {
   "cell_type": "code",
   "execution_count": 33,
   "id": "7ea85740",
   "metadata": {},
   "outputs": [
    {
     "data": {
      "text/html": [
       "<div>\n",
       "<style scoped>\n",
       "    .dataframe tbody tr th:only-of-type {\n",
       "        vertical-align: middle;\n",
       "    }\n",
       "\n",
       "    .dataframe tbody tr th {\n",
       "        vertical-align: top;\n",
       "    }\n",
       "\n",
       "    .dataframe thead th {\n",
       "        text-align: right;\n",
       "    }\n",
       "</style>\n",
       "<table border=\"1\" class=\"dataframe\">\n",
       "  <thead>\n",
       "    <tr style=\"text-align: right;\">\n",
       "      <th></th>\n",
       "      <th>sms</th>\n",
       "      <th>label</th>\n",
       "    </tr>\n",
       "  </thead>\n",
       "  <tbody>\n",
       "    <tr>\n",
       "      <th>2</th>\n",
       "      <td>[دخول, مجا, 2, كاس, اتحاد, نهاء, 21, 2005, 871...</td>\n",
       "      <td>1</td>\n",
       "    </tr>\n",
       "    <tr>\n",
       "      <th>5</th>\n",
       "      <td>[3, 150]</td>\n",
       "      <td>1</td>\n",
       "    </tr>\n",
       "    <tr>\n",
       "      <th>8</th>\n",
       "      <td>[فايز, شبك, قيم, محدد, استلام, مخصص, 900, جايز...</td>\n",
       "      <td>1</td>\n",
       "    </tr>\n",
       "    <tr>\n",
       "      <th>9</th>\n",
       "      <td>[موبيل, 11, شهر, محدث, احدث, امير, موبيل, ملون...</td>\n",
       "      <td>1</td>\n",
       "    </tr>\n",
       "    <tr>\n",
       "      <th>11</th>\n",
       "      <td>[100, 20000, 11, 87575, 150, 6, 16, 4]</td>\n",
       "      <td>1</td>\n",
       "    </tr>\n",
       "    <tr>\n",
       "      <th>...</th>\n",
       "      <td>...</td>\n",
       "      <td>...</td>\n",
       "    </tr>\n",
       "    <tr>\n",
       "      <th>5528</th>\n",
       "      <td>[كشف, حساب, 2003, خاص, ريف, يظهر, 800, نقط, قا...</td>\n",
       "      <td>1</td>\n",
       "    </tr>\n",
       "    <tr>\n",
       "      <th>5539</th>\n",
       "      <td>[تريد, جنس, صريح, 30, حلق, 02073162414, تكلف, ...</td>\n",
       "      <td>1</td>\n",
       "    </tr>\n",
       "    <tr>\n",
       "      <th>5542</th>\n",
       "      <td>[اسال, 3, 0870, 8, 3, 250, 3, 800]</td>\n",
       "      <td>1</td>\n",
       "    </tr>\n",
       "    <tr>\n",
       "      <th>5568</th>\n",
       "      <td>[تذكير, 2, احصل, 250, جن, تفاصيل, رصيد, مكالم,...</td>\n",
       "      <td>1</td>\n",
       "    </tr>\n",
       "    <tr>\n",
       "      <th>5569</th>\n",
       "      <td>[مر, 2, اتصل, 750, جايز, 2, مطالب, 08718727200...</td>\n",
       "      <td>1</td>\n",
       "    </tr>\n",
       "  </tbody>\n",
       "</table>\n",
       "<p>630 rows × 2 columns</p>\n",
       "</div>"
      ],
      "text/plain": [
       "                                                    sms  label\n",
       "2     [دخول, مجا, 2, كاس, اتحاد, نهاء, 21, 2005, 871...      1\n",
       "5                                              [3, 150]      1\n",
       "8     [فايز, شبك, قيم, محدد, استلام, مخصص, 900, جايز...      1\n",
       "9     [موبيل, 11, شهر, محدث, احدث, امير, موبيل, ملون...      1\n",
       "11               [100, 20000, 11, 87575, 150, 6, 16, 4]      1\n",
       "...                                                 ...    ...\n",
       "5528  [كشف, حساب, 2003, خاص, ريف, يظهر, 800, نقط, قا...      1\n",
       "5539  [تريد, جنس, صريح, 30, حلق, 02073162414, تكلف, ...      1\n",
       "5542                 [اسال, 3, 0870, 8, 3, 250, 3, 800]      1\n",
       "5568  [تذكير, 2, احصل, 250, جن, تفاصيل, رصيد, مكالم,...      1\n",
       "5569  [مر, 2, اتصل, 750, جايز, 2, مطالب, 08718727200...      1\n",
       "\n",
       "[630 rows x 2 columns]"
      ]
     },
     "execution_count": 33,
     "metadata": {},
     "output_type": "execute_result"
    }
   ],
   "source": [
    "df[df['label'] == 1]"
   ]
  },
  {
   "cell_type": "code",
   "execution_count": 34,
   "id": "80c632f8",
   "metadata": {},
   "outputs": [],
   "source": [
    "df['sms'] = df['sms'].apply(lambda x: ' '.join(x))"
   ]
  },
  {
   "cell_type": "code",
   "execution_count": 35,
   "id": "c07ef147",
   "metadata": {},
   "outputs": [
    {
     "data": {
      "text/html": [
       "<div>\n",
       "<style scoped>\n",
       "    .dataframe tbody tr th:only-of-type {\n",
       "        vertical-align: middle;\n",
       "    }\n",
       "\n",
       "    .dataframe tbody tr th {\n",
       "        vertical-align: top;\n",
       "    }\n",
       "\n",
       "    .dataframe thead th {\n",
       "        text-align: right;\n",
       "    }\n",
       "</style>\n",
       "<table border=\"1\" class=\"dataframe\">\n",
       "  <thead>\n",
       "    <tr style=\"text-align: right;\">\n",
       "      <th></th>\n",
       "      <th>sms</th>\n",
       "      <th>label</th>\n",
       "    </tr>\n",
       "  </thead>\n",
       "  <tbody>\n",
       "    <tr>\n",
       "      <th>0</th>\n",
       "      <td>ذهاب جورونج نقط مجنو استفاد بوج عالم عظيم بوف ...</td>\n",
       "      <td>0</td>\n",
       "    </tr>\n",
       "    <tr>\n",
       "      <th>1</th>\n",
       "      <td>طيب نكت لار</td>\n",
       "      <td>0</td>\n",
       "    </tr>\n",
       "    <tr>\n",
       "      <th>2</th>\n",
       "      <td>دخول مجا 2 كاس اتحاد نهاء 21 2005 87121 084528...</td>\n",
       "      <td>1</td>\n",
       "    </tr>\n",
       "    <tr>\n",
       "      <th>3</th>\n",
       "      <td>اقول وقت مبكر هور</td>\n",
       "      <td>0</td>\n",
       "    </tr>\n",
       "    <tr>\n",
       "      <th>4</th>\n",
       "      <td>ناه اعتقد جو اوسف عيش حول رغم</td>\n",
       "      <td>0</td>\n",
       "    </tr>\n",
       "    <tr>\n",
       "      <th>...</th>\n",
       "      <td>...</td>\n",
       "      <td>...</td>\n",
       "    </tr>\n",
       "    <tr>\n",
       "      <th>5569</th>\n",
       "      <td>مر 2 اتصل 750 جايز 2 مطالب 087187272008 1 10 ل...</td>\n",
       "      <td>1</td>\n",
       "    </tr>\n",
       "    <tr>\n",
       "      <th>5570</th>\n",
       "      <td>ü اذهب متنزه منزل</td>\n",
       "      <td>0</td>\n",
       "    </tr>\n",
       "    <tr>\n",
       "      <th>5571</th>\n",
       "      <td>يقترح</td>\n",
       "      <td>0</td>\n",
       "    </tr>\n",
       "    <tr>\n",
       "      <th>5572</th>\n",
       "      <td>رجل كلب يتصرف معرف فايد شراء اسبوع قادم اعط مجا</td>\n",
       "      <td>0</td>\n",
       "    </tr>\n",
       "    <tr>\n",
       "      <th>5573</th>\n",
       "      <td>اسم حقيق</td>\n",
       "      <td>0</td>\n",
       "    </tr>\n",
       "  </tbody>\n",
       "</table>\n",
       "<p>5113 rows × 2 columns</p>\n",
       "</div>"
      ],
      "text/plain": [
       "                                                    sms  label\n",
       "0     ذهاب جورونج نقط مجنو استفاد بوج عالم عظيم بوف ...      0\n",
       "1                                           طيب نكت لار      0\n",
       "2     دخول مجا 2 كاس اتحاد نهاء 21 2005 87121 084528...      1\n",
       "3                                     اقول وقت مبكر هور      0\n",
       "4                         ناه اعتقد جو اوسف عيش حول رغم      0\n",
       "...                                                 ...    ...\n",
       "5569  مر 2 اتصل 750 جايز 2 مطالب 087187272008 1 10 ل...      1\n",
       "5570                                  ü اذهب متنزه منزل      0\n",
       "5571                                              يقترح      0\n",
       "5572    رجل كلب يتصرف معرف فايد شراء اسبوع قادم اعط مجا      0\n",
       "5573                                           اسم حقيق      0\n",
       "\n",
       "[5113 rows x 2 columns]"
      ]
     },
     "execution_count": 35,
     "metadata": {},
     "output_type": "execute_result"
    }
   ],
   "source": [
    "df"
   ]
  },
  {
   "cell_type": "code",
   "execution_count": 40,
   "id": "cb3aed63",
   "metadata": {},
   "outputs": [],
   "source": [
    "import pandas as pd\n",
    "import re\n",
    "\n",
    "# Define a function to convert English numbers to Arabic\n",
    "def convert_numbers(text):\n",
    "    # Find all English numbers in the text using a regular expression\n",
    "    english_numbers = re.findall(r'\\d+', text)\n",
    "\n",
    "    # Replace each English number with its Arabic equivalent\n",
    "    arabic_text = text\n",
    "    for num in english_numbers:\n",
    "        arabic_num = ''\n",
    "        for digit in num:\n",
    "            arabic_num += chr(ord(digit) + 1584)\n",
    "        arabic_text = arabic_text.replace(num, arabic_num)\n",
    "\n",
    "    return arabic_text"
   ]
  },
  {
   "cell_type": "code",
   "execution_count": 41,
   "id": "3b40aecd",
   "metadata": {},
   "outputs": [],
   "source": [
    "df['sms'] = df['sms'].apply(convert_numbers)"
   ]
  },
  {
   "cell_type": "code",
   "execution_count": 42,
   "id": "31af87bc",
   "metadata": {},
   "outputs": [
    {
     "data": {
      "text/html": [
       "<div>\n",
       "<style scoped>\n",
       "    .dataframe tbody tr th:only-of-type {\n",
       "        vertical-align: middle;\n",
       "    }\n",
       "\n",
       "    .dataframe tbody tr th {\n",
       "        vertical-align: top;\n",
       "    }\n",
       "\n",
       "    .dataframe thead th {\n",
       "        text-align: right;\n",
       "    }\n",
       "</style>\n",
       "<table border=\"1\" class=\"dataframe\">\n",
       "  <thead>\n",
       "    <tr style=\"text-align: right;\">\n",
       "      <th></th>\n",
       "      <th>sms</th>\n",
       "      <th>label</th>\n",
       "    </tr>\n",
       "  </thead>\n",
       "  <tbody>\n",
       "    <tr>\n",
       "      <th>2</th>\n",
       "      <td>دخول مجا ٢ كاس اتحاد نهاء ٢1 ٢005 871٢1 0845٢8...</td>\n",
       "      <td>1</td>\n",
       "    </tr>\n",
       "    <tr>\n",
       "      <th>5</th>\n",
       "      <td>٣ ١٥٠</td>\n",
       "      <td>1</td>\n",
       "    </tr>\n",
       "    <tr>\n",
       "      <th>8</th>\n",
       "      <td>فايز شبك قيم محدد استلام مخصص ٩٠٠ جايز مطالب م...</td>\n",
       "      <td>1</td>\n",
       "    </tr>\n",
       "    <tr>\n",
       "      <th>9</th>\n",
       "      <td>موبيل ١١ شهر محدث احدث امير موبيل ملون مجان ات...</td>\n",
       "      <td>1</td>\n",
       "    </tr>\n",
       "    <tr>\n",
       "      <th>11</th>\n",
       "      <td>١٠٠ ٢٠٠٠٠ ١١ ٨٧٥٧٥ ١٥٠ ٦ 1٦ ٤</td>\n",
       "      <td>1</td>\n",
       "    </tr>\n",
       "    <tr>\n",
       "      <th>...</th>\n",
       "      <td>...</td>\n",
       "      <td>...</td>\n",
       "    </tr>\n",
       "    <tr>\n",
       "      <th>5528</th>\n",
       "      <td>كشف حساب ٢٠٠٣ خاص ريف يظهر ٨٠٠ نقط قابل استردا...</td>\n",
       "      <td>1</td>\n",
       "    </tr>\n",
       "    <tr>\n",
       "      <th>5539</th>\n",
       "      <td>تريد جنس صريح ٣٠ حلق ٠٢٠٧٣١٦٢٤١٤ تكلف ٢٠ ٢٦٦٧ ١ ٣</td>\n",
       "      <td>1</td>\n",
       "    </tr>\n",
       "    <tr>\n",
       "      <th>5542</th>\n",
       "      <td>اسال ٣ ٠٨٧٠ ٨ ٣ ٢٥٠ ٣ ٨00</td>\n",
       "      <td>1</td>\n",
       "    </tr>\n",
       "    <tr>\n",
       "      <th>5568</th>\n",
       "      <td>تذكير ٢ احصل ٢50 جن تفاصيل رصيد مكالم مجان عرض...</td>\n",
       "      <td>1</td>\n",
       "    </tr>\n",
       "    <tr>\n",
       "      <th>5569</th>\n",
       "      <td>مر ٢ اتصل ٧٥٠ جايز ٢ مطالب 087١87٢7٢008 ١ ١0 ل...</td>\n",
       "      <td>1</td>\n",
       "    </tr>\n",
       "  </tbody>\n",
       "</table>\n",
       "<p>630 rows × 2 columns</p>\n",
       "</div>"
      ],
      "text/plain": [
       "                                                    sms  label\n",
       "2     دخول مجا ٢ كاس اتحاد نهاء ٢1 ٢005 871٢1 0845٢8...      1\n",
       "5                                                 ٣ ١٥٠      1\n",
       "8     فايز شبك قيم محدد استلام مخصص ٩٠٠ جايز مطالب م...      1\n",
       "9     موبيل ١١ شهر محدث احدث امير موبيل ملون مجان ات...      1\n",
       "11                        ١٠٠ ٢٠٠٠٠ ١١ ٨٧٥٧٥ ١٥٠ ٦ 1٦ ٤      1\n",
       "...                                                 ...    ...\n",
       "5528  كشف حساب ٢٠٠٣ خاص ريف يظهر ٨٠٠ نقط قابل استردا...      1\n",
       "5539  تريد جنس صريح ٣٠ حلق ٠٢٠٧٣١٦٢٤١٤ تكلف ٢٠ ٢٦٦٧ ١ ٣      1\n",
       "5542                          اسال ٣ ٠٨٧٠ ٨ ٣ ٢٥٠ ٣ ٨00      1\n",
       "5568  تذكير ٢ احصل ٢50 جن تفاصيل رصيد مكالم مجان عرض...      1\n",
       "5569  مر ٢ اتصل ٧٥٠ جايز ٢ مطالب 087١87٢7٢008 ١ ١0 ل...      1\n",
       "\n",
       "[630 rows x 2 columns]"
      ]
     },
     "execution_count": 42,
     "metadata": {},
     "output_type": "execute_result"
    }
   ],
   "source": [
    "df[df['label'] ==1]"
   ]
  },
  {
   "cell_type": "code",
   "execution_count": 43,
   "id": "7fa3e2bd",
   "metadata": {},
   "outputs": [],
   "source": [
    "df.to_csv('cleaned_data.csv', encoding='utf-8-sig', index=False)"
   ]
  },
  {
   "cell_type": "markdown",
   "id": "7711892e",
   "metadata": {},
   "source": [
    "# Arabert"
   ]
  },
  {
   "cell_type": "code",
   "execution_count": 44,
   "id": "acb3a891",
   "metadata": {},
   "outputs": [
    {
     "name": "stderr",
     "output_type": "stream",
     "text": [
      "Some weights of the model checkpoint at aubmindlab/bert-base-arabertv2 were not used when initializing BertModel: ['cls.predictions.transform.dense.weight', 'cls.seq_relationship.weight', 'cls.predictions.transform.LayerNorm.bias', 'cls.predictions.bias', 'cls.predictions.transform.LayerNorm.weight', 'cls.predictions.decoder.bias', 'cls.seq_relationship.bias', 'cls.predictions.transform.dense.bias', 'cls.predictions.decoder.weight']\n",
      "- This IS expected if you are initializing BertModel from the checkpoint of a model trained on another task or with another architecture (e.g. initializing a BertForSequenceClassification model from a BertForPreTraining model).\n",
      "- This IS NOT expected if you are initializing BertModel from the checkpoint of a model that you expect to be exactly identical (initializing a BertForSequenceClassification model from a BertForSequenceClassification model).\n"
     ]
    }
   ],
   "source": [
    "import transformers\n",
    "import torch\n",
    "import pandas as pd\n",
    "\n",
    "# load the pre-trained AraBERT model\n",
    "model_name = 'aubmindlab/bert-base-arabertv2'\n",
    "tokenizer = transformers.AutoTokenizer.from_pretrained(model_name)\n",
    "model = transformers.AutoModel.from_pretrained(model_name)"
   ]
  },
  {
   "cell_type": "code",
   "execution_count": 45,
   "id": "c406a3d3",
   "metadata": {},
   "outputs": [
    {
     "data": {
      "text/html": [
       "<div>\n",
       "<style scoped>\n",
       "    .dataframe tbody tr th:only-of-type {\n",
       "        vertical-align: middle;\n",
       "    }\n",
       "\n",
       "    .dataframe tbody tr th {\n",
       "        vertical-align: top;\n",
       "    }\n",
       "\n",
       "    .dataframe thead th {\n",
       "        text-align: right;\n",
       "    }\n",
       "</style>\n",
       "<table border=\"1\" class=\"dataframe\">\n",
       "  <thead>\n",
       "    <tr style=\"text-align: right;\">\n",
       "      <th></th>\n",
       "      <th>sms</th>\n",
       "      <th>label</th>\n",
       "    </tr>\n",
       "  </thead>\n",
       "  <tbody>\n",
       "    <tr>\n",
       "      <th>0</th>\n",
       "      <td>ذهاب جورونج نقط مجنو استفاد بوج عالم عظيم بوف ...</td>\n",
       "      <td>0</td>\n",
       "    </tr>\n",
       "    <tr>\n",
       "      <th>1</th>\n",
       "      <td>طيب نكت لار</td>\n",
       "      <td>0</td>\n",
       "    </tr>\n",
       "    <tr>\n",
       "      <th>2</th>\n",
       "      <td>دخول مجا ٢ كاس اتحاد نهاء ٢1 ٢005 871٢1 0845٢8...</td>\n",
       "      <td>1</td>\n",
       "    </tr>\n",
       "    <tr>\n",
       "      <th>3</th>\n",
       "      <td>اقول وقت مبكر هور</td>\n",
       "      <td>0</td>\n",
       "    </tr>\n",
       "    <tr>\n",
       "      <th>4</th>\n",
       "      <td>ناه اعتقد جو اوسف عيش حول رغم</td>\n",
       "      <td>0</td>\n",
       "    </tr>\n",
       "    <tr>\n",
       "      <th>...</th>\n",
       "      <td>...</td>\n",
       "      <td>...</td>\n",
       "    </tr>\n",
       "    <tr>\n",
       "      <th>5569</th>\n",
       "      <td>مر ٢ اتصل ٧٥٠ جايز ٢ مطالب 087١87٢7٢008 ١ ١0 ل...</td>\n",
       "      <td>1</td>\n",
       "    </tr>\n",
       "    <tr>\n",
       "      <th>5570</th>\n",
       "      <td>ü اذهب متنزه منزل</td>\n",
       "      <td>0</td>\n",
       "    </tr>\n",
       "    <tr>\n",
       "      <th>5571</th>\n",
       "      <td>يقترح</td>\n",
       "      <td>0</td>\n",
       "    </tr>\n",
       "    <tr>\n",
       "      <th>5572</th>\n",
       "      <td>رجل كلب يتصرف معرف فايد شراء اسبوع قادم اعط مجا</td>\n",
       "      <td>0</td>\n",
       "    </tr>\n",
       "    <tr>\n",
       "      <th>5573</th>\n",
       "      <td>اسم حقيق</td>\n",
       "      <td>0</td>\n",
       "    </tr>\n",
       "  </tbody>\n",
       "</table>\n",
       "<p>5113 rows × 2 columns</p>\n",
       "</div>"
      ],
      "text/plain": [
       "                                                    sms  label\n",
       "0     ذهاب جورونج نقط مجنو استفاد بوج عالم عظيم بوف ...      0\n",
       "1                                           طيب نكت لار      0\n",
       "2     دخول مجا ٢ كاس اتحاد نهاء ٢1 ٢005 871٢1 0845٢8...      1\n",
       "3                                     اقول وقت مبكر هور      0\n",
       "4                         ناه اعتقد جو اوسف عيش حول رغم      0\n",
       "...                                                 ...    ...\n",
       "5569  مر ٢ اتصل ٧٥٠ جايز ٢ مطالب 087١87٢7٢008 ١ ١0 ل...      1\n",
       "5570                                  ü اذهب متنزه منزل      0\n",
       "5571                                              يقترح      0\n",
       "5572    رجل كلب يتصرف معرف فايد شراء اسبوع قادم اعط مجا      0\n",
       "5573                                           اسم حقيق      0\n",
       "\n",
       "[5113 rows x 2 columns]"
      ]
     },
     "execution_count": 45,
     "metadata": {},
     "output_type": "execute_result"
    }
   ],
   "source": [
    "df"
   ]
  },
  {
   "cell_type": "code",
   "execution_count": 46,
   "id": "c7b09663",
   "metadata": {},
   "outputs": [
    {
     "name": "stdout",
     "output_type": "stream",
     "text": [
      "Training set shape: X=(3579,), y=(3579,)\n",
      "Testing set shape: X=(1534,), y=(1534,)\n"
     ]
    }
   ],
   "source": [
    "from sklearn.model_selection import train_test_split\n",
    "\n",
    "# Your data (X) and corresponding labels (y)\n",
    "X = df['sms']\n",
    "y = df['label']\n",
    "\n",
    "# Split the data into training and testing sets (70% train, 30% test)\n",
    "X_train, X_test, y_train, y_test = train_test_split(X, y, test_size=0.3, random_state=42)\n",
    "\n",
    "# Print the shapes of the resulting sets\n",
    "print(\"Training set shape: X={}, y={}\".format(X_train.shape, y_train.shape))\n",
    "print(\"Testing set shape: X={}, y={}\".format(X_test.shape, y_test.shape))\n"
   ]
  },
  {
   "cell_type": "code",
   "execution_count": 47,
   "id": "dfac3edf",
   "metadata": {},
   "outputs": [],
   "source": [
    "from arabert.preprocess import NEVER_SPLIT_TOKENS"
   ]
  },
  {
   "cell_type": "code",
   "execution_count": 48,
   "id": "61f4ca58",
   "metadata": {},
   "outputs": [
    {
     "name": "stdout",
     "output_type": "stream",
     "text": [
      "There are 1 GPU(s) available.\n",
      "We will use the GPU: NVIDIA GeForce GTX 1060 with Max-Q Design\n",
      "Thu Mar  2 01:13:19 2023       \n",
      "+-----------------------------------------------------------------------------+\n",
      "| NVIDIA-SMI 528.33       Driver Version: 528.33       CUDA Version: 12.0     |\n",
      "|-------------------------------+----------------------+----------------------+\n",
      "| GPU  Name            TCC/WDDM | Bus-Id        Disp.A | Volatile Uncorr. ECC |\n",
      "| Fan  Temp  Perf  Pwr:Usage/Cap|         Memory-Usage | GPU-Util  Compute M. |\n",
      "|                               |                      |               MIG M. |\n",
      "|===============================+======================+======================|\n",
      "|   0  NVIDIA GeForce ... WDDM  | 00000000:01:00.0 Off |                  N/A |\n",
      "| N/A   34C    P8     2W /  60W |     49MiB /  6144MiB |      0%      Default |\n",
      "|                               |                      |                  N/A |\n",
      "+-------------------------------+----------------------+----------------------+\n",
      "                                                                               \n",
      "+-----------------------------------------------------------------------------+\n",
      "| Processes:                                                                  |\n",
      "|  GPU   GI   CI        PID   Type   Process name                  GPU Memory |\n",
      "|        ID   ID                                                   Usage      |\n",
      "|=============================================================================|\n",
      "|    0   N/A  N/A      1132    C+G   ...8wekyb3d8bbwe\\Cortana.exe    N/A      |\n",
      "|    0   N/A  N/A      5856    C+G   ...6bftszj\\TranslucentTB.exe    N/A      |\n",
      "|    0   N/A  N/A      8916    C+G   ...artMenuExperienceHost.exe    N/A      |\n",
      "|    0   N/A  N/A     14412    C+G   ...5n1h2txyewy\\SearchApp.exe    N/A      |\n",
      "|    0   N/A  N/A     14756    C+G   ...5n1h2txyewy\\SearchApp.exe    N/A      |\n",
      "|    0   N/A  N/A     15656    C+G   ...aming\\Spotify\\Spotify.exe    N/A      |\n",
      "|    0   N/A  N/A     21320    C+G   ...2txyewy\\TextInputHost.exe    N/A      |\n",
      "+-----------------------------------------------------------------------------+\n"
     ]
    }
   ],
   "source": [
    "import torch\n",
    "\n",
    "# If there's a GPU available...\n",
    "if torch.cuda.is_available():    \n",
    "\n",
    "    # Tell PyTorch to use the GPU.    \n",
    "    device = torch.device(\"cuda\")\n",
    "\n",
    "    print('There are %d GPU(s) available.' % torch.cuda.device_count())\n",
    "\n",
    "    print('We will use the GPU:', torch.cuda.get_device_name(0))\n",
    "    !nvidia-smi\n",
    "\n",
    "# If not...\n",
    "else:\n",
    "    print('No GPU available, using the CPU instead.')\n",
    "    device = torch.device(\"cpu\")"
   ]
  },
  {
   "cell_type": "code",
   "execution_count": 49,
   "id": "cbad02fc",
   "metadata": {},
   "outputs": [],
   "source": [
    "import pandas as pd\n",
    "import numpy as np\n",
    "from typing import List\n",
    "from tqdm import tqdm_notebook as tqdm\n",
    "from sklearn.model_selection import train_test_split"
   ]
  },
  {
   "cell_type": "code",
   "execution_count": 50,
   "id": "4c6f8ce2",
   "metadata": {},
   "outputs": [],
   "source": [
    "class CustomDataset:\n",
    "    def __init__(\n",
    "        self,\n",
    "        name: str,\n",
    "        train: List[pd.DataFrame],\n",
    "        test: List[pd.DataFrame],\n",
    "        label_list: List[str],\n",
    "    ):\n",
    "        \"\"\"Class to hold and structure datasets.\n",
    "\n",
    "        Args:\n",
    "\n",
    "        name (str): holds the name of the dataset so we can select it later\n",
    "        train (List[pd.DataFrame]): holds training pandas dataframe with 2 columns [\"text\",\"label\"]\n",
    "        test (List[pd.DataFrame]): holds testing pandas dataframe with 2 columns [\"text\",\"label\"]\n",
    "        label_list (List[str]): holds the list  of labels\n",
    "        \"\"\"\n",
    "        self.name = name\n",
    "        self.train = train\n",
    "        self.test = test\n",
    "        self.label_list = label_list"
   ]
  },
  {
   "cell_type": "code",
   "execution_count": 51,
   "id": "93bf8121",
   "metadata": {},
   "outputs": [],
   "source": [
    "# This will hold all the downloaded and structred datasets\n",
    "all_datasets= []\n",
    "DATA_COLUMN = \"sms\"\n",
    "LABEL_COLUMN = \"label\""
   ]
  },
  {
   "cell_type": "code",
   "execution_count": 52,
   "id": "3703091c",
   "metadata": {},
   "outputs": [
    {
     "name": "stdout",
     "output_type": "stream",
     "text": [
      "0    4483\n",
      "1     630\n",
      "Name: label, dtype: int64\n",
      "[0, 1]\n",
      "Training length:  4601\n",
      "Testing length:  512\n"
     ]
    }
   ],
   "source": [
    "df.columns = [DATA_COLUMN, LABEL_COLUMN]\n",
    "print(df[LABEL_COLUMN].value_counts())\n",
    "\n",
    "label_list_dialect = list(df[LABEL_COLUMN].unique())\n",
    "print(label_list_dialect)\n",
    "\n",
    "train_dialect, test_dialect = train_test_split(df, test_size=0.1, random_state=42, stratify=df[LABEL_COLUMN] )\n",
    "\n",
    "print(\"Training length: \", len(train_dialect))\n",
    "print(\"Testing length: \", len(test_dialect))\n",
    "\n",
    "data_dialect = CustomDataset(\"Dialect\", train_dialect, test_dialect, label_list_dialect)"
   ]
  },
  {
   "cell_type": "code",
   "execution_count": 53,
   "id": "bfbf30e7",
   "metadata": {},
   "outputs": [],
   "source": [
    "import numpy as np\n",
    "import torch\n",
    "import random\n",
    "import matplotlib.pyplot as plt\n",
    "import copy\n",
    "\n",
    "from sklearn.metrics import (accuracy_score, classification_report,\n",
    "                             confusion_matrix, f1_score, precision_score,\n",
    "                             recall_score)\n",
    "from torch.utils.data import DataLoader, Dataset\n",
    "from transformers import (AutoConfig, AutoModelForSequenceClassification,\n",
    "                          AutoTokenizer, BertTokenizer, Trainer,\n",
    "                          TrainingArguments)\n",
    "from transformers.data.processors.utils import InputFeatures"
   ]
  },
  {
   "cell_type": "code",
   "execution_count": 54,
   "id": "69ddc2eb",
   "metadata": {},
   "outputs": [],
   "source": [
    "model_name = 'aubmindlab/bert-base-arabertv02' # we are going to use the twitter AraBERT since it has emojis and dialects\n"
   ]
  },
  {
   "cell_type": "code",
   "execution_count": 55,
   "id": "1302b34a",
   "metadata": {},
   "outputs": [],
   "source": [
    "from arabert.preprocess import ArabertPreprocessor\n"
   ]
  },
  {
   "cell_type": "code",
   "execution_count": 56,
   "id": "d8438f60",
   "metadata": {},
   "outputs": [],
   "source": [
    "arabic_prep = ArabertPreprocessor(model_name)\n",
    "\n",
    "data_dialect.train[DATA_COLUMN] = data_dialect.train[DATA_COLUMN].apply(lambda x: arabic_prep.preprocess(x))\n",
    "data_dialect.test[DATA_COLUMN] = data_dialect.test[DATA_COLUMN].apply(lambda x: arabic_prep.preprocess(x))  "
   ]
  },
  {
   "cell_type": "code",
   "execution_count": 57,
   "id": "8b00a3b6",
   "metadata": {},
   "outputs": [
    {
     "data": {
      "text/plain": [
       "['',\n",
       " 'مرحب انس ليل ماض هاتف ابتسام لقاء صديق قصير',\n",
       " 'ايم انت',\n",
       " '18150 373 1 6',\n",
       " 'تونج تتمنى ملك يوم عظيم ابيول',\n",
       " 'كوس لار ايم با داو طيب ساع 1 ظهر لور تسال ابد اذهب قال ستسال صديق قال تسال يوم',\n",
       " 'داه مان صفح تريد',\n",
       " 'مرحب مناقش استثناء حضور',\n",
       " 'نبدء سماع',\n",
       " 'اذهب غداء']"
      ]
     },
     "execution_count": 57,
     "metadata": {},
     "output_type": "execute_result"
    }
   ],
   "source": [
    "list(data_dialect.train[DATA_COLUMN][0:10])"
   ]
  },
  {
   "cell_type": "code",
   "execution_count": 58,
   "id": "46435c3b",
   "metadata": {},
   "outputs": [],
   "source": [
    "tok = AutoTokenizer.from_pretrained(model_name, \n",
    "                                    do_lower_case=False, \n",
    "                                    do_basic_tokenize=True,\n",
    "                                    never_split=NEVER_SPLIT_TOKENS)"
   ]
  },
  {
   "cell_type": "code",
   "execution_count": 59,
   "id": "ce46bfb1",
   "metadata": {},
   "outputs": [
    {
     "name": "stdout",
     "output_type": "stream",
     "text": [
      "Training Sentence Lengths: \n"
     ]
    },
    {
     "data": {
      "image/png": "[encoded data removed]",
      "text/plain": [
       "<Figure size 432x288 with 1 Axes>"
      ]
     },
     "metadata": {
      "needs_background": "light"
     },
     "output_type": "display_data"
    },
    {
     "name": "stdout",
     "output_type": "stream",
     "text": [
      "Testing Sentence Lengths: \n"
     ]
    },
    {
     "data": {
      "image/png": "[encoded data removed]",
      "text/plain": [
       "<Figure size 432x288 with 1 Axes>"
      ]
     },
     "metadata": {
      "needs_background": "light"
     },
     "output_type": "display_data"
    }
   ],
   "source": [
    "print(\"Training Sentence Lengths: \")\n",
    "plt.hist([ len(tok.tokenize(sentence)) for sentence in data_dialect.train[DATA_COLUMN].to_list()],bins=range(0,128,2))\n",
    "plt.show()\n",
    "\n",
    "print(\"Testing Sentence Lengths: \")\n",
    "plt.hist([ len(tok.tokenize(sentence)) for sentence in data_dialect.test[DATA_COLUMN].to_list()],bins=range(0,128,2))\n",
    "plt.show()"
   ]
  },
  {
   "cell_type": "code",
   "execution_count": 60,
   "id": "b6b3437f",
   "metadata": {},
   "outputs": [],
   "source": [
    "max_len = 32\n"
   ]
  },
  {
   "cell_type": "code",
   "execution_count": 61,
   "id": "11eb2275",
   "metadata": {},
   "outputs": [
    {
     "name": "stdout",
     "output_type": "stream",
     "text": [
      "Truncated training sequences:  2\n",
      "Truncated testing sequences:  2\n"
     ]
    }
   ],
   "source": [
    "print(\"Truncated training sequences: \", sum([len(tok.tokenize(sentence)) > max_len for sentence in data_dialect.test[DATA_COLUMN].to_list()]))\n",
    "\n",
    "print(\"Truncated testing sequences: \", sum([len(tok.tokenize(sentence)) > max_len for sentence in data_dialect.test[DATA_COLUMN].to_list()]))"
   ]
  },
  {
   "cell_type": "code",
   "execution_count": 62,
   "id": "bf058ae5",
   "metadata": {},
   "outputs": [],
   "source": [
    "class ClassificationDataset(Dataset):\n",
    "    def __init__(self, text, target, model_name, max_len, label_map):\n",
    "        super(ClassificationDataset).__init__()\n",
    "        \"\"\"\n",
    "        Args:\n",
    "        text (List[str]): List of the training text\n",
    "        target (List[str]): List of the training labels\n",
    "        tokenizer_name (str): The tokenizer name (same as model_name).\n",
    "        max_len (int): Maximum sentence length\n",
    "        label_map (Dict[str,int]): A dictionary that maps the class labels to integer\n",
    "        \"\"\"\n",
    "        self.text = text\n",
    "        self.target = target\n",
    "        self.tokenizer_name = model_name\n",
    "        self.tokenizer = AutoTokenizer.from_pretrained(model_name, \n",
    "                                                       do_lower_case=False, \n",
    "                                                       do_basic_tokenize=True,\n",
    "                                                       never_split=NEVER_SPLIT_TOKENS\n",
    ")\n",
    "        self.max_len = max_len\n",
    "        self.label_map = label_map\n",
    "      \n",
    "\n",
    "    def __len__(self):\n",
    "        return len(self.text)\n",
    "\n",
    "    def __getitem__(self,item):\n",
    "        text = str(self.text[item])\n",
    "        text = \" \".join(text.split())\n",
    "        \n",
    "        inputs = self.tokenizer(\n",
    "            text,\n",
    "            max_length=self.max_len,\n",
    "            padding='max_length',\n",
    "            truncation=True\n",
    "        )      \n",
    "        return InputFeatures(**inputs,label=self.label_map[self.target[item]])"
   ]
  },
  {
   "cell_type": "code",
   "execution_count": 63,
   "id": "1dee599b",
   "metadata": {},
   "outputs": [
    {
     "name": "stdout",
     "output_type": "stream",
     "text": [
      "{0: 0, 1: 1}\n"
     ]
    }
   ],
   "source": [
    "label_map = { v:index for index, v in enumerate(data_dialect.label_list) }\n",
    "print(label_map)\n",
    "\n",
    "train_dataset = ClassificationDataset(\n",
    "    data_dialect.train[DATA_COLUMN].to_list(),\n",
    "    data_dialect.train[LABEL_COLUMN].to_list(),\n",
    "    model_name,\n",
    "    max_len,\n",
    "    label_map\n",
    "  )\n",
    "test_dataset = ClassificationDataset(\n",
    "    data_dialect.test[DATA_COLUMN].to_list(),\n",
    "    data_dialect.test[LABEL_COLUMN].to_list(),\n",
    "    model_name,\n",
    "    max_len,\n",
    "    label_map\n",
    "  )"
   ]
  },
  {
   "cell_type": "code",
   "execution_count": 64,
   "id": "5ee9efb9",
   "metadata": {},
   "outputs": [
    {
     "name": "stdout",
     "output_type": "stream",
     "text": [
      "InputFeatures(input_ids=[2, 3, 0, 0, 0, 0, 0, 0, 0, 0, 0, 0, 0, 0, 0, 0, 0, 0, 0, 0, 0, 0, 0, 0, 0, 0, 0, 0, 0, 0, 0, 0], attention_mask=[1, 1, 0, 0, 0, 0, 0, 0, 0, 0, 0, 0, 0, 0, 0, 0, 0, 0, 0, 0, 0, 0, 0, 0, 0, 0, 0, 0, 0, 0, 0, 0], token_type_ids=[0, 0, 0, 0, 0, 0, 0, 0, 0, 0, 0, 0, 0, 0, 0, 0, 0, 0, 0, 0, 0, 0, 0, 0, 0, 0, 0, 0, 0, 0, 0, 0], label=0)\n"
     ]
    }
   ],
   "source": [
    "print(next(iter(train_dataset)))\n"
   ]
  },
  {
   "cell_type": "code",
   "execution_count": 65,
   "id": "e6f9e0e0",
   "metadata": {},
   "outputs": [],
   "source": [
    "def model_init():\n",
    "    return AutoModelForSequenceClassification.from_pretrained(model_name, return_dict=True, num_labels=len(label_map))"
   ]
  },
  {
   "cell_type": "code",
   "execution_count": 66,
   "id": "2f8337e7",
   "metadata": {},
   "outputs": [],
   "source": [
    "def compute_metrics(p): #p should be of type EvalPrediction\n",
    "    preds = np.argmax(p.predictions, axis=1)\n",
    "    assert len(preds) == len(p.label_ids)\n",
    "    #print(classification_report(p.label_ids,preds))\n",
    "    #print(confusion_matrix(p.label_ids,preds))\n",
    "    macro_f1 = f1_score(p.label_ids,preds,average='macro')\n",
    "    #macro_precision = precision_score(p.label_ids,preds,average='macro')\n",
    "    #macro_recall = recall_score(p.label_ids,preds,average='macro')\n",
    "    acc = accuracy_score(p.label_ids,preds)\n",
    "    return {       \n",
    "      'macro_f1' : macro_f1,\n",
    "      'accuracy': acc\n",
    "    }"
   ]
  },
  {
   "cell_type": "code",
   "execution_count": 67,
   "id": "fa5b79bc",
   "metadata": {},
   "outputs": [],
   "source": [
    "def set_seed(seed=42):\n",
    "    random.seed(seed)\n",
    "    np.random.seed(seed)\n",
    "    torch.manual_seed(seed)\n",
    "    torch.cuda.manual_seed(seed)\n",
    "    torch.cuda.manual_seed_all(seed)\n",
    "    torch.backends.cudnn.deterministic=False # turned from True to False\n",
    "    torch.backends.cudnn.benchmark = False"
   ]
  },
  {
   "cell_type": "code",
   "execution_count": 68,
   "id": "43716e21",
   "metadata": {},
   "outputs": [],
   "source": [
    "training_args = TrainingArguments( \n",
    "    output_dir= \"./train\",    \n",
    "    adam_epsilon = 1e-8,\n",
    "    learning_rate = 2e-5,\n",
    "    fp16 = False, # enable this when using V100 or T4 GPU\n",
    "    per_device_train_batch_size = 16, # up to 64 on 16GB with max len of 128\n",
    "    per_device_eval_batch_size = 128,\n",
    "    gradient_accumulation_steps = 2, # use this to scale batch size without needing more memory\n",
    "    num_train_epochs= 1,\n",
    "    warmup_ratio = 0,\n",
    "    do_eval = True,\n",
    "    evaluation_strategy = 'epoch',\n",
    "    save_strategy = 'epoch',\n",
    "    load_best_model_at_end = True, # this allows to automatically get the best model at the end based on whatever metric we want\n",
    "    metric_for_best_model = 'macro_f1',\n",
    "    greater_is_better = True,\n",
    "    seed = 25\n",
    "  )\n",
    "\n",
    "set_seed(training_args.seed)"
   ]
  },
  {
   "cell_type": "code",
   "execution_count": 69,
   "id": "39f688c2",
   "metadata": {},
   "outputs": [
    {
     "name": "stderr",
     "output_type": "stream",
     "text": [
      "Some weights of the model checkpoint at aubmindlab/bert-base-arabertv02 were not used when initializing BertForSequenceClassification: ['cls.predictions.transform.dense.weight', 'cls.seq_relationship.weight', 'cls.predictions.transform.LayerNorm.bias', 'cls.predictions.bias', 'cls.predictions.transform.LayerNorm.weight', 'cls.predictions.decoder.bias', 'cls.seq_relationship.bias', 'cls.predictions.transform.dense.bias', 'cls.predictions.decoder.weight']\n",
      "- This IS expected if you are initializing BertForSequenceClassification from the checkpoint of a model trained on another task or with another architecture (e.g. initializing a BertForSequenceClassification model from a BertForPreTraining model).\n",
      "- This IS NOT expected if you are initializing BertForSequenceClassification from the checkpoint of a model that you expect to be exactly identical (initializing a BertForSequenceClassification model from a BertForSequenceClassification model).\n",
      "Some weights of BertForSequenceClassification were not initialized from the model checkpoint at aubmindlab/bert-base-arabertv02 and are newly initialized: ['classifier.weight', 'classifier.bias']\n",
      "You should probably TRAIN this model on a down-stream task to be able to use it for predictions and inference.\n"
     ]
    }
   ],
   "source": [
    "trainer = Trainer(\n",
    "    model = model_init(),\n",
    "    args = training_args,\n",
    "    train_dataset = train_dataset,\n",
    "    eval_dataset=test_dataset,\n",
    "    compute_metrics=compute_metrics,\n",
    ")"
   ]
  },
  {
   "cell_type": "code",
   "execution_count": 70,
   "id": "10814477",
   "metadata": {},
   "outputs": [
    {
     "name": "stderr",
     "output_type": "stream",
     "text": [
      "F:\\Conda\\lib\\site-packages\\transformers\\optimization.py:306: FutureWarning: This implementation of AdamW is deprecated and will be removed in a future version. Use the PyTorch implementation torch.optim.AdamW instead, or set `no_deprecation_warning=True` to disable this warning\n",
      "  warnings.warn(\n",
      "***** Running training *****\n",
      "  Num examples = 4601\n",
      "  Num Epochs = 1\n",
      "  Instantaneous batch size per device = 16\n",
      "  Total train batch size (w. parallel, distributed & accumulation) = 32\n",
      "  Gradient Accumulation steps = 2\n",
      "  Total optimization steps = 144\n",
      "  Number of trainable parameters = 135194882\n"
     ]
    },
    {
     "data": {
      "text/html": [
       "\n",
       "    <div>\n",
       "      \n",
       "      <progress value='144' max='144' style='width:300px; height:20px; vertical-align: middle;'></progress>\n",
       "      [144/144 01:00, Epoch 1/1]\n",
       "    </div>\n",
       "    <table border=\"1\" class=\"dataframe\">\n",
       "  <thead>\n",
       " <tr style=\"text-align: left;\">\n",
       "      <th>Epoch</th>\n",
       "      <th>Training Loss</th>\n",
       "      <th>Validation Loss</th>\n",
       "      <th>Macro F1</th>\n",
       "      <th>Accuracy</th>\n",
       "    </tr>\n",
       "  </thead>\n",
       "  <tbody>\n",
       "    <tr>\n",
       "      <td>1</td>\n",
       "      <td>No log</td>\n",
       "      <td>0.080674</td>\n",
       "      <td>0.943363</td>\n",
       "      <td>0.976562</td>\n",
       "    </tr>\n",
       "  </tbody>\n",
       "</table><p>"
      ],
      "text/plain": [
       "<IPython.core.display.HTML object>"
      ]
     },
     "metadata": {},
     "output_type": "display_data"
    },
    {
     "name": "stderr",
     "output_type": "stream",
     "text": [
      "***** Running Evaluation *****\n",
      "  Num examples = 512\n",
      "  Batch size = 128\n",
      "Saving model checkpoint to ./train\\checkpoint-144\n",
      "Configuration saved in ./train\\checkpoint-144\\config.json\n",
      "Model weights saved in ./train\\checkpoint-144\\pytorch_model.bin\n",
      "\n",
      "\n",
      "Training completed. Do not forget to share your model on huggingface.co/models =)\n",
      "\n",
      "\n",
      "Loading best model from ./train\\checkpoint-144 (score: 0.9433628318584071).\n"
     ]
    },
    {
     "data": {
      "text/plain": [
       "TrainOutput(global_step=144, training_loss=0.1207813024520874, metrics={'train_runtime': 87.7734, 'train_samples_per_second': 52.419, 'train_steps_per_second': 1.641, 'total_flos': 75660872856960.0, 'train_loss': 0.1207813024520874, 'epoch': 1.0})"
      ]
     },
     "execution_count": 70,
     "metadata": {},
     "output_type": "execute_result"
    }
   ],
   "source": [
    "trainer.train()\n"
   ]
  },
  {
   "cell_type": "code",
   "execution_count": 71,
   "id": "14f4b7f2",
   "metadata": {},
   "outputs": [
    {
     "name": "stderr",
     "output_type": "stream",
     "text": [
      "Saving model checkpoint to output_dir\n",
      "Configuration saved in output_dir\\config.json\n",
      "Model weights saved in output_dir\\pytorch_model.bin\n",
      "tokenizer config file saved in output_dir\\tokenizer_config.json\n",
      "Special tokens file saved in output_dir\\special_tokens_map.json\n"
     ]
    },
    {
     "data": {
      "text/plain": [
       "('output_dir\\\\tokenizer_config.json',\n",
       " 'output_dir\\\\special_tokens_map.json',\n",
       " 'output_dir\\\\vocab.txt',\n",
       " 'output_dir\\\\added_tokens.json',\n",
       " 'output_dir\\\\tokenizer.json')"
      ]
     },
     "execution_count": 71,
     "metadata": {},
     "output_type": "execute_result"
    }
   ],
   "source": [
    "label_map = {\"label1\": 0, \"label2\": 1}\n",
    "inv_label_map = {v: k for k, v in label_map.items()}\n",
    "\n",
    "trainer.model.config.label2id = label_map\n",
    "trainer.model.config.id2label = inv_label_map\n",
    "\n",
    "trainer.save_model(\"output_dir\")\n",
    "train_dataset.tokenizer.save_pretrained(\"output_dir\")\n"
   ]
  },
  {
   "cell_type": "code",
   "execution_count": null,
   "id": "f26e19c7",
   "metadata": {},
   "outputs": [],
   "source": []
  },
  {
   "cell_type": "code",
   "execution_count": 72,
   "id": "d64cd417",
   "metadata": {},
   "outputs": [],
   "source": [
    "import pickle\n",
    "\n",
    "# Save model\n",
    "with open(\"output_dir.pkl\", \"wb\") as f:\n",
    "    pickle.dump(trainer.model, f)\n",
    "\n",
    "# Save tokenizer\n",
    "with open(\"output_dir.pkl\", \"wb\") as f:\n",
    "    pickle.dump(train_dataset.tokenizer, f)\n"
   ]
  },
  {
   "cell_type": "code",
   "execution_count": 73,
   "id": "8af0b9ae",
   "metadata": {},
   "outputs": [],
   "source": [
    "import pickle\n",
    "\n",
    "# Load model\n",
    "with open(\"output_dir.pkl\", \"rb\") as f:\n",
    "    model = pickle.load(f)\n",
    "\n",
    "# Load tokenizer\n",
    "with open(\"output_dir.pkl\", \"rb\") as f:\n",
    "    tokenizer = pickle.load(f)\n"
   ]
  },
  {
   "cell_type": "code",
   "execution_count": 74,
   "id": "884f2721",
   "metadata": {},
   "outputs": [],
   "source": [
    "import numpy as np\n",
    "import pandas as pd\n",
    "import pickle\n",
    "import re\n",
    "import seaborn as sns\n",
    "import matplotlib.pyplot as plt\n",
    "\n",
    "from sklearn.model_selection import train_test_split\n",
    "\n",
    "from sklearn.metrics import accuracy_score\n",
    "from sklearn.metrics import confusion_matrix, ConfusionMatrixDisplay, f1_score, classification_report\n",
    "\n",
    "from transformers import pipeline\n",
    "import more_itertools\n",
    "from typing import List\n",
    "from tqdm import tqdm\n"
   ]
  },
  {
   "cell_type": "code",
   "execution_count": 75,
   "id": "62caafeb",
   "metadata": {},
   "outputs": [],
   "source": [
    "#!pip install more_itertools"
   ]
  },
  {
   "cell_type": "code",
   "execution_count": 76,
   "id": "4885302b",
   "metadata": {},
   "outputs": [],
   "source": [
    "class CustomDataset:\n",
    "    def __init__(\n",
    "        self,\n",
    "        name: str,\n",
    "        train: List[pd.DataFrame],\n",
    "        test: List[pd.DataFrame],\n",
    "        label_list: List[str],\n",
    "    ):\n",
    "        \"\"\"Class to hold and structure datasets.\n",
    "\n",
    "        Args:\n",
    "\n",
    "        name (str): holds the name of the dataset so we can select it later\n",
    "        train (List[pd.DataFrame]): holds training pandas dataframe with 2 columns [\"text\",\"label\"]\n",
    "        test (List[pd.DataFrame]): holds testing pandas dataframe with 2 columns [\"text\",\"label\"]\n",
    "        label_list (List[str]): holds the list  of labels\n",
    "        \"\"\"\n",
    "        self.name = name\n",
    "        self.train = train\n",
    "        self.test = test\n",
    "        self.label_list = label_list"
   ]
  },
  {
   "cell_type": "code",
   "execution_count": 77,
   "id": "2048d1fa",
   "metadata": {},
   "outputs": [],
   "source": [
    "DATA_COLUMN = \"sms\"\n",
    "LABEL_COLUMN = \"label\""
   ]
  },
  {
   "cell_type": "code",
   "execution_count": 78,
   "id": "b174049a",
   "metadata": {},
   "outputs": [
    {
     "name": "stdout",
     "output_type": "stream",
     "text": [
      "0    4483\n",
      "1     630\n",
      "Name: label, dtype: int64\n",
      "[0, 1]\n",
      "Training length:  4601\n",
      "Testing length:  512\n"
     ]
    }
   ],
   "source": [
    "df.columns = [DATA_COLUMN, LABEL_COLUMN]\n",
    "print(df[LABEL_COLUMN].value_counts())\n",
    "\n",
    "label_list_dialect = list(df[LABEL_COLUMN].unique())\n",
    "print(label_list_dialect)\n",
    "\n",
    "train_dialect, test_dialect = train_test_split(df, test_size=0.1, random_state=42, stratify=df[LABEL_COLUMN] )\n",
    "\n",
    "print(\"Training length: \", len(train_dialect))\n",
    "print(\"Testing length: \", len(test_dialect))\n",
    "\n",
    "data_dialect = CustomDataset(\"Dialect\", train_dialect, test_dialect, label_list_dialect)"
   ]
  },
  {
   "cell_type": "code",
   "execution_count": 79,
   "id": "187b18e6",
   "metadata": {},
   "outputs": [
    {
     "name": "stdout",
     "output_type": "stream",
     "text": [
      "{0: 0, 1: 1}\n"
     ]
    }
   ],
   "source": [
    "\n",
    "label_map = { v:index for index, v in enumerate(data_dialect.label_list) }\n",
    "print(label_map)\n",
    "inv_label_map = { v:k for k, v in label_map.items()}\n"
   ]
  },
  {
   "cell_type": "code",
   "execution_count": 80,
   "id": "e0c082e5",
   "metadata": {},
   "outputs": [],
   "source": [
    "pred_df = pd.DataFrame([])\n",
    "pred_df[DATA_COLUMN] = data_dialect.test[DATA_COLUMN].copy()\n",
    "# max_len = 32"
   ]
  },
  {
   "cell_type": "code",
   "execution_count": 81,
   "id": "34803484",
   "metadata": {},
   "outputs": [
    {
     "name": "stderr",
     "output_type": "stream",
     "text": [
      "loading configuration file output_dir\\config.json\n",
      "Model config BertConfig {\n",
      "  \"_name_or_path\": \"output_dir\",\n",
      "  \"architectures\": [\n",
      "    \"BertForSequenceClassification\"\n",
      "  ],\n",
      "  \"attention_probs_dropout_prob\": 0.1,\n",
      "  \"classifier_dropout\": null,\n",
      "  \"hidden_act\": \"gelu\",\n",
      "  \"hidden_dropout_prob\": 0.1,\n",
      "  \"hidden_size\": 768,\n",
      "  \"id2label\": {\n",
      "    \"0\": \"label1\",\n",
      "    \"1\": \"label2\"\n",
      "  },\n",
      "  \"initializer_range\": 0.02,\n",
      "  \"intermediate_size\": 3072,\n",
      "  \"label2id\": {\n",
      "    \"label1\": 0,\n",
      "    \"label2\": 1\n",
      "  },\n",
      "  \"layer_norm_eps\": 1e-12,\n",
      "  \"max_position_embeddings\": 512,\n",
      "  \"model_type\": \"bert\",\n",
      "  \"num_attention_heads\": 12,\n",
      "  \"num_hidden_layers\": 12,\n",
      "  \"pad_token_id\": 0,\n",
      "  \"position_embedding_type\": \"absolute\",\n",
      "  \"problem_type\": \"single_label_classification\",\n",
      "  \"torch_dtype\": \"float32\",\n",
      "  \"transformers_version\": \"4.25.1\",\n",
      "  \"type_vocab_size\": 2,\n",
      "  \"use_cache\": true,\n",
      "  \"vocab_size\": 64000\n",
      "}\n",
      "\n",
      "loading configuration file output_dir\\config.json\n",
      "Model config BertConfig {\n",
      "  \"_name_or_path\": \"output_dir\",\n",
      "  \"architectures\": [\n",
      "    \"BertForSequenceClassification\"\n",
      "  ],\n",
      "  \"attention_probs_dropout_prob\": 0.1,\n",
      "  \"classifier_dropout\": null,\n",
      "  \"hidden_act\": \"gelu\",\n",
      "  \"hidden_dropout_prob\": 0.1,\n",
      "  \"hidden_size\": 768,\n",
      "  \"id2label\": {\n",
      "    \"0\": \"label1\",\n",
      "    \"1\": \"label2\"\n",
      "  },\n",
      "  \"initializer_range\": 0.02,\n",
      "  \"intermediate_size\": 3072,\n",
      "  \"label2id\": {\n",
      "    \"label1\": 0,\n",
      "    \"label2\": 1\n",
      "  },\n",
      "  \"layer_norm_eps\": 1e-12,\n",
      "  \"max_position_embeddings\": 512,\n",
      "  \"model_type\": \"bert\",\n",
      "  \"num_attention_heads\": 12,\n",
      "  \"num_hidden_layers\": 12,\n",
      "  \"pad_token_id\": 0,\n",
      "  \"position_embedding_type\": \"absolute\",\n",
      "  \"problem_type\": \"single_label_classification\",\n",
      "  \"torch_dtype\": \"float32\",\n",
      "  \"transformers_version\": \"4.25.1\",\n",
      "  \"type_vocab_size\": 2,\n",
      "  \"use_cache\": true,\n",
      "  \"vocab_size\": 64000\n",
      "}\n",
      "\n",
      "loading weights file output_dir\\pytorch_model.bin\n",
      "All model checkpoint weights were used when initializing BertForSequenceClassification.\n",
      "\n",
      "All the weights of BertForSequenceClassification were initialized from the model checkpoint at output_dir.\n",
      "If your task is similar to the task the model of the checkpoint was trained on, you can already use BertForSequenceClassification for predictions without further training.\n",
      "loading file vocab.txt\n",
      "loading file tokenizer.json\n",
      "loading file added_tokens.json\n",
      "loading file special_tokens_map.json\n",
      "loading file tokenizer_config.json\n",
      "F:\\Conda\\lib\\site-packages\\transformers\\pipelines\\text_classification.py:104: UserWarning: `return_all_scores` is now deprecated,  if want a similar funcionality use `top_k=None` instead of `return_all_scores=True` or `top_k=1` instead of `return_all_scores=False`.\n",
      "  warnings.warn(\n",
      "  2%|█▍                                                                                | 9/512 [00:00<00:13, 38.26it/s]F:\\Conda\\lib\\site-packages\\transformers\\pipelines\\base.py:1043: UserWarning: You seem to be using the pipelines sequentially on GPU. In order to maximize efficiency please use a dataset\n",
      "  warnings.warn(\n",
      "100%|████████████████████████████████████████████████████████████████████████████████| 512/512 [00:07<00:00, 72.62it/s]\n"
     ]
    }
   ],
   "source": [
    "pipe = pipeline(\"text-classification\", model=\"output_dir\", device=0, return_all_scores =False) # max_length=max_len, truncation=True\n",
    "preds = []\n",
    "for s in tqdm(pred_df[DATA_COLUMN].to_list()):\n",
    "    preds.append(pipe(s)[0][\"label\"])"
   ]
  },
  {
   "cell_type": "code",
   "execution_count": 82,
   "id": "c48e6e3a",
   "metadata": {},
   "outputs": [
    {
     "data": {
      "text/html": [
       "<div>\n",
       "<style scoped>\n",
       "    .dataframe tbody tr th:only-of-type {\n",
       "        vertical-align: middle;\n",
       "    }\n",
       "\n",
       "    .dataframe tbody tr th {\n",
       "        vertical-align: top;\n",
       "    }\n",
       "\n",
       "    .dataframe thead th {\n",
       "        text-align: right;\n",
       "    }\n",
       "</style>\n",
       "<table border=\"1\" class=\"dataframe\">\n",
       "  <thead>\n",
       "    <tr style=\"text-align: right;\">\n",
       "      <th></th>\n",
       "      <th>sms</th>\n",
       "      <th>Prediction</th>\n",
       "    </tr>\n",
       "  </thead>\n",
       "  <tbody>\n",
       "    <tr>\n",
       "      <th>951</th>\n",
       "      <td>اعرف حول</td>\n",
       "      <td>label1</td>\n",
       "    </tr>\n",
       "    <tr>\n",
       "      <th>4763</th>\n",
       "      <td>ليل الحب</td>\n",
       "      <td>label1</td>\n",
       "    </tr>\n",
       "    <tr>\n",
       "      <th>5121</th>\n",
       "      <td>قال لول حقيق لسرط اب</td>\n",
       "      <td>label1</td>\n",
       "    </tr>\n",
       "    <tr>\n",
       "      <th>2730</th>\n",
       "      <td>نداء عاجل اتصل ٠٩٠٦٦٦١٢٦٦١ ٤ ١٠٠٠ ١٥٠ ٢٨ 7٤</td>\n",
       "      <td>label2</td>\n",
       "    </tr>\n",
       "    <tr>\n",
       "      <th>1208</th>\n",
       "      <td>تحتاج ذراع قو</td>\n",
       "      <td>label1</td>\n",
       "    </tr>\n",
       "    <tr>\n",
       "      <th>...</th>\n",
       "      <td>...</td>\n",
       "      <td>...</td>\n",
       "    </tr>\n",
       "    <tr>\n",
       "      <th>1295</th>\n",
       "      <td></td>\n",
       "      <td>label1</td>\n",
       "    </tr>\n",
       "    <tr>\n",
       "      <th>2460</th>\n",
       "      <td>يعن كلام يقول اجعل التح</td>\n",
       "      <td>label1</td>\n",
       "    </tr>\n",
       "    <tr>\n",
       "      <th>1408</th>\n",
       "      <td>يجب</td>\n",
       "      <td>label1</td>\n",
       "    </tr>\n",
       "    <tr>\n",
       "      <th>5557</th>\n",
       "      <td>هند لطيف ٤ ٢ ٢ ٤ ضحك قريب الحب</td>\n",
       "      <td>label1</td>\n",
       "    </tr>\n",
       "    <tr>\n",
       "      <th>1166</th>\n",
       "      <td>هاه انظر</td>\n",
       "      <td>label1</td>\n",
       "    </tr>\n",
       "  </tbody>\n",
       "</table>\n",
       "<p>512 rows × 2 columns</p>\n",
       "</div>"
      ],
      "text/plain": [
       "                                              sms Prediction\n",
       "951                                      اعرف حول     label1\n",
       "4763                                     ليل الحب     label1\n",
       "5121                         قال لول حقيق لسرط اب     label1\n",
       "2730  نداء عاجل اتصل ٠٩٠٦٦٦١٢٦٦١ ٤ ١٠٠٠ ١٥٠ ٢٨ 7٤     label2\n",
       "1208                                تحتاج ذراع قو     label1\n",
       "...                                           ...        ...\n",
       "1295                                                  label1\n",
       "2460                      يعن كلام يقول اجعل التح     label1\n",
       "1408                                          يجب     label1\n",
       "5557               هند لطيف ٤ ٢ ٢ ٤ ضحك قريب الحب     label1\n",
       "1166                                     هاه انظر     label1\n",
       "\n",
       "[512 rows x 2 columns]"
      ]
     },
     "execution_count": 82,
     "metadata": {},
     "output_type": "execute_result"
    }
   ],
   "source": [
    "pred_df[\"Prediction\"] = preds\n",
    "pred_df"
   ]
  },
  {
   "cell_type": "code",
   "execution_count": 83,
   "id": "71b23426",
   "metadata": {},
   "outputs": [],
   "source": [
    "pred_df['Prediction'] = pred_df['Prediction'].replace({\"label1\": 0, \"label2\": 1})\n"
   ]
  },
  {
   "cell_type": "code",
   "execution_count": 84,
   "id": "b9658155",
   "metadata": {},
   "outputs": [
    {
     "data": {
      "text/html": [
       "<div>\n",
       "<style scoped>\n",
       "    .dataframe tbody tr th:only-of-type {\n",
       "        vertical-align: middle;\n",
       "    }\n",
       "\n",
       "    .dataframe tbody tr th {\n",
       "        vertical-align: top;\n",
       "    }\n",
       "\n",
       "    .dataframe thead th {\n",
       "        text-align: right;\n",
       "    }\n",
       "</style>\n",
       "<table border=\"1\" class=\"dataframe\">\n",
       "  <thead>\n",
       "    <tr style=\"text-align: right;\">\n",
       "      <th></th>\n",
       "      <th>sms</th>\n",
       "      <th>Prediction</th>\n",
       "    </tr>\n",
       "  </thead>\n",
       "  <tbody>\n",
       "    <tr>\n",
       "      <th>951</th>\n",
       "      <td>اعرف حول</td>\n",
       "      <td>0</td>\n",
       "    </tr>\n",
       "    <tr>\n",
       "      <th>4763</th>\n",
       "      <td>ليل الحب</td>\n",
       "      <td>0</td>\n",
       "    </tr>\n",
       "    <tr>\n",
       "      <th>5121</th>\n",
       "      <td>قال لول حقيق لسرط اب</td>\n",
       "      <td>0</td>\n",
       "    </tr>\n",
       "    <tr>\n",
       "      <th>2730</th>\n",
       "      <td>نداء عاجل اتصل ٠٩٠٦٦٦١٢٦٦١ ٤ ١٠٠٠ ١٥٠ ٢٨ 7٤</td>\n",
       "      <td>1</td>\n",
       "    </tr>\n",
       "    <tr>\n",
       "      <th>1208</th>\n",
       "      <td>تحتاج ذراع قو</td>\n",
       "      <td>0</td>\n",
       "    </tr>\n",
       "    <tr>\n",
       "      <th>...</th>\n",
       "      <td>...</td>\n",
       "      <td>...</td>\n",
       "    </tr>\n",
       "    <tr>\n",
       "      <th>1295</th>\n",
       "      <td></td>\n",
       "      <td>0</td>\n",
       "    </tr>\n",
       "    <tr>\n",
       "      <th>2460</th>\n",
       "      <td>يعن كلام يقول اجعل التح</td>\n",
       "      <td>0</td>\n",
       "    </tr>\n",
       "    <tr>\n",
       "      <th>1408</th>\n",
       "      <td>يجب</td>\n",
       "      <td>0</td>\n",
       "    </tr>\n",
       "    <tr>\n",
       "      <th>5557</th>\n",
       "      <td>هند لطيف ٤ ٢ ٢ ٤ ضحك قريب الحب</td>\n",
       "      <td>0</td>\n",
       "    </tr>\n",
       "    <tr>\n",
       "      <th>1166</th>\n",
       "      <td>هاه انظر</td>\n",
       "      <td>0</td>\n",
       "    </tr>\n",
       "  </tbody>\n",
       "</table>\n",
       "<p>512 rows × 2 columns</p>\n",
       "</div>"
      ],
      "text/plain": [
       "                                              sms  Prediction\n",
       "951                                      اعرف حول           0\n",
       "4763                                     ليل الحب           0\n",
       "5121                         قال لول حقيق لسرط اب           0\n",
       "2730  نداء عاجل اتصل ٠٩٠٦٦٦١٢٦٦١ ٤ ١٠٠٠ ١٥٠ ٢٨ 7٤           1\n",
       "1208                                تحتاج ذراع قو           0\n",
       "...                                           ...         ...\n",
       "1295                                                        0\n",
       "2460                      يعن كلام يقول اجعل التح           0\n",
       "1408                                          يجب           0\n",
       "5557               هند لطيف ٤ ٢ ٢ ٤ ضحك قريب الحب           0\n",
       "1166                                     هاه انظر           0\n",
       "\n",
       "[512 rows x 2 columns]"
      ]
     },
     "execution_count": 84,
     "metadata": {},
     "output_type": "execute_result"
    }
   ],
   "source": [
    "pred_df"
   ]
  },
  {
   "cell_type": "code",
   "execution_count": 88,
   "id": "7a9a2ff4",
   "metadata": {},
   "outputs": [
    {
     "data": {
      "text/plain": [
       "<Figure size 432x288 with 0 Axes>"
      ]
     },
     "metadata": {},
     "output_type": "display_data"
    }
   ],
   "source": [
    "import os\n",
    "...\n",
    "if not os.path.exists('Models'):\n",
    "    os.mkdir('Models')\n",
    "plt.savefig(\"Models/\"+modelname+'_results.png', dpi=150, bbox_inches='tight')\n"
   ]
  },
  {
   "cell_type": "code",
   "execution_count": 86,
   "id": "95c8067b",
   "metadata": {},
   "outputs": [
    {
     "name": "stdout",
     "output_type": "stream",
     "text": [
      "Test accuracy = 0.98046875\n",
      "              precision    recall  f1-score   support\n",
      "\n",
      "           0       0.98      0.99      0.99       449\n",
      "           1       0.95      0.89      0.92        63\n",
      "\n",
      "    accuracy                           0.98       512\n",
      "   macro avg       0.97      0.94      0.95       512\n",
      "weighted avg       0.98      0.98      0.98       512\n",
      "\n"
     ]
    },
    {
     "data": {
      "image/png": "[encoded data removed]",
      "text/plain": [
       "<Figure size 2160x1080 with 2 Axes>"
      ]
     },
     "metadata": {
      "needs_background": "light"
     },
     "output_type": "display_data"
    }
   ],
   "source": [
    "y_test = data_dialect.test[LABEL_COLUMN]\n",
    "y_test_pred = pred_df[\"Prediction\"]\n",
    "modelname = \"AraBERT\"\n",
    "\n",
    "# Check test accuracy\n",
    "test_accuracy = accuracy_score(y_test, y_test_pred)\n",
    "print('Test accuracy = {}'.format(test_accuracy))\n",
    "\n",
    "## Show results\n",
    "print(classification_report(y_test, y_test_pred))\n",
    "\n",
    "fig, ax = plt.subplots(1,1,figsize= (30,15))\n",
    "ConfusionMatrixDisplay(confusion_matrix(y_test, y_test_pred ,normalize ='true' ), display_labels=label_list_dialect).plot(ax=ax);\n",
    "ax.set_title(f\"[{modelname}] Test Confusion Matrix\\nf1_score: {f1_score(y_test, y_test_pred, average='micro')}\",font ={'weight' : 'bold'})\n",
    "ax.set_xlabel('Predictions dialect',font ={'weight' : 'bold'})\n",
    "ax.set_ylabel('Actual dialect',font ={'weight' : 'bold'})\n",
    "plt.savefig(\"Models/\"+modelname+'_results.png', dpi=150, bbox_inches='tight')\n",
    "plt.show()"
   ]
  },
  {
   "cell_type": "code",
   "execution_count": 87,
   "id": "014b594b",
   "metadata": {},
   "outputs": [
    {
     "name": "stdout",
     "output_type": "stream",
     "text": [
      "Matthews Correlation Coefficient (MCC): 0.907588579032124\n"
     ]
    }
   ],
   "source": [
    "from sklearn.metrics import matthews_corrcoef\n",
    "\n",
    "# load your predicted and actual labels\n",
    "# calculate the Matthews Correlation Coefficient (MCC)\n",
    "mcc = matthews_corrcoef(y_test, y_test_pred)\n",
    "\n",
    "# print the MCC score\n",
    "print(\"Matthews Correlation Coefficient (MCC):\", mcc)\n"
   ]
  },
  {
   "cell_type": "code",
   "execution_count": null,
   "id": "7d104924",
   "metadata": {},
   "outputs": [],
   "source": []
  }
 ],
 "metadata": {
  "kernelspec": {
   "display_name": "Python 3 (ipykernel)",
   "language": "python",
   "name": "python3"
  },
  "language_info": {
   "codemirror_mode": {
    "name": "ipython",
    "version": 3
   },
   "file_extension": ".py",
   "mimetype": "text/x-python",
   "name": "python",
   "nbconvert_exporter": "python",
   "pygments_lexer": "ipython3",
   "version": "3.9.12"
  }
 },
 "nbformat": 4,
 "nbformat_minor": 5
}
